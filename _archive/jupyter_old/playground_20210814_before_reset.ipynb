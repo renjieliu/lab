{
 "cells": [
  {
   "cell_type": "code",
   "execution_count": null,
   "metadata": {
    "colab": {},
    "colab_type": "code",
    "id": "CuvGBaI7Uu6A",
    "scrolled": true
   },
   "outputs": [],
   "source": [
    "# !pip3 install vega_datasets\n",
    "# !pip3 install altair\n",
    "# !pip3 install Faker\n",
    "# !pip3 install sortedcontainers"
   ]
  },
  {
   "cell_type": "code",
   "execution_count": null,
   "metadata": {
    "colab": {},
    "colab_type": "code",
    "id": "VwpLNfNsUu6K",
    "scrolled": true
   },
   "outputs": [],
   "source": [
    "import random\n",
    "import numpy as np\n",
    "import zipfile\n",
    "import pandas as pd\n",
    "import time\n",
    "import timeit\n",
    "# import altair as alt\n",
    "# from vega_datasets import data\n",
    "import matplotlib.pyplot as plt\n",
    "import json\n",
    "import pickle\n",
    "from faker import Faker, Factory\n",
    "import re\n",
    "import dis\n",
    "import sqlite3\n",
    "import os\n",
    "# import array\n",
    "# from kazoo.client import KazooClient\n",
    "import base64\n",
    "# from PIL import Image\n",
    "# import cv2\n",
    "# import tensorflow as tf\n",
    "# from tensorflow.keras.models import load_model\n",
    "import datetime\n",
    "import heapq\n",
    "from sortedcontainers import SortedDict"
   ]
  },
  {
   "cell_type": "markdown",
   "metadata": {
    "colab_type": "text",
    "id": "jgdzqWmFUu6Q"
   },
   "source": [
    "### CODE Should Start From Below"
   ]
  },
  {
   "cell_type": "code",
   "execution_count": 37,
   "metadata": {},
   "outputs": [
    {
     "name": "stdout",
     "output_type": "stream",
     "text": [
      "[-99429, -95008, -93987, -92623, -92033, -90658, -89103, -88782, -87615, -87515, -83749, -82376, -79203, -79028, -74681, -73080, -70319, -67059, -66970, -64722, -62076, -56070, -51487, -50867, -47717, -43871, -43032, -42257, -41748, -38341, -38027, -33653, -31185, -30972, -30186, -28307, -24236, -21705, -21027, -19081, -18975, -18380, -18177, -15292, -9825, -6595, -6592, -4574, 5885, 8239, 8276, 10069, 11922, 14556, 15657, 17179, 19052, 23525, 23956, 24301, 27142, 28818, 29331, 31454, 31857, 32484, 32714, 40579, 46904, 49561, 49592, 51132, 52797, 53068, 53105, 56372, 56702, 56812, 58276, 61503, 62317, 62554, 63099, 65455, 68869, 70281, 71484, 74285, 75089, 75840, 76376, 82433, 83331, 83719, 84916, 85574, 86878, 89477, 98031, 99708]\n"
     ]
    }
   ],
   "source": [
    "start = -100000\n",
    "end = 100000\n",
    "count = 100\n",
    "print(sorted(list(np.random.randint(start, end, count))))\n"
   ]
  },
  {
   "cell_type": "markdown",
   "metadata": {},
   "source": [
    "### Above codes are used to generate random array"
   ]
  },
  {
   "cell_type": "markdown",
   "metadata": {},
   "source": [
    "***"
   ]
  },
  {
   "cell_type": "code",
   "execution_count": 53,
   "metadata": {},
   "outputs": [
    {
     "data": {
      "text/plain": [
       "-9.467437405329203"
      ]
     },
     "execution_count": 53,
     "metadata": {},
     "output_type": "execute_result"
    }
   ],
   "source": [
    "-(21-133**0.5)"
   ]
  },
  {
   "cell_type": "code",
   "execution_count": null,
   "metadata": {},
   "outputs": [],
   "source": []
  },
  {
   "cell_type": "code",
   "execution_count": 81,
   "metadata": {},
   "outputs": [
    {
     "name": "stdout",
     "output_type": "stream",
     "text": [
      "11.76103 -3.91628\n",
      "1.00169 -3.22065\n"
     ]
    },
    {
     "data": {
      "text/plain": [
       "(array([11.76103, -3.91628]), array([ 1.00169, -3.22065]))"
      ]
     },
     "execution_count": 81,
     "metadata": {},
     "output_type": "execute_result"
    }
   ],
   "source": [
    "import math\n",
    "import numpy as np\n",
    "def insec(p1,r1,p2,r2):\n",
    "    x = p1[0]\n",
    "    y = p1[1]\n",
    "    R = r1\n",
    "    a = p2[0]\n",
    "    b = p2[1]\n",
    "    S = r2\n",
    "    d = math.sqrt((abs(a-x))**2 + (abs(b-y))**2)\n",
    "    if d > (R+S) or d < (abs(R-S)):\n",
    "        print (\"Two circles have no intersection\")\n",
    "        return \n",
    "    elif d == 0 and R==S :\n",
    "        print (\"Two circles have same center!\")\n",
    "        return\n",
    "    else:\n",
    "        A = (R**2 - S**2 + d**2) / (2 * d)\n",
    "        h = math.sqrt(R**2 - A**2)\n",
    "        x2 = x + A * (a-x)/d\n",
    "        y2 = y + A * (b-y)/d\n",
    "        x3 = round(x2 - h * (b - y) / d,5)\n",
    "        y3 = round(y2 + h * (a - x) / d,5)\n",
    "        x4 = round(x2 + h * (b - y) / d,5)\n",
    "        y4 = round(y2 - h * (a - x) / d,5)\n",
    "        print (x3, y3)\n",
    "        print (x4, y4)\n",
    "        c1=np.array([x3, y3])\n",
    "        c2=np.array([x4, y4])\n",
    "        return c1,c2\n",
    "\n",
    "insec([7,6], 11, [6,-9.467], 8)   \n",
    "#  "
   ]
  },
  {
   "cell_type": "code",
   "execution_count": null,
   "metadata": {},
   "outputs": [],
   "source": [
    "def get_circle(self, p0, p1, r):\n",
    "    if p1[0] == p0[0]:\n",
    "        y0 = y1 = (p0[1]+p1[1]) / 2\n",
    "        deltay = (y0-p0[1]) ** 2\n",
    "        deltax = sqrt(r ** 2 - deltay)\n",
    "        x0 = p1[0] - deltax\n",
    "        x1 = p1[0] + deltax\n",
    "    else:\n",
    "        C1 = (p1[0]**2 + p1[1]**2 - p0[0]**2 - p0[1]**2) / 2 / (p1[0] - p0[0])\n",
    "        C2 = (p1[1] - p0[1]) / (p1[0] - p0[0])\n",
    "        A = 1 + C2**2\n",
    "        B = 2 * (p0[0] - C1) * C2 - 2*p0[1]\n",
    "        C = (p0[0]-C1)**2 + p0[1]**2 - r**2\n",
    "        y0 = (-B + sqrt(B*B - 4 * A * C)) / 2 / A\n",
    "        y1 = (-B - sqrt(B*B - 4 * A * C)) / 2 / A\n",
    "        x0 = C1 - C2 * y0\n",
    "        x1 = C1 - C2 * y1\n",
    "    return [x0, y0], [x1, y1]"
   ]
  },
  {
   "cell_type": "code",
   "execution_count": null,
   "metadata": {},
   "outputs": [],
   "source": [
    "start = 0\n",
    "end = 26\n",
    "count = 2000\n",
    "arr = list(np.random.randint(start, end, count))\n",
    "output = \"\"\n",
    "for a in arr:\n",
    "    output += chr(a + 97)\n",
    "output\n",
    "\n"
   ]
  },
  {
   "cell_type": "code",
   "execution_count": null,
   "metadata": {},
   "outputs": [],
   "source": [
    "a=[[1,2],[2,3]]\n",
    "c=[[0,0]]\n",
    "b=[]\n",
    "b+a+c"
   ]
  },
  {
   "cell_type": "code",
   "execution_count": null,
   "metadata": {},
   "outputs": [],
   "source": [
    "a = tuple()\n",
    "a.add(1)"
   ]
  },
  {
   "cell_type": "code",
   "execution_count": null,
   "metadata": {},
   "outputs": [],
   "source": []
  },
  {
   "cell_type": "code",
   "execution_count": null,
   "metadata": {
    "scrolled": true
   },
   "outputs": [],
   "source": [
    "sum({1,2,3})"
   ]
  },
  {
   "cell_type": "code",
   "execution_count": null,
   "metadata": {},
   "outputs": [],
   "source": [
    "bin(10)"
   ]
  },
  {
   "cell_type": "code",
   "execution_count": null,
   "metadata": {},
   "outputs": [],
   "source": [
    "{1:1}.values()"
   ]
  },
  {
   "cell_type": "code",
   "execution_count": null,
   "metadata": {},
   "outputs": [],
   "source": [
    "import random\n",
    "random.randint(0,0)"
   ]
  },
  {
   "cell_type": "code",
   "execution_count": null,
   "metadata": {},
   "outputs": [],
   "source": [
    "bin(60)"
   ]
  },
  {
   "cell_type": "code",
   "execution_count": null,
   "metadata": {
    "scrolled": true
   },
   "outputs": [],
   "source": [
    "arr = [0,1,2,3,4,5,6,7,20,25,40,50, 60]\n",
    "val = 22\n",
    "for a in arr:\n",
    "    print(a, a ^ val)"
   ]
  },
  {
   "cell_type": "code",
   "execution_count": null,
   "metadata": {},
   "outputs": [],
   "source": [
    "start = 1\n",
    "end = 1000\n",
    "count = 1000\n",
    "print(list(np.random.randint(start, end, count)))"
   ]
  },
  {
   "cell_type": "code",
   "execution_count": null,
   "metadata": {},
   "outputs": [],
   "source": [
    "set(\"helloworld\")"
   ]
  },
  {
   "cell_type": "code",
   "execution_count": null,
   "metadata": {},
   "outputs": [],
   "source": [
    "print([1]*200)"
   ]
  },
  {
   "cell_type": "code",
   "execution_count": null,
   "metadata": {},
   "outputs": [],
   "source": [
    "start = 1 \n",
    "end = 100\n",
    "count = 20\n",
    "arr = list(np.random.randint(start, end, count))\n",
    "heapq.heapify(arr)\n",
    "for a in arr:\n",
    "    print(a)\n",
    "# print(list(np.random.randint(start, end, count)))"
   ]
  },
  {
   "cell_type": "code",
   "execution_count": null,
   "metadata": {},
   "outputs": [],
   "source": [
    "def rev(arr):\n",
    "    arr[2:3] = arr[2:3:-1]\n",
    "    return arr\n",
    "rev([1,2,3,4])"
   ]
  },
  {
   "cell_type": "code",
   "execution_count": null,
   "metadata": {},
   "outputs": [],
   "source": [
    "def findLength(nums1,  nums2):\n",
    "    def comboSet(arr):\n",
    "        output = set()\n",
    "        for i in range(len(arr)):\n",
    "            curr = str(arr[i]) + \"-\"\n",
    "            output.add(curr)\n",
    "            for j in range(i+1, len(arr)):\n",
    "                curr += str(arr[j]) + \"-\"\n",
    "                output.add(curr)\n",
    "        return output\n",
    "\n",
    "    s1 = comboSet(nums1)\n",
    "    s2 = comboSet(nums2)\n",
    "    print(len(s1), len(s2))\n",
    "    ans = 0 \n",
    "    for s in s1:\n",
    "        if s in s2:\n",
    "            ans = max(ans, len(s.split('-'))-1) #check how many '-' parts in the s\n",
    "            # print(s, ans)\n",
    "    return ans\n"
   ]
  },
  {
   "cell_type": "code",
   "execution_count": null,
   "metadata": {},
   "outputs": [],
   "source": [
    "findLength([0,66,79,4,48,18,2,15,66,33,50,72,52,62,67,7,65,37,17,31,72,67,42,59,61,80,15,71,32,1,4,96,80,42,26,3,4,30,69,25,7,51,61,46,96,81,58,79,68,97,14,28,31,94,35,25,80,86,69,13,79,99,41,99,18,40,20,23,21,23,94,25,20,68,34,12,87,58,72,17,24,82,3,27,39,35,40,96,87,70,4,86,66,31,45,24,31,84,16,11,68,24,73,55,92,11,20,70,90,32,96,84,85,92,63,24,98,69,90,72,99,75,66,74,64,25,29,68,49,38,86,7,80,37,23,60,12,93,8,60,62,7,41,31,41,46,83,31,50,18,96,56,25,53,43,98,62,90,81,29,9,12,31,71,93,52,14,40,24,25,50,42,35,49,3,31,60,64,5,14,65,12,0,65,70,11,56,9,14,62,86,11,59,38,88,73,91,32,73,15,57,55,10,46,42,34,53,43,49,42,76,96,28,84,25,39,44,91,9,67,89,49,84,69,29,66,97,68,22,20,31,22,30,54,36,91,9,99,62,18,30,12,39,12,87,93,37,85,31,53,27,73,79,79,57,84,22,39,47,2,98,72,34,40,12,65,41,85,38,71,10,24,74,44,29,90,73,79,44,11,63,53,38,21,77,36,41,90,74,83,94,84,60,2,83,91,77,43,16,8,96,55,22,0,95,89,32,43,51,14,94,57,96,41,40,4,37,87,96,99,10,74,17,98,15,67,64,55,41,49,4,86,55,11,37,99,11,76,25,3,90,7,24,66,87,57,12,64,30,45,43,8,24,36,61,86,88,11,7,37,3,80,88,13,6,2,53,74,87,84,15,40,85,0,44,59,97,97,73,14,53,55,44,84,47,23,97,15,58,89,26,60,56,49,63,33,99,41,95,66,73,57,97,17,37,68,76,10,35,91,26,57,23,61,64,97,0,98,54,94,98,7,17,41,33,41,39,37,70,11,67,74,19,38,63,67,3,27,3,86,98,11,31,53,59,85,38,27,65,2,89,76,79,79,37,73,6,97,57,52,2,27,39,73,14,2,95,67,26,90,82,61,51,95,97,98,15,88,0,57,26,18,91,52,53,87,24,81,11,21,20,41,0,51,37,44,6,26,31,97,17,49,36,70,93,55,2,78,34,59,88,54,37,41,39,19,83,90,89,84,71,87,38,74,71,65,31,76,29,95,81,55,46,57,9,2,92,43,20,23,91,48,1,8,13,5,46,65,32,52,30,20,63,33,82,60,65,79,3,57,41,16,39,83,16,51,9,14,45,66,68,60,66,70,18,13,23,76,67,14,88,99,20,3,42,66,76,76,23,1,71,45,82,60,33,46,38,2,6,58,28,68,52,29,52,42,44,10,11,32,59,2,43,63,26,35,42,7,5,74,23,97,48,36,52,69,38,77,95,77,92,12,49,87,39,28,20,39,71,9,44,47,65,27,55,99,37,33,30,97,44,98,8,73,97,5,86,97,63,23,0,67,83,78,49,71,30,8,61,84,49,19,94,69,68,37,32,89,48,76,12,31,62,99,2,3,79,93,18,59,49,23,70,40,9,34,21,32,56,9,64,39,51,62,55,74,89,93,82,81,51,20,32,20,43,29,30,48,29,97,9,87,94,22,42,60,31,55,74,34,71,43,52,60,67,29,51,25,45,74,73,77,6,68,32,50,35,62,97,75,71,84,23,31,14,97,78,32,94,26,4,18,37,78,41,36,57,44,85,62,21,50,9,0,46,39,78,93,60,4,19,17,39,30,11,35,32,0,72,25,14,78,2,5,1,36,15,87,30,13,57,54,80,91,44,29,63,69,10,59,28,33,19,79,82,21,2,25,6,69,78,28,2,39,99,85,95,2,33,48,80,15,45,67,43,46,31,35,34,58,83,74,11,1,20,52,92,64,33,25,4,27,44,33,92,49,37,58,74,89,10,85,61,61,39,9,14,24,17,8,49,72,27,31,86,9,57,27,91,43,96,14,30,50,60,41,51,98,50,31,42,26,28,57,77,12,1,28,78,40,8,11,38,7,87,34,90,43,26,9,32,54,74,66,40,41,15,71,49,76,70,96,84,49,82,85,16,72,7,75,10,75,71,46,85,83,64,2,14,72,42,53,56,58,22,59,5,55,25,19,70,47,77,14,61,10,54,1,12,41,40,13,28,19,22,30,72,18,23,80,36,90,3,6,67,86,16,82,66,97,53,46,50,30,71,12,28,26,36,78,38,80,84,15,9,66,27,56,53,28]\n",
    ",[71,8,36,92,31,7,63,84,46,63,47,32,37,30,13,87,46,1,16,21,18,65,15,93,14,83,93,47,12,77,4,72,24,89,75,15,52,99,28,11,73,23,39,99,41,38,68,3,70,5,93,22,43,55,41,2,60,49,71,97,2,33,58,5,65,12,63,67,41,79,62,12,21,88,80,1,88,48,1,62,3,17,31,25,53,90,7,40,42,91,48,94,76,17,38,46,93,61,8,93,83,47,73,1,71,37,66,98,14,74,35,94,70,70,83,78,2,68,70,17,99,67,72,1,35,0,8,64,98,99,45,27,34,48,23,50,6,82,75,26,20,58,0,10,55,67,79,61,17,72,39,14,98,51,52,96,13,88,10,8,43,17,50,62,40,48,99,19,92,51,20,98,81,90,60,41,58,99,12,82,46,30,46,32,19,21,10,39,25,29,3,99,75,63,61,96,59,96,88,21,22,52,98,77,39,58,65,27,73,58,17,36,61,95,75,8,14,98,0,52,79,16,95,97,50,58,35,19,15,82,88,81,82,43,67,47,24,30,92,82,84,90,88,88,85,42,90,31,75,58,55,16,30,34,12,84,72,38,24,5,64,26,2,52,1,66,83,38,50,86,22,39,28,0,66,93,91,82,50,23,55,42,45,20,4,9,57,36,24,14,84,11,76,44,83,25,99,52,10,60,99,86,56,50,7,15,32,79,47,55,77,59,18,71,0,98,27,96,55,27,42,71,61,38,72,61,48,97,29,16,34,14,41,45,87,6,30,64,67,30,77,89,70,55,4,40,89,10,13,44,38,40,94,68,43,83,27,17,58,13,99,23,33,41,52,41,14,65,93,0,50,25,73,6,11,98,98,34,23,81,36,79,46,86,99,29,16,15,83,54,2,70,97,11,31,27,46,83,72,56,57,24,14,32,85,49,42,25,57,72,42,41,25,73,45,53,67,49,15,44,37,8,22,37,8,54,86,95,31,55,93,91,4,42,86,84,83,16,80,49,56,93,80,31,21,95,61,79,10,22,98,16,33,98,16,99,19,28,36,24,34,30,8,84,83,95,57,40,92,20,56,8,32,54,6,76,7,76,8,60,45,47,21,45,85,18,9,91,37,55,52,75,71,43,47,30,73,71,30,73,37,9,37,23,27,39,79,97,61,37,88,35,65,32,28,80,95,74,48,66,8,19,52,36,6,75,77,92,51,67,35,92,51,36,30,20,99,86,8,19,99,19,57,89,65,48,83,89,24,67,93,23,67,69,0,14,65,77,0,83,30,20,46,57,8,21,86,21,61,42,91,61,16,88,73,87,33,10,35,52,90,94,31,40,77,0,68,36,19,4,24,23,35,83,80,44,83,92,51,57,50,48,76,57,81,23,0,38,24,96,34,93,33,90,63,43,47,24,10,3,65,26,47,36,7,81,35,53,39,41,13,93,89,27,14,47,57,66,56,25,69,60,74,0,76,69,86,11,81,69,35,7,1,43,13,85,30,10,67,26,12,63,9,41,4,79,87,59,57,67,65,55,32,98,62,2,14,15,49,51,93,70,5,96,63,91,45,64,50,0,2,71,29,55,77,38,63,99,20,73,84,28,91,16,13,55,7,65,9,8,50,40,73,25,35,37,23,89,28,40,54,6,21,79,51,80,68,59,67,98,8,36,90,93,87,33,10,91,72,8,75,75,58,99,81,24,73,77,7,73,22,98,22,52,50,56,30,69,41,82,25,93,4,41,74,77,1,50,52,28,69,48,27,39,63,27,71,20,45,12,23,24,94,28,66,90,96,92,21,65,58,81,17,53,68,86,23,62,2,70,16,93,5,33,46,80,22,9,71,22,86,71,82,79,98,59,40,82,18,70,26,51,5,43,46,59,24,39,98,40,94,84,75,43,87,29,40,66,31,65,24,76,63,73,31,62,83,2,31,2,8,57,35,40,62,97,95,50,79,35,87,2,76,3,17,95,16,83,67,50,23,49,78,69,45,83,44,11,78,58,23,23,20,38,61,51,95,75,92,13,32,47,44,63,28,44,46,80,86,64,3,88,94,81,33,31,4,44,98,43,14,82,87,68,56,98,89,83,66,34,4,88,16,13,0,53,87,86,12,78,27,99,48,46,47,3,77,72,47,19,69,45,48,52,89,30,14,21,71,29,27,51,90,22,24,48,89,72,69,11,75,3,40,28,17,57,6,98,97,84,41,92,55,20,3,90,75,49,50,15,99,40,58,71,18,18,98,98,18,50,79,28,30,71,84,50,82,71,8,88])"
   ]
  },
  {
   "cell_type": "code",
   "execution_count": null,
   "metadata": {},
   "outputs": [],
   "source": [
    "def func():\n",
    "    a = 2\n",
    "    b = 100000000\n",
    "    print(a**b%100)\n",
    "dis.dis(func)"
   ]
  },
  {
   "cell_type": "code",
   "execution_count": null,
   "metadata": {},
   "outputs": [],
   "source": [
    "def func():\n",
    "    a = 2\n",
    "    b = 1000000000\n",
    "    print((a<<(b-1))%100)\n",
    "dis.dis(func)"
   ]
  },
  {
   "cell_type": "code",
   "execution_count": null,
   "metadata": {},
   "outputs": [],
   "source": [
    "int(1/2)+1 if  int(1/2)!=1/2 else 0"
   ]
  },
  {
   "cell_type": "code",
   "execution_count": null,
   "metadata": {},
   "outputs": [],
   "source": [
    "start = 1 \n",
    "end = 6\n",
    "count = 10\n",
    "print(list(np.random.randint(start, end, count)))"
   ]
  },
  {
   "cell_type": "code",
   "execution_count": null,
   "metadata": {},
   "outputs": [],
   "source": [
    "from datetime import datetime"
   ]
  },
  {
   "cell_type": "code",
   "execution_count": null,
   "metadata": {},
   "outputs": [],
   "source": [
    "s = \"今天\"\n",
    "s = s.encode(\"utf-8\")\n",
    "print(s.decode(\"utf-8\"))"
   ]
  },
  {
   "cell_type": "code",
   "execution_count": null,
   "metadata": {},
   "outputs": [],
   "source": [
    "from datetime import datetime\n",
    "import os\n",
    "\n",
    "def listAllFiles(output,hostname, path, curr_time):\n",
    "    arr = os.listdir(path)\n",
    "    for a in arr:\n",
    "        realPath = path + '/' + a\n",
    "        if os.path.isdir(realPath):\n",
    "            listAllFiles(output, hostname, realPath, curr_time)\n",
    "        else:\n",
    "            output.append(f'{hostname}`{path}/{a}`{curr_time}')\n",
    "\n",
    "hostname = \"Rpi_LAN\"\n",
    "path = '/home/pi/Share'\n",
    "curr_time = datetime.now()\n",
    "output_file = f\"./file_list_{curr_time}.csv\".replace(\":\",\"_\")\n",
    "output = []\n",
    "\n",
    "listAllFiles(output, hostname, path, curr_time)\n",
    "\n",
    "with open(output_file, 'w', encoding='utf-8') as file:\n",
    "    for o in output:\n",
    "        s = (o+\"\\n\").replace(\"\\\\\",\"\\\\\\\\\")\n",
    "        file.write(s)\n",
    "\n"
   ]
  },
  {
   "cell_type": "code",
   "execution_count": null,
   "metadata": {},
   "outputs": [],
   "source": [
    "def find(kadane, k):\n",
    "    ans = -float('inf')\n",
    "    accum = [0] \n",
    "    total, max_sum = 0, -float('inf')\n",
    "    for item in kadane:\n",
    "        total += item\n",
    "        overflow = total - k #total should not be larger than k.\n",
    "        print('overflow', overflow)\n",
    "        closest = bisect.bisect_left(accum, overflow) \n",
    "        if closest < len(accum):\n",
    "            max_sum = max(max_sum, total - accum[closest])\n",
    "        print('max', max_sum)\n",
    "        bisect.insort(accum, total)\n",
    "        print(accum)\n",
    "    ans = max(ans, max_sum)\n",
    "    return ans\n",
    "\n",
    "find([2,4,10,-3], -3)"
   ]
  },
  {
   "cell_type": "code",
   "execution_count": null,
   "metadata": {},
   "outputs": [],
   "source": [
    "max(set([1,2,3,45]) & {2})"
   ]
  },
  {
   "cell_type": "code",
   "execution_count": null,
   "metadata": {},
   "outputs": [],
   "source": [
    "\"a\"<\"b\""
   ]
  },
  {
   "cell_type": "code",
   "execution_count": null,
   "metadata": {},
   "outputs": [],
   "source": [
    "start = 1 \n",
    "end = 50000\n",
    "count = 1000\n",
    "print(list(np.random.randint(start, end, count)))"
   ]
  },
  {
   "cell_type": "code",
   "execution_count": null,
   "metadata": {
    "scrolled": true
   },
   "outputs": [],
   "source": [
    "from collections import OrderedDict\n",
    "  \n",
    "print(\"This is a Dict:\\n\")\n",
    "d = {}\n",
    "d['a'] = 1\n",
    "d['c'] = 2\n",
    "d['b'] = 3\n",
    "d['d'] = 4\n",
    "  \n",
    "for key, value in d.items():\n",
    "    print(key, value)\n",
    "    \n",
    "    \n",
    "od = OrderedDict()\n",
    "od['a'] = 1\n",
    "od['c'] = 2\n",
    "od['b'] = 3\n",
    "od['d'] = 4\n",
    "\n",
    "for key, value in od.items():\n",
    "    print(key, value)\n",
    "    \n",
    "  "
   ]
  },
  {
   "cell_type": "code",
   "execution_count": null,
   "metadata": {},
   "outputs": [],
   "source": [
    "arr = [1]\n",
    "for i in range(1, 5000):\n",
    "    arr.append(2*i+1)\n",
    "    arr.append(2*i)\n",
    "arr"
   ]
  },
  {
   "cell_type": "code",
   "execution_count": null,
   "metadata": {},
   "outputs": [],
   "source": [
    "a = \"hello\"\n",
    "b = a.find(\"k\")\n",
    "b"
   ]
  },
  {
   "cell_type": "code",
   "execution_count": null,
   "metadata": {},
   "outputs": [],
   "source": [
    "import bisect"
   ]
  },
  {
   "cell_type": "code",
   "execution_count": null,
   "metadata": {},
   "outputs": [],
   "source": [
    "a = SortedDict()"
   ]
  },
  {
   "cell_type": "code",
   "execution_count": null,
   "metadata": {
    "scrolled": false
   },
   "outputs": [],
   "source": [
    "print(bisect.bisect_left([1,2,4],2))\n",
    "print(bisect.bisect_right([1,2,4],2))\n",
    "print(bisect.bisect([1,2,4],100))"
   ]
  },
  {
   "cell_type": "code",
   "execution_count": null,
   "metadata": {},
   "outputs": [],
   "source": [
    "def binFindLess(arr, v): #find the closet smaller item in the map\n",
    "    if v < arr[0]:\n",
    "        return -1\n",
    "    elif v > arr[-1]: \n",
    "        return len(arr)-1\n",
    "    else:\n",
    "        s = 0\n",
    "        e = len(arr)-1\n",
    "        output = -1\n",
    "        while s<=e:\n",
    "            mid = (s+e)//2\n",
    "            if arr[mid] < v:\n",
    "                output = mid\n",
    "                s = mid + 1\n",
    "            else:\n",
    "                e = mid - 1\n",
    "        return output\n",
    "binFindLess([1,6,8],3)"
   ]
  },
  {
   "cell_type": "code",
   "execution_count": null,
   "metadata": {},
   "outputs": [],
   "source": [
    "1<<4"
   ]
  },
  {
   "cell_type": "code",
   "execution_count": null,
   "metadata": {},
   "outputs": [],
   "source": [
    "def maxDepthBST(order):\n",
    "    def build(cnt, hmp, node, v): #using a hashmap to simulate a BST\n",
    "        cnt[0]+=1\n",
    "        curr, left, right = hmp[node]\n",
    "        if v > curr :\n",
    "            if right == None:\n",
    "                hmp[node][2] = [2*node+2]\n",
    "                hmp[2*node+2] = [v, None, None]\n",
    "            else:\n",
    "                build(cnt, hmp, 2*node+2, v)\n",
    "        else:\n",
    "            if left == None:\n",
    "                hmp[node][1] = [2*node+1]\n",
    "                hmp[2*node+1] = [v, None, None]\n",
    "            else:\n",
    "                build(cnt, hmp, 2*node+1, v)\n",
    "\n",
    "\n",
    "    hmp = {0:[order[0], None, None]} #idx, [nodeval, leftIdx, rightIdx]\n",
    "    cnt=[0]\n",
    "    for i in range(1, len(order)):\n",
    "        build(cnt, hmp, 0, order[i])\n",
    "\n",
    "    x = max(hmp.keys()) + 1 # 1-based largest id\n",
    "    print(x)\n",
    "    total = 0\n",
    "    layer = 0 \n",
    "    while total < x:\n",
    "        total+=2**layer\n",
    "        layer+= 1\n",
    "\n",
    "\n",
    "    return layer"
   ]
  },
  {
   "cell_type": "code",
   "execution_count": null,
   "metadata": {},
   "outputs": [],
   "source": [
    "arr = [_ for _ in range(1000+1)]\n",
    "maxDepthBST(arr)"
   ]
  },
  {
   "cell_type": "code",
   "execution_count": null,
   "metadata": {},
   "outputs": [],
   "source": []
  },
  {
   "cell_type": "code",
   "execution_count": null,
   "metadata": {},
   "outputs": [],
   "source": []
  },
  {
   "cell_type": "code",
   "execution_count": null,
   "metadata": {},
   "outputs": [],
   "source": [
    "round(2000,-1)"
   ]
  },
  {
   "cell_type": "code",
   "execution_count": null,
   "metadata": {},
   "outputs": [],
   "source": [
    "def percentageToOriginal(total, percentage):\n",
    "    ten = 10\n",
    "    while percentage != int(percentage):\n",
    "        percentage *= 10\n",
    "        ten *= 10\n",
    "    a = percentage\n",
    "    b = ten\n",
    "\n",
    "    def gcd(a, b):\n",
    "        while b:\n",
    "            c = a%b\n",
    "            a = b \n",
    "            b = c\n",
    "        return a\n",
    "    \n",
    "    g = gcd(percentage,ten)\n",
    "    possible = [[int(a//g), int(b//g)]]\n",
    "    \n",
    "    i = 2 \n",
    "    if possible:\n",
    "        while possible[-1][-1] < total:\n",
    "            possible.append([possible[0][0]*i, possible[0][1]*i])\n",
    "            i+=1\n",
    "\n",
    "    return possible\n",
    "    \n",
    "percentageToOriginal(500,0.432)\n",
    "    "
   ]
  },
  {
   "cell_type": "code",
   "execution_count": null,
   "metadata": {},
   "outputs": [],
   "source": [
    "def makesquare(matchsticks):\n",
    "    if sum(matchsticks)//4 != sum(matchsticks)/4.0:\n",
    "        return False \n",
    "    else:\n",
    "        def dfs(groups, arr, curr, target):\n",
    "            print(groups, curr, target, arr)\n",
    "            if arr == []:\n",
    "                return True if groups == 4 else False\n",
    "            else:\n",
    "                for i in range(len(arr)):\n",
    "                    if arr[i] + curr == target:\n",
    "                        if dfs(groups+1 , arr[:i] + arr[i+1:], 0, target) == True: # for the rest\n",
    "                            return True\n",
    "                    elif arr[i] + curr < target:\n",
    "                        if dfs(groups, arr[:i] + arr[i+1:], arr[i] + curr, target) == True:\n",
    "                            return True\n",
    "                    else:\n",
    "                        return False\n",
    "                return False\n",
    "        groups = 0\n",
    "        return dfs(groups,  matchsticks, 0, sum(matchsticks)//4)"
   ]
  },
  {
   "cell_type": "code",
   "execution_count": null,
   "metadata": {},
   "outputs": [],
   "source": [
    "makesquare([5,5,5,5,16,4,4,4,4,4,3,3,3,3,4])"
   ]
  },
  {
   "cell_type": "code",
   "execution_count": null,
   "metadata": {},
   "outputs": [],
   "source": [
    "dequeue(\"hello\")"
   ]
  },
  {
   "cell_type": "code",
   "execution_count": null,
   "metadata": {},
   "outputs": [],
   "source": [
    "arr = [[1, [1,2]], [2,[3,4]]]\n",
    "for a, [b, c] in arr:\n",
    "    print(a, b, c)"
   ]
  },
  {
   "cell_type": "code",
   "execution_count": null,
   "metadata": {},
   "outputs": [],
   "source": [
    "a = [[7,4],[9,0],[6,0],[1,5],[0,9],[5,1],[5,7],[9,5],[8,9],[5,0],[5,9],[0,5],[4,8],[8,2],[7,5],[2,5],[5,2]]\n",
    "b = [[0,5],[0,9],[9,0],[5,0],[1,5],[5,1],[2,5],[8,2],[5,2],[4,3],[7,4],[4,8],[6,0],[7,5],[5,7],[8,9],[9,5],[5,9]]\n",
    "for x in b:\n",
    "    if x not in a:\n",
    "        print(x)"
   ]
  },
  {
   "cell_type": "code",
   "execution_count": null,
   "metadata": {},
   "outputs": [],
   "source": [
    "sorted()"
   ]
  },
  {
   "cell_type": "code",
   "execution_count": null,
   "metadata": {},
   "outputs": [],
   "source": [
    "\"hello\"[::-1]"
   ]
  },
  {
   "cell_type": "code",
   "execution_count": null,
   "metadata": {},
   "outputs": [],
   "source": [
    "\"hello\" < \"acd\""
   ]
  },
  {
   "cell_type": "code",
   "execution_count": null,
   "metadata": {},
   "outputs": [],
   "source": [
    "a = [[8,\"h\"], [1,\"z\"], [0,\"l\"], [1,\"l\"], [100,\"o\"]]\n",
    "heapq.heapify(a)\n",
    "while a:\n",
    "    print(heapq.heappop(a))"
   ]
  },
  {
   "cell_type": "code",
   "execution_count": null,
   "metadata": {},
   "outputs": [],
   "source": [
    "[list(np.random.randint(0,1,30)) for _ in range(30)]"
   ]
  },
  {
   "cell_type": "code",
   "execution_count": null,
   "metadata": {},
   "outputs": [],
   "source": [
    "def maxResult(nums,  k: int):\n",
    "    def helper(cnt, dp, nums, k, currPos):\n",
    "        cnt[0] +=1\n",
    "        if currPos in dp:\n",
    "            return dp[currPos]\n",
    "        else:\n",
    "            dp[currPos] = -float('inf')\n",
    "            if currPos == len(nums) - 1:\n",
    "                dp[currPos] = nums[currPos]\n",
    "                return dp[currPos]\n",
    "            else:\n",
    "                s = currPos+1\n",
    "                e = min(len(nums), currPos+1+k)\n",
    "                for i in range(s, e):\n",
    "                    dp[currPos] = max(dp[currPos], nums[currPos] + helper(cnt, dp, nums, k, i))\n",
    "                return dp[currPos]\n",
    "    dp = {}\n",
    "    cnt = [0]\n",
    "    helper(cnt, dp, nums, k, 0)\n",
    "    print(len(nums), cnt)\n",
    "    return dp[0]\n"
   ]
  },
  {
   "cell_type": "code",
   "execution_count": null,
   "metadata": {},
   "outputs": [],
   "source": [
    "maxResult( [1,-5,-20,4,-1,3,-6,-3,-5,-20,4,-1,3,-6,-5,-20,4,-1,3,-6,-3,-5,-20,4,-1,3,-6,-5,-20,4,-1,3,-6,-3,-5,-20,4,-1,3,-6,-5,-20,4,-1,3,-6,-3,-5,-20,4,-1,3,-6,-5,-20,4,-1,3,-6,-3,-5,-20,4,-1,3,-6,-5,-20,4,-1,3,-6,-3,-5,-20,4,-1,3,-6,-5,-20,4,-1,3,-6,-3,-5,-20,4,-1,3,-6,-5,-20,4,-1,3,-6,-3,-5,-20,4,-1,3,-6,-5,-20,4,-1,3,-6,-3,-5,-20,4,-1,3,-6,-5,-20,4,-1,3,-6,-3,-5,-20,4,-1,3,-6,-5,-20,4,-1,3,-6,-3,-5,-20,4,-1,3,-6,-5,-20,4,-1,3,-6,-3,-5,-20,4,-1,3,-6,-5,-20,4,-1,3,-6,-3,-5,-20,4,-1,3,-6,-5,-20,4,-1,3,-6,-3,-5,-20,4,-1,3,-6,-5,-20,4,-1,3,-6,-3,-5,-20,4,-1,3,-6,-5,-20,4,-1,3,-6,-3,-5,-20,4,-1,3,-6,-5,-20,4,-1,3,-6,-3,-5,-20,4,-1,3,-6,-5,-20,4,-1,3,-6,-3,-5,-20,4,-1,3,-6,-5,-20,4,-1,3,-6,-3,-5,-20,4,-1,3,-6,-5,-20,4,-1,3,-6,-3,-5,-20,4,-1,3,-6,-5,-20,4,-1,3,-6,-3,-5,-20,4,-1,3,-6,-5,-20,4,-1,3,-6,-3,-5,-20,4,-1,3,-6,-5,-20,4,-1,3,-6,-3,-5,-20,4,-1,3,-6,-5,-20,4,-1,3,-6,-3,-5,-20,4,-1,3,-6,-5,-20,4,-1,3,-6,-3,-5,-20,4,-1,3,-6,-5,-20,4,-1,3,-6,-3,-5,-20,4,-1,3,-6,-5,-20,4,-1,3,-6,-3,-5,-20,4,-1,3,-6,-5,-20,4,-1,3,-6,-3,-5,-20,4,-1,3,-6,-5,-20,4,-1,3,-6,-3,-5,-20,4,-1,3,-6,-5,-20,4,-1,3,-6,-3,-5,-20,4,-1,3,-6,-5,-20,4,-1,3,-6,-3,-5,-20,4,-1,3,-6,-5,-20,4,-1,3,-6,-3,-5,-20,4,-1,3,-6,-5,-20,4,-1,3,-6,-3,-5,-20,4,-1,3,-6,-5,-20,4,-1,3,-6,-3,-5,-20,4,-1,3,-6,-5,-20,4,-1,3,-6,-3,-5,-20,4,-1,3,-6,-5,-20,4,-1,3,-6,-3,-5,-20,4,-1,3,-6,-5,-20,4,-1,3,-6,-3,-5,-20,4,-1,3,-6,-5,-20,4,-1,3,-6,-3,-5,-20,4,-1,3,-6,-5,-20,4,-1,3,-6,-3,-5,-20,4,-1,3,-6,-5,-20,4,-1,3,-6,-3,-5,-20,4,-1,3,-6,-5,-20,4,-1,3,-6,-3,-5,-20,4,-1,3,-6,-5,-20,4,-1,3,-6,-3,-5,-20,4,-1,3,-6,-5,-20,4,-1,3,-6,-3,-5,-20,4,-1,3,-6,-5,-20,4,-1,3,-6,-3,-5,-20,4,-1,3,-6,-5,-20,4,-1,3,-6,-3,-5,-20,4,-1,3,-6,-5,-20,4,-1,3,-6,-3,-5,-20,4,-1,3,-6,-5,-20,4,-1,3,-6,-3,-5,-20,4,-1,3,-6,-5,-20,4,-1,3,-6,-3,-5,-20,4,-1,3,-6,-5,-20,4,-1,3,-6,-3,-5,-20,4,-1,3,-6,-5,-20,4,-1,3,-6,-3,-5,-20,4,-1,3,-6,-5,-20,4,-1,3,-6,-3,-5,-20,4,-1,3,-6,-5,-20,4,-1,3,-6,-3,-5,-20,4,-1,3,-6,-5,-20,4,-1,3,-6,-3,-5,-20,4,-1,3,-6,-5,-20,4,-1,3,-6,-3,-5,-20,4,-1,3,-6,-5,-20,4,-1,3,-6,-3,-5,-20,4,-1,3,-6,-5,-20,4,-1,3,-6,-3,-5,-20,4,-1,3,-6,-5,-20,4,-1,3,-6,-3,-5,-20,4,-1,3,-6,-5,-20,4,-1,3,-6,-3,-5,-20,4,-1,3,-6,-5,-20,4,-1,3,-6,-3,-5,-20,4,-1,3,-6,-5,-20,4,-1,3,-6,-3,-5,-20,4,-1,3,-6,-3,-5,-20,4,-1,3,-6,-3,-5,-20,4,-1,3,-6,-3,-5,-20,4,-1,3,-6,-3,-5,-20,4,-1,3,-6,-3,-5,-20,4,-1,3,-6,-3,-5,-20,4,-1,3,-6,-3,-5,-20,4,-1,3,-6,-3,-5,-20,4,-1,3,-6,-3,-5,-20,4,-1,3,-6,-3,-5,-20,4,-1,3,-6,-3,-5,-20,4,-1,3,-6,-3,-5,-20,4,-1,3,-6,-3,-5,-20,4,-1,3,-6,-3,-5,-20,4,-1,3,-6,-3,-5,-20,4,-1,3,-6,-3,-5,-20,4,-1,3,-6,-3,-5,-20,4,-1,3,-6,-3,-5,-20,4,-1,3,-6,-3,-5,-20,4,-1,3,-6,-3,-5,-20,4,-1,3,-6,-3,-5,-20,4,-1,3,-6,-3,-5,-20,4,-1,3,-6,-3,-5,-20,4,-1,3,-6,-3,-5,-20,4,-1,3,-6,-3,-5,-20,4,-1,3,-6,-3,-5,-20,4,-1,3,-6,-3,-5,-20,4,-1,3,-6,-3],10)"
   ]
  },
  {
   "cell_type": "code",
   "execution_count": null,
   "metadata": {},
   "outputs": [],
   "source": [
    "def shortestDistance(maze,start,destination) -> int:\n",
    "    start.append(0) #[r, c, travelled]\n",
    "    stk = [start]\n",
    "    stops = set((start[0], start[1]))\n",
    "    output = float('inf')\n",
    "    while stk:\n",
    "        nxt = [] \n",
    "        while stk:\n",
    "            print(stk)\n",
    "            pos = stk.pop(0)\n",
    "            curr_r = pos[0]\n",
    "            curr_c = pos[1]\n",
    "            curr_distance = pos[2]\n",
    "\n",
    "            r = curr_r\n",
    "            c = curr_c\n",
    "            distance = curr_distance\n",
    "\n",
    "            while r > 0 and maze[r][c] != 1: #up\n",
    "                r -= 1\n",
    "                distance += 1\n",
    "            if r==destination[0] and c == destination[1]:\n",
    "                output =  min(output, distance)\n",
    "            if (r,c) not in stops:\n",
    "                nxt.append([r,c, distance])\n",
    "\n",
    "            r = curr_r\n",
    "            c = curr_c\n",
    "            distance = curr_distance\n",
    "            while r < len(maze)-1 and maze[r][c] != 1: #down\n",
    "                r += 1\n",
    "                distance += 1\n",
    "            if r==destination[0] and c == destination[1]:\n",
    "                output = min(output, distance)\n",
    "            if (r,c) not in stops:\n",
    "                nxt.append([r,c, distance])\n",
    "\n",
    "            r = curr_r\n",
    "            c = curr_c\n",
    "            distance = curr_distance\n",
    "            while c < len(maze[0])-1 and maze[r][c] != 1: #right \n",
    "                c += 1\n",
    "                distance += 1\n",
    "            if r==destination[0] and c == destination[1]:\n",
    "                output = min(output, distance)\n",
    "            if (r,c) not in stops:\n",
    "                nxt.append([r,c, distance])\n",
    "\n",
    "            r = curr_r\n",
    "            c = curr_c\n",
    "            distance = curr_distance\n",
    "            while c > 0 and maze[r][c] != 1: #left\n",
    "                c -= 1\n",
    "                distance += 1\n",
    "            if r==destination[0] and c == destination[1]:\n",
    "                output =  min(output, distance)\n",
    "            if (r,c) not in stops:\n",
    "                nxt.append([r,c, distance])\n",
    "\n",
    "        stk = nxt\n",
    "\n",
    "    return -1 if output == float('inf') else output\n",
    "        "
   ]
  },
  {
   "cell_type": "code",
   "execution_count": null,
   "metadata": {},
   "outputs": [],
   "source": [
    "[1,2,3].index(1)"
   ]
  },
  {
   "cell_type": "code",
   "execution_count": null,
   "metadata": {},
   "outputs": [],
   "source": [
    "print(list(np.random.randint(1, 20000, 300)))"
   ]
  },
  {
   "cell_type": "code",
   "execution_count": null,
   "metadata": {},
   "outputs": [],
   "source": [
    "a = list(\"helloeow\")\n",
    "a[993]"
   ]
  },
  {
   "cell_type": "code",
   "execution_count": null,
   "metadata": {},
   "outputs": [],
   "source": [
    "print(int(1.8), int(1.5),int(1.2),round(1.8), round(1.5),round(1.2))"
   ]
  },
  {
   "cell_type": "code",
   "execution_count": null,
   "metadata": {},
   "outputs": [],
   "source": [
    "print(int(-1.8), int(-1.5),int(-1.2),round(-1.8), round(-1.5),round(-1.2))"
   ]
  },
  {
   "cell_type": "code",
   "execution_count": null,
   "metadata": {},
   "outputs": [],
   "source": [
    "a = set(\"hello\")\n",
    "b = set(\"jello\")\n",
    "list(set(a) - set(b))"
   ]
  },
  {
   "cell_type": "code",
   "execution_count": null,
   "metadata": {},
   "outputs": [],
   "source": [
    "a = set()\n",
    "a.add(1)\n",
    "a.remove(1)"
   ]
  },
  {
   "cell_type": "code",
   "execution_count": null,
   "metadata": {
    "scrolled": false
   },
   "outputs": [],
   "source": [
    "\"lhellllo\".split('l')"
   ]
  },
  {
   "cell_type": "code",
   "execution_count": null,
   "metadata": {
    "scrolled": true
   },
   "outputs": [],
   "source": [
    "3^8"
   ]
  },
  {
   "cell_type": "code",
   "execution_count": null,
   "metadata": {},
   "outputs": [],
   "source": [
    "[list(np.random.randint(1, 20, 3)) for _ in range(30)]"
   ]
  },
  {
   "cell_type": "code",
   "execution_count": null,
   "metadata": {},
   "outputs": [],
   "source": [
    "def diff(a, b): #len(b)> len(a), and check if a and b only differs 1 character\n",
    "    output = 0 \n",
    "    while a and b:\n",
    "        if a[0] != b[0]:\n",
    "            output += 1\n",
    "            b.pop(0)\n",
    "        else:\n",
    "            a.pop(0)\n",
    "            b.pop(0)\n",
    "    return output <= 1\n",
    "\n",
    "diff(list('hello'), list('heasllo'))\n",
    "        "
   ]
  },
  {
   "cell_type": "code",
   "execution_count": null,
   "metadata": {
    "scrolled": false
   },
   "outputs": [],
   "source": [
    "tuple('hello')"
   ]
  },
  {
   "cell_type": "code",
   "execution_count": null,
   "metadata": {},
   "outputs": [],
   "source": [
    "a = {1,2,3,4}\n"
   ]
  },
  {
   "cell_type": "code",
   "execution_count": null,
   "metadata": {},
   "outputs": [],
   "source": [
    "a = 0 if [] else 1\n",
    "a"
   ]
  },
  {
   "cell_type": "code",
   "execution_count": null,
   "metadata": {},
   "outputs": [],
   "source": [
    "arr = [True, False,True]\n",
    "print(sum(arr))"
   ]
  },
  {
   "cell_type": "code",
   "execution_count": null,
   "metadata": {},
   "outputs": [],
   "source": [
    "a = True \n",
    "b = 1\n",
    "print(type(a))\n",
    "print(type(b))\n",
    "print(a+b)"
   ]
  },
  {
   "cell_type": "code",
   "execution_count": null,
   "metadata": {},
   "outputs": [],
   "source": [
    "a = \"a\"\n",
    "b = \"abc\"\n",
    "print(type(a))\n",
    "print(type(b))\n",
    "print(type(a+b))\n",
    "c = float('inf')"
   ]
  },
  {
   "cell_type": "code",
   "execution_count": null,
   "metadata": {},
   "outputs": [],
   "source": [
    "t = \"110091\"\n",
    "a = t + t[:-1][::-1] # turn to a palin and check the palin**2.\n",
    "a"
   ]
  },
  {
   "cell_type": "code",
   "execution_count": null,
   "metadata": {},
   "outputs": [],
   "source": [
    "a = \"12120030703002121\" \n",
    "int(a)**0.5"
   ]
  },
  {
   "cell_type": "code",
   "execution_count": null,
   "metadata": {},
   "outputs": [],
   "source": [
    "a = \"26\"\n",
    "t = str(a) \n",
    "half = len(t) // 2\n",
    "a = t + t[:half][::-1]\n",
    "a"
   ]
  },
  {
   "cell_type": "code",
   "execution_count": null,
   "metadata": {
    "scrolled": false
   },
   "outputs": [],
   "source": [
    "list(set(np.random.randint(1, 100, 10)))"
   ]
  },
  {
   "cell_type": "code",
   "execution_count": null,
   "metadata": {},
   "outputs": [],
   "source": [
    "def f(prefix: str, suffix: str):\n",
    "    stk = list(prefix)\n",
    "    curr = self.trie_pre\n",
    "    while stk: \n",
    "        c = stk.pop(0)\n",
    "        if c in curr:\n",
    "            pool_prefix = curr[c][0]\n",
    "            curr = curr[c][1]\n",
    "        else:\n",
    "            return -1\n",
    "\n",
    "    stk = list(suffix)[::-1]\n",
    "    curr = self.trie_suffix\n",
    "    while stk: \n",
    "        c = stk.pop(0)\n",
    "        if c in curr:\n",
    "            pool_suffix = curr[c][0]\n",
    "            curr = curr[c][1]\n",
    "        else:\n",
    "            return -1\n",
    "\n",
    "    # cross = list(set(pool_prefix) & set(pool_suffix))\n",
    "    # if cross:\n",
    "    #     return max(cross)\n",
    "    # else:\n",
    "    #     return -1\n",
    "\n",
    "    print([pool_prefix,pool_suffix])\n",
    "    \n"
   ]
  },
  {
   "cell_type": "code",
   "execution_count": null,
   "metadata": {},
   "outputs": [],
   "source": [
    "a = [711]\n",
    "b = [8, 33, 67, 141, 211, 231]\n",
    "suffix [8, 33, 67, 141, 211, 231, 245, 266, 269, 304, 309, 313, 366, 416, 507, 537, 541, 547, 557, 586, 595, 606, 711, 732, 733, 788, 833, 843, 879, 880, 967, 978]\n",
    "\n",
    "set(a) & set(b)"
   ]
  },
  {
   "cell_type": "code",
   "execution_count": null,
   "metadata": {},
   "outputs": [],
   "source": []
  },
  {
   "cell_type": "code",
   "execution_count": null,
   "metadata": {},
   "outputs": [],
   "source": [
    "a = [1,2]\n",
    "b = [2,3]\n",
    "set(a) & set(b)"
   ]
  },
  {
   "cell_type": "code",
   "execution_count": null,
   "metadata": {},
   "outputs": [],
   "source": [
    "def helper(path, curr, end):\n",
    "    def inverse(s):\n",
    "        output = \"\"\n",
    "        for c in s:\n",
    "            output += \"1\" if c ==\"0\" else \"0\"\n",
    "        return output.lstrip('0')\n",
    "\n",
    "    def double(s):\n",
    "        return (s+\"0\").lstrip('0')\n",
    "    \n",
    "    if curr in path or len(curr) > len(end)*2 or len(curr) == 0:\n",
    "        return float('inf')\n",
    "    elif curr==end:\n",
    "        return 0\n",
    "    else:\n",
    "        path.add(curr)\n",
    "        A = 1 + helper(path, inverse(curr), end)\n",
    "        B = 1 + helper(path, double(curr), end)\n",
    "        return min(A,B)\n",
    "\n",
    "pool = [\"10101010 10101010\", \"11100101 1001011\", \"0 1111\", \"100110 1111100\", \"10101010 11000000\", \"1100001 1\", \"111010 101011\", \"10110110 1000\", \"1010111 1010110\", \"10011011 110010\", \"10100001 100011\", \"0 1100000\", \"10100010 10110101\", \"11111001 1010\", \"11000011 1001\", \"1111010 110000\", \"1101 110100\", \"1001010 100000\", \"1110001 11010000\", \"11100111 10011101\", \"1110001 1000010\", \"11001001 10000\", \"11010001 100110\", \"11110011 100000\", \"1110100 10100100\", \"11000010 1001\", \"10000010 1100000\", \"11000111 10001001\", \"10010011 10101\", \"11001011 110000\", \"10101111 11110110\", \"11010001 11100100\", \"1100001 0\", \"111111 1\", \"10001101 111001\", \"111010 11010000\", \"1011 1101\", \"11110110 11001100\", \"110 10001011\", \"11010 10100\", \"1001100 10011\", \"11111111 1111111\", \"10001110 11111110\", \"10100110 1001011\", \"10111 1001\", \"1101001 101000\", \"1110010 11101001\", \"1 111001\", \"110101 1110100\", \"0 1000000\", \"10010110 1110\", \"1100011 1\", \"10010 10101111\", \"1111 0\", \"1101111 1101111\", \"10101010 0\", \"110100 10111000\", \"111000 110111\", \"1111101 1110010\", \"0 0\", \"11100 11100000\", \"11000000 11111011\", \"1011101 11101110\", \"101000 11111000\", \"10110101 10111000\", \"11011101 1011000\", \"10000111 10100\", \"0 1\", \"1001010 100010\", \"10100010 10001\", \"1000000 100010\", \"10001011 11001111\", \"11100100 11110000\", \"10101110 1\", \"10111010 10011111\", \"11010 1011\", \"1011111 11010010\", \"1110001 10110110\", \"11111111 11000001\", \"10101011 11111010\", \"10101011 10110110\", \"11011100 1111100\", \"1 0\", \"1 1\", \"1001001 1001\", \"1001100 11100\", \"10000100 1001100\", \"100100 110101\", \"11100001 1000110\", \"11111101 11001011\", \"11011001 11100001\", \"11101 1001110\", \"10101010 11001100\", \"1010101 110110\", \"0 100001\", \"11110010 1101110\", \"1101 1\", \"1010011 1010010\", \"10101101 100000\", \"1110111 11110101\"]\n",
    "for arr in pool:\n",
    "    arr = arr.split(' ')\n",
    "    res = helper(set(),arr[0], arr[1])\n",
    "    print(res)\n",
    "   \n",
    "# cases = int(input()) #total case counts\n",
    "# for i in range(1, cases+1):\n",
    "#     path = set()\n",
    "#     arr = str(input()).split(' ')\n",
    "#     res = helper(path,arr[0], arr[1])\n",
    "#     if res == float('inf'):\n",
    "#         res = \"IMPOSSIBLE\"\n",
    "#     else:\n",
    "#         res = str(res)\n",
    "#     print(f\"Case #{i}: {res}\")    \n",
    "\n"
   ]
  },
  {
   "cell_type": "code",
   "execution_count": null,
   "metadata": {},
   "outputs": [],
   "source": [
    "(\"\").lstrip('0')"
   ]
  },
  {
   "cell_type": "code",
   "execution_count": null,
   "metadata": {},
   "outputs": [],
   "source": [
    "bin(5^1)"
   ]
  },
  {
   "cell_type": "code",
   "execution_count": null,
   "metadata": {
    "scrolled": true
   },
   "outputs": [],
   "source": [
    "bin(5)"
   ]
  },
  {
   "cell_type": "code",
   "execution_count": null,
   "metadata": {
    "scrolled": true
   },
   "outputs": [],
   "source": [
    "lkp = set()\n",
    "# lkp.add(10**19)\n",
    "i = 1\n",
    "while i < 10000:\n",
    "    s = str(i)\n",
    "    j = i+1\n",
    "    while True:\n",
    "        s += str(j) \n",
    "        if int(s) < 10**8:\n",
    "            lkp.add(int(s))\n",
    "            j += 1\n",
    "        else:\n",
    "            break\n",
    "    i+=1\n",
    "\n",
    "lkp = sorted(list(lkp))\n",
    "# print(lkp)\n",
    "def f(n, lkp):\n",
    "    if n >= lkp[-1]:\n",
    "        return 0\n",
    "    s = 0 \n",
    "    e = len(lkp)-1\n",
    "    while s <= e:\n",
    "        mid = (s+e)//2\n",
    "        if lkp[mid] <= n:\n",
    "            s = mid + 1\n",
    "        elif lkp[mid] > n:\n",
    "            e = mid - 1 \n",
    "    \n",
    "    return lkp[s]\n",
    "\n",
    "f(680000, lkp)\n",
    "\n",
    "# arr = []\n",
    "# for i in range(1, 10**6+1):\n",
    "# #     print(i)\n",
    "#     arr.append(f(i, lkp))\n",
    "    \n",
    "    \n",
    "# cases = int(input()) #total case counts\n",
    "# for i in range(1, cases+1):\n",
    "#     num = int(str(input()))\n",
    "#     res = f(num,lkp)\n",
    "#     print(f\"Case #{i}: {res}\")        \n",
    "\n",
    "    \n",
    "    \n",
    "    "
   ]
  },
  {
   "cell_type": "code",
   "execution_count": null,
   "metadata": {},
   "outputs": [],
   "source": [
    "def f(arr): #[\"3 10\",\"1 3 7 3\"]\n",
    "    total = int(arr[0].split(' ')[1])\n",
    "    otherTickets = [int(_) for _ in arr[1].split(' ')]\n",
    "    tickets = [_ for _ in range(1, total+1)]\n",
    "    def win(c, myValue1, myValue2, otherTickets):\n",
    "        myDiff = min(abs(myValue1 - c), abs(myValue2 - c))\n",
    "        compare = float('inf')\n",
    "        for v in otherTickets:\n",
    "            compare = min(compare, abs(v-c))\n",
    "        return 1 if myDiff < compare else 0\n",
    "    prob = 0.0\n",
    "    for a in tickets:\n",
    "        for b in tickets:\n",
    "            winCnt = 0\n",
    "            for c in tickets:\n",
    "                winCnt += win(c, a, b, otherTickets)\n",
    "            prob = max(prob, winCnt / total)\n",
    "    return prob\n",
    "\n",
    "# cases = int(input()) #total case counts\n",
    "# for i in range(1, cases+1):\n",
    "#     arr = []\n",
    "#     for j in range(2):\n",
    "#         arr.append(str(input()))\n",
    "#     res = f(arr)\n",
    "#     print(f\"Case #{i}: {res}\")  \n",
    "\n",
    "f([\"4 24\",\"8 8 8 8 8 8 8\"])\n",
    "    "
   ]
  },
  {
   "cell_type": "code",
   "execution_count": null,
   "metadata": {},
   "outputs": [],
   "source": [
    "for i in \"HELLO WORLD\":\n",
    "    print(50 - (ord('V') - ord(i))*10 )"
   ]
  },
  {
   "cell_type": "code",
   "execution_count": null,
   "metadata": {},
   "outputs": [],
   "source": [
    "a,b = [[1,2]].pop(0)\n",
    "print(a,b)"
   ]
  },
  {
   "cell_type": "code",
   "execution_count": null,
   "metadata": {},
   "outputs": [],
   "source": [
    "[random.randint(1,10000) for _ in range(200)]"
   ]
  },
  {
   "cell_type": "code",
   "execution_count": null,
   "metadata": {},
   "outputs": [],
   "source": [
    "tick = (1/12)*(10**-10)\n",
    "21600000000000*tick"
   ]
  },
  {
   "cell_type": "code",
   "execution_count": null,
   "metadata": {},
   "outputs": [],
   "source": [
    "\n",
    "cases = int(input()) #total case counts\n",
    "for i in range(1, cases+1):\n",
    "    res = func(str(input()).split(' '))\n",
    "    print(f\"Case #{i}: {res}\")    "
   ]
  },
  {
   "cell_type": "code",
   "execution_count": null,
   "metadata": {},
   "outputs": [],
   "source": [
    "[[random.randint(0,1000) for _ in range(random.randint(0,100))] for _ in range(random.randint(0,100))]"
   ]
  },
  {
   "cell_type": "code",
   "execution_count": null,
   "metadata": {
    "scrolled": true
   },
   "outputs": [],
   "source": [
    "def func(arr):\n",
    "    if len(arr) == 1:\n",
    "        return f'{arr[0][0]} {arr[0][1]}/1'\n",
    "    else:\n",
    "        arr.sort(key = lambda x:x[1], reverse = True)\n",
    "        return f'{arr[0][0]} {arr[0][1]}/1'\n",
    "        \n",
    "cases = int(input()) #total case counts\n",
    "for i in range(1, cases+1):\n",
    "    N = int(str(input()).split(' ')[0])\n",
    "    arr = []\n",
    "    for j in range(N):\n",
    "        t = str(input()).split(' ')\n",
    "        a = str(t[0])\n",
    "        b = int(t[1])\n",
    "        arr.append([a,b])\n",
    "    #print(arr)\n",
    "    res = func(arr)\n",
    "    print(f\"Case #{i}: {res}\")    "
   ]
  },
  {
   "cell_type": "code",
   "execution_count": null,
   "metadata": {},
   "outputs": [],
   "source": [
    "def func(arr): \n",
    "    s = sum(arr)\n",
    "    def combo(output, arr, curr, n): \n",
    "        if len(curr) == n: \n",
    "            output.append(curr)\n",
    "        else:\n",
    "            for i in range(len(arr)):\n",
    "                combo(output, arr[i+1:], curr+[arr[i]], n)\n",
    "    def prod(a):\n",
    "        output=1\n",
    "        for x in a:\n",
    "            output *= x\n",
    "        return output\n",
    "    \n",
    "    output = []\n",
    "    for i in range(1, len(arr)):\n",
    "        combo(output, arr, [], i)\n",
    "    res = -float('inf')\n",
    "    for o in output:\n",
    "        if prod(o) == s - sum(o):\n",
    "            res = max(res, s-sum(o))\n",
    "        \n",
    "        \n",
    "    return 0 if res == -float('inf') else res\n",
    "\n",
    "\n",
    "cases = int(input()) #total case counts\n",
    "for i in range(1, cases+1):\n",
    "    N = int(input()) \n",
    "    arr = []\n",
    "    for j in range(N):\n",
    "        t = str(input()).split(' ')\n",
    "        a = int(t[0])\n",
    "        b = int(t[1])\n",
    "        arr += [a]*b\n",
    "        \n",
    "    res = func(arr)\n",
    "    print(f\"Case #{i}: {res}\")\n",
    "    "
   ]
  },
  {
   "cell_type": "code",
   "execution_count": null,
   "metadata": {},
   "outputs": [],
   "source": [
    "def f(a, b):\n",
    "    if b>a: return 0 \n",
    "    else:\n",
    "        while b < a:\n",
    "            if int(b*10+9) <= a:\n",
    "                b = b*10\n",
    "            else:\n",
    "                prev = b*10\n",
    "                b = b*10+9 \n",
    "                while b > a and b > prev:\n",
    "                    b-=1\n",
    "        return b\n",
    "\n",
    "f(20,1)\n",
    "                    \n",
    "                    "
   ]
  },
  {
   "cell_type": "code",
   "execution_count": null,
   "metadata": {},
   "outputs": [],
   "source": [
    "def f(a, b):\n",
    "    if b>a: return b\n",
    "    else:\n",
    "        a = str(a)\n",
    "        b =str(b)\n",
    "        if len(a) == len(b):\n",
    "            return int(b+'0')\n",
    "        elif len(a) > len(b):\n",
    "            if int(a[:len(b)]) < int(b):\n",
    "                return int(b + '0' * (len(a) - len(b)))\n",
    "            else:\n",
    "                \n",
    "    \n",
    "def func(arr):\n",
    "    cnt = 0\n",
    "    prev = arr[0]\n",
    "    for a in arr[1:]:\n",
    "        find = f(prev, a)\n",
    "        cnt += len(str(find)) - len(str(a))            \n",
    "        prev = find \n",
    "    return cnt\n",
    "# func([1,2,3])\n",
    "cases = int(input()) #total case counts\n",
    "for i in range(1, cases+1):\n",
    "    N = int(input()) \n",
    "    arr = str(input()).split(' ')\n",
    "    res = func([int(_) for _ in arr])\n",
    "    print(f\"Case #{i}: {res}\")\n"
   ]
  },
  {
   "cell_type": "code",
   "execution_count": null,
   "metadata": {},
   "outputs": [],
   "source": [
    "def func(arr):\n",
    "    cnt = 0\n",
    "    prev = arr[0]\n",
    "    for a in arr[1:]:\n",
    "        curr = a\n",
    "        while curr <= prev or str(curr)[:len(str(a))] !=str(a):\n",
    "            curr+=1\n",
    "        cnt += len(str(curr)) - len(str(a))\n",
    "        prev = curr \n",
    "    return cnt\n",
    "# func([1,2,3])\n",
    "cases = int(input()) #total case counts\n",
    "for i in range(1, cases+1):\n",
    "    N = int(input()) \n",
    "    arr = str(input()).split(' ')\n",
    "    res = func([int(_) for _ in arr])\n",
    "    print(f\"Case #{i}: {res}\")\n"
   ]
  },
  {
   "cell_type": "code",
   "execution_count": null,
   "metadata": {},
   "outputs": [],
   "source": [
    "set(\"aeiouAEIOU\")"
   ]
  },
  {
   "cell_type": "code",
   "execution_count": null,
   "metadata": {},
   "outputs": [],
   "source": [
    "def rev(n):\n",
    "    output = 0\n",
    "    while n > 0:\n",
    "        output*=10\n",
    "        output += (n % 10) \n",
    "        n//=10\n",
    "    return output\n",
    "rev(100)\n",
    "     \n",
    "    \n",
    "        "
   ]
  },
  {
   "cell_type": "code",
   "execution_count": null,
   "metadata": {},
   "outputs": [],
   "source": [
    "set(\"hello\")"
   ]
  },
  {
   "cell_type": "code",
   "execution_count": null,
   "metadata": {},
   "outputs": [],
   "source": [
    "def maxEnvelopes(envelopes):\n",
    "    envelopes.sort(key = lambda x:x[1])\n",
    "    envelopes.sort(key = lambda x:x[0])\n",
    "    def dfs(dp, arr, idx, layer):\n",
    "        if dp[idx] != 1 : \n",
    "            return dp[idx]\n",
    "        else:\n",
    "            for i in range(idx+1, len(arr)):\n",
    "                if arr[idx][0] < arr[i][0] and arr[idx][1] < arr[i][1]:\n",
    "                    dp[idx] = max(dp[idx], 1+dfs(dp, arr, i, 1))\n",
    "                else:\n",
    "                    dp[idx] = max(dp[idx], layer)\n",
    "\n",
    "            return dp[idx]                         \n",
    "\n",
    "    dp = [1 for _ in range(len(envelopes))]\n",
    "    for i in range(len(dp)-1,-1,-1):\n",
    "        dfs(dp, envelopes, i, 1)\n",
    "    # print(envelopes)\n",
    "    # print(dp)\n",
    "    return max(dp)\n",
    "a =  [[random.randint(1,20),random.randint(1,20)] for _ in range(1000)]\n",
    "maxEnvelopes(a) "
   ]
  },
  {
   "cell_type": "code",
   "execution_count": null,
   "metadata": {
    "scrolled": true
   },
   "outputs": [],
   "source": [
    " [[random.randint(1,300),random.randint(1,300)] for _ in range(500)]"
   ]
  },
  {
   "cell_type": "code",
   "execution_count": null,
   "metadata": {},
   "outputs": [],
   "source": [
    "def minimumSemesters(n , relations):\n",
    "    pre_course = {}\n",
    "    advance_course = set() # courses cannot be learned first\n",
    "    for pre, c in relations:\n",
    "        advance_course.add(c)\n",
    "        if pre not in pre_course:\n",
    "            pre_course[pre] = []\n",
    "        pre_course[pre].append(c)\n",
    "\n",
    "    def layers(dp, layer, c, pre_course, seen): #for each root course, find the deepest layer count\n",
    "        if c in dp:\n",
    "            return dp[c]\n",
    "        else:\n",
    "            if c not in pre_course: #reach the end, current course takes 1 semester to finish\n",
    "                dp[c] = 1\n",
    "                return dp[c]\n",
    "            else:\n",
    "                for nxt in pre_course[c]:\n",
    "                    if nxt in seen:\n",
    "                        dp[c] = -1\n",
    "                    else:\n",
    "                        seen.add(nxt)\n",
    "                        t = layers(dp, layer+1, nxt, pre_course, seen)\n",
    "                        if t == -1:\n",
    "                            dp[c] = -1\n",
    "                            return dp[c]\n",
    "                        else:\n",
    "                            dp[c] = max(dp[c], 1+t)\n",
    "                        seen.remove(nxt)\n",
    "                return dp[c]\n",
    "\n",
    "    root = list(set([_ for _ in range(1,n+1)]) - advance_course)\n",
    "    if root == []: # all the courses need a pre\n",
    "        return -1\n",
    "    else:\n",
    "        dp = [1] * (n+1)\n",
    "        for r in root:\n",
    "            t = layers(dp, 1, r, pre_course, set()) \n",
    "            if t == -1:\n",
    "                return -1\n",
    "        return max(dp)\n",
    "\n",
    "print(minimumSemesters(27,[[22,25],[6,10],[13,22],[10,11],[22,27],[1,4],[1,21],[10,21],[1,8],[16,18],[6,15],[14,19],[2,14],[6,25],[1,17],[4,20],[14,17],[10,25],[13,19],[1,11],[7,22],[16,22],[10,24],[1,7],[2,19],[5,26],[4,18],[7,18],[3,22],[6,24],[17,24],[2,9],[7,26],[5,6],[3,8],[11,18],[15,24],[2,21],[14,23],[11,22],[6,8],[10,15],[7,27],[17,26],[2,6],[16,17],[13,27],[8,9],[12,20],[3,20],[13,14],[1,25],[5,24],[22,26],[2,10],[21,22],[6,17],[2,13],[19,20],[5,16],[9,21],[21,27],[8,11],[4,12],[21,24],[12,14],[2,15],[10,22],[14,26],[24,26],[12,17],[3,15],[7,24],[15,23],[8,17],[4,15],[3,18],[11,13],[15,27],[18,25],[2,3],[3,13],[10,27],[1,5],[20,27],[12,18],[4,24],[5,14],[8,14],[21,26],[9,15],[23,25],[2,26],[3,21],[4,19],[16,27],[7,11],[13,17],[11,12],[13,21],[2,16],[2,24],[2,18],[9,11],[6,14],[20,24],[1,26],[14,24],[10,20],[3,19],[8,10],[23,27],[6,26],[15,19],[6,21],[4,7],[13,24],[6,18],[6,9],[2,23],[14,18],[1,18],[9,18],[4,21],[4,25],[14,22],[7,19],[18,26],[4,17],[19,21],[16,23],[9,16],[9,17],[8,12],[3,4],[7,15],[2,5],[11,16],[12,15],[12,27],[23,24],[12,21],[18,27],[9,22],[13,26],[1,6],[4,14],[17,18],[19,25],[5,13],[14,27],[5,27],[4,27],[15,17],[10,12],[9,13],[5,9],[2,25],[7,13],[2,17],[5,20],[1,10],[25,27],[18,24],[16,21],[1,16],[15,21],[1,23],[4,10],[7,10],[9,25],[6,19],[1,20],[16,24],[1,12],[16,20],[21,25],[3,6],[11,27],[8,16],[26,27],[11,14],[10,23],[17,25],[15,16],[3,27],[20,26],[24,25],[7,23],[20,22],[10,19],[10,16],[2,27],[5,17],[3,25],[18,22],[15,18],[13,18],[5,12],[14,16],[3,10],[4,26],[11,17],[9,23],[2,4],[19,22],[12,16],[8,15],[19,27],[6,22],[11,24],[11,15],[8,24],[16,19],[6,23],[10,18],[16,25],[10,13],[15,20],[15,22],[10,26],[20,25],[12,23],[1,24],[11,20],[18,21],[9,24],[12,13],[1,15],[8,21],[14,15],[11,23],[4,11],[5,22],[3,5],[10,17],[7,17],[7,20],[6,11],[5,25],[18,20],[4,6],[17,21],[2,22],[2,20],[8,23],[18,23],[24,27],[3,26],[21,23],[17,20],[3,9],[8,20],[8,25],[7,8],[20,23],[12,26],[17,19],[5,15],[8,13],[1,13],[7,14],[9,26],[8,18],[3,23],[7,9],[17,22],[5,23],[4,22],[16,26],[3,11],[3,16],[11,21],[3,17],[7,16],[12,19],[13,25],[3,7],[9,19],[8,27],[2,7],[19,23],[4,5],[17,23],[13,23],[18,19],[8,22],[14,21],[10,14],[9,20],[6,13],[14,20],[6,16],[1,27],[5,10],[1,14],[1,2],[1,19],[13,16],[4,16],[2,8],[6,27],[12,24],[14,25],[9,27],[3,14],[6,12],[12,22],[7,25],[3,12],[9,14],[6,7],[25,26],[4,13],[19,26],[1,22],[8,26],[23,26],[2,11],[5,19],[19,24],[1,3],[22,23],[15,26],[9,12],[5,21],[15,25],[2,12],[6,20],[3,24],[8,19],[4,8],[4,9],[17,27],[7,21],[5,18],[11,25],[7,12],[4,23],[9,10],[11,19],[1,9],[20,21],[13,15],[5,11],[22,24],[11,26],[5,8],[5,7],[12,25],[13,20]]))\n",
    "\n",
    "\n"
   ]
  },
  {
   "cell_type": "code",
   "execution_count": null,
   "metadata": {},
   "outputs": [],
   "source": [
    "chr(100)"
   ]
  },
  {
   "cell_type": "code",
   "execution_count": null,
   "metadata": {},
   "outputs": [],
   "source": [
    "list(reversed([1,2,3,4]))"
   ]
  },
  {
   "cell_type": "code",
   "execution_count": null,
   "metadata": {},
   "outputs": [],
   "source": [
    "random.uniform(-3,3)\n",
    "random.randint(0,1)"
   ]
  },
  {
   "cell_type": "code",
   "execution_count": null,
   "metadata": {},
   "outputs": [],
   "source": [
    "########### Cheating Detection ########### "
   ]
  },
  {
   "cell_type": "code",
   "execution_count": null,
   "metadata": {},
   "outputs": [],
   "source": [
    "# passed first test set\n",
    "\n",
    "import random\n",
    "\n",
    "def func(arr): #simply found who is getting the highest score\n",
    "    curr = -float('inf')\n",
    "    cheater = 0\n",
    "    for i, a in enumerate(arr): \n",
    "        cnt = 0\n",
    "        for c in a:\n",
    "            cnt +=1 if c == \"1\" else 0\n",
    "        if cnt > curr:\n",
    "            cheater = i+1\n",
    "            curr = cnt\n",
    "    return f'{cheater}'\n",
    "\n",
    "cases = int(input()) #total case counts\n",
    "P = int(input()) #the P is for reference purpose only for this question\n",
    "for i in range(1, cases+1):\n",
    "    arr = [] \n",
    "    for _ in range(100):\n",
    "        arr.append(str(input()))\n",
    "    res = func(arr)\n",
    "    print(f\"Case #{i}: {res}\")\n",
    "\n",
    "    \n",
    "################################################\n",
    "# better approach , failed both test set\n",
    "################################################\n",
    "\n",
    "\n",
    "# import random\n",
    "\n",
    "# def func(arr):\n",
    "#     e = 2.718281828459\n",
    "#     f = lambda x: 1.0/(1.0+e**(-x))\n",
    "#     cheater = 0\n",
    "#     question = [random.uniform(-3,3) for i in range(10000)] #the question hard level should be same for every one.\n",
    "#     currdiff = -float('inf')\n",
    "#     for i in range(len(arr)):\n",
    "#         error = 0\n",
    "#         s = random.uniform(-3,3) #to make the range[-3,3]\n",
    "#         for j, c in enumerate(arr[i][:-1]): # for each question in the exam\n",
    "#             project = 1 if f(s-question[j]) >= 0.5 else 0\n",
    "#             error += (random.randint(0,1) * 1) if c == \"1\" and project == 0 else 0 # if proj cannot answer, but got it right\n",
    "        \n",
    "#         if error > currdiff:\n",
    "#             cheater = i+1\n",
    "#             currdiff = error\n",
    "    \n",
    "#     return f'{cheater}'\n",
    "\n",
    "# file = open('cheating_detection_sample_ts1_input.txt')\n",
    "# arr = file.readlines()[2:]\n",
    "# func(arr)\n",
    "# cases = int(input()) #total case counts\n",
    "# P = int(input()) #the P is for reference purpose only for this question\n",
    "# for i in range(1, cases+1):\n",
    "#     arr = [] \n",
    "#     for _ in range(100):\n",
    "#         arr.append(str(input()))\n",
    "#     res = func(arr)\n",
    "#     print(f\"Case #{i}: {res}\")"
   ]
  },
  {
   "cell_type": "code",
   "execution_count": null,
   "metadata": {},
   "outputs": [],
   "source": [
    "########### Reversort Engineering ########### "
   ]
  },
  {
   "cell_type": "code",
   "execution_count": null,
   "metadata": {},
   "outputs": [],
   "source": [
    "# approach 1: passed all the test sets\n",
    "\n",
    "def func(n,v):\n",
    "    arr = [_ for _ in range(1, n+1)]\n",
    "    if v > (2+n)*(n-2+1)//2 or v < n-1: # if the values fall out of the range\n",
    "        return 'IMPOSSIBLE'\n",
    "    else: \n",
    "        #1. place the number right left right left, as [2,4,.... 3,1], until the remaining is less than the value \n",
    "        #2. move the lowest of the rest number to the proper position, form the rest arr\n",
    "        #3. if step 1 populated count is odd number , reverse the arr in step 2\n",
    "        #4. populate the res array\n",
    "        arr = [_ for _ in range(1, n+1)]\n",
    "        res = [None for _ in range(1,n+1)]\n",
    "        add = [_ for _ in range(n-1, 0, -1)]\n",
    "        curr = n-1 \n",
    "        rem = v-curr #how many need to be placed\n",
    "        odd = -1 \n",
    "        even = 0 \n",
    "        rnd = 0\n",
    "        while rem - (n-arr[0]) > 0:\n",
    "            t = arr.pop(0)\n",
    "            rnd += 1\n",
    "            if rnd % 2 == 1 :\n",
    "                res[odd] = t\n",
    "                odd -= 1\n",
    "            else:\n",
    "                res[even] = t\n",
    "                even += 1\n",
    "            rem -= (n-t) \n",
    "\n",
    "        arr = [_ for _ in range(rnd+1, n+1)] \n",
    "        a = arr[:rem+1]\n",
    "        a = [a[-1]]+ a[:-1][::-1]\n",
    "        b = arr[rem+1:]\n",
    "        arr = a + b\n",
    "        if rnd % 2 == 1 :\n",
    "            arr = arr[::-1]\n",
    "        #rem -= 1\n",
    "        #print(arr)\n",
    "        for i in range(len(res)):\n",
    "            if res[i] == None :\n",
    "                res[i] = arr.pop(0)\n",
    "\n",
    "    #     print(res, rem, rnd) \n",
    "        #print(res,reversort(res))\n",
    "#       return res\n",
    "        return \" \".join([str(_) for _ in res]) \n",
    "\n",
    "\n",
    "cases = int(input()) #total case counts\n",
    "for i in range(1, cases+1):\n",
    "    #N = int(input()) \n",
    "    arr = str(input()).split(' ')\n",
    "    arr[0] = int(arr[0])\n",
    "    arr[1] = int(arr[1])\n",
    "    res = func(arr[0], arr[1])\n",
    "    print(f\"Case #{i}: {res}\")\n",
    "\n",
    "# n = 100\n",
    "# v = 3213\n",
    "# res = func(n,v)\n",
    "# print(res)\n",
    "\n",
    "# print(reversort(res))\n",
    "# print(reversort([5,4,2,3,1]))\n",
    "# for n in range(2, 101):\n",
    "#     print(n)\n",
    "#     for v in range(1,1000):\n",
    "#         res = func(n,v)\n",
    "#         if res != 'IMPOSSIBLE' and reversort(res)!=v:\n",
    "#             print(n,v, res)\n",
    "\n",
    "\n",
    "\n",
    "# appoach 2: passed the small test set\n",
    "# To try all the possible combinations\n",
    "\n",
    "### Reversort(L):\n",
    "###   for i := 1 to length(L) - 1\n",
    "###     j := position with the minimum value in L between i and length(L), inclusive\n",
    "###     Reverse(L[i..j])\n",
    "\n",
    "# def reverse(arr, i, j):\n",
    "#     t = list(reversed(arr[i:j+1]))\n",
    "#     for k in range(i,j+1):\n",
    "#         arr[k] = t.pop(0)\n",
    "\n",
    "# def minloc(arr):\n",
    "#     curr = float('inf')\n",
    "#     output = None\n",
    "#     for i, c in enumerate(arr):\n",
    "#         if c < curr:\n",
    "#             output = i\n",
    "#             curr = c\n",
    "#     return output\n",
    "               \n",
    "# def reversort(arr):\n",
    "#     cnt = 0\n",
    "#     i = 0 \n",
    "#     while i <= len(arr)-2:\n",
    "#         j = minloc(arr[i:])\n",
    "#         cnt += j+1\n",
    "#         reverse(arr, i, i+j)\n",
    "#         i+=1\n",
    "#     return cnt \n",
    "\n",
    "\n",
    "# def perm(output, arr, curr, n):\n",
    "#     if len(curr) == n:\n",
    "#         output.append(curr)\n",
    "#     else:\n",
    "#         for i in range(len(arr)):\n",
    "#             perm(output, arr[:i] + arr[i+1:], curr+[arr[i]], n)\n",
    "    \n",
    "# # output = []\n",
    "# # arr = [_ for _ in range(1, 6)]\n",
    "# # perm(output, arr, [], 5)\n",
    "    \n",
    "# def func(arr):\n",
    "#     n = arr[0]\n",
    "#     c = arr[1]\n",
    "#     arr=[_ for _ in range(1, n+1)]\n",
    "#     pool = [] \n",
    "#     perm(pool, arr, [], n)\n",
    "#     res = []\n",
    "#     for p in pool:\n",
    "#         p_c = p.copy()\n",
    "#         if reversort(p) == c:\n",
    "#             res = p_c \n",
    "#             break\n",
    "#     return \" \".join([str(_) for _ in res]) if res else \"IMPOSSIBLE\"\n",
    "\n",
    "\n",
    "# print(func([4,6]))\n",
    "# print(func([2,1]))\n",
    "# print(func([7,12]))\n",
    "# print(func([7,2]))\n",
    "# print(func([2,1000]))\n",
    "\n",
    "\n",
    "# cases = int(input()) #total case counts\n",
    "# for i in range(1, cases+1):\n",
    "#     #N = int(input()) \n",
    "#     arr = str(input()).split(' ')\n",
    "#     arr[0] = int(arr[0])\n",
    "#     arr[1] = int(arr[1])\n",
    "#     res = func(arr)\n",
    "#     print(f\"Case #{i}: {res}\")"
   ]
  },
  {
   "cell_type": "code",
   "execution_count": null,
   "metadata": {},
   "outputs": [],
   "source": [
    "########### Moons and Umbrellas ########### "
   ]
  },
  {
   "cell_type": "code",
   "execution_count": null,
   "metadata": {
    "scrolled": true
   },
   "outputs": [],
   "source": [
    "def func(arr):\n",
    "    x = arr[0] #CJ\n",
    "    y = arr[1] #JC\n",
    "    mural = arr[2]\n",
    "    if len(mural) < 2 or mural.count(\"?\") == len(mural): \n",
    "        return 0\n",
    "    while \"??\" in mural:\n",
    "        mural = mural.replace(\"??\", \"?\")\n",
    "    output = (mural.count('CJ')*x + mural.count('JC')*y)\n",
    "    mural = list(mural)\n",
    "    while mural and mural[0] == \"?\": #the leading ? should be same as the first non ? character\n",
    "        mural.pop(0)\n",
    "    while mural and mural[-1] == \"?\": # the trailing ? should be same as the last non ? character\n",
    "        mural.pop()\n",
    "    i = 1 \n",
    "    while i < len(mural):\n",
    "        if mural[i] == \"?\":\n",
    "            if mural[i-1] != mural[i+1]:\n",
    "                output+=x if mural[i-1] == \"C\" else y\n",
    "        i+=1\n",
    "\n",
    "    return f'{output}' \n",
    "\n",
    "# print(func([2,3,\"CJ?CC?\"]))\n",
    "# print(func([4,2,\"CJCJ\"]))\n",
    "# print(func([1,3,\"C?J\"]))\n",
    "# print(func([2,5,\"??J???\"]))\n",
    "\n",
    "\n",
    "# print(func([1,2]))\n",
    "# print(func([7,6,5,4,3,2,1]))\n",
    "# print(func([4, 5, 3, 1, 6, 7]))\n",
    "\n",
    "cases = int(input()) #total case counts\n",
    "for i in range(1, cases+1):\n",
    "    #N = int(input()) \n",
    "    arr = str(input()).split(' ')\n",
    "    arr[0] = int(arr[0])\n",
    "    arr[1] = int(arr[1])\n",
    "    res = func(arr)\n",
    "    print(f\"Case #{i}: {res}\")"
   ]
  },
  {
   "cell_type": "code",
   "execution_count": null,
   "metadata": {},
   "outputs": [],
   "source": [
    "####### Reversort #######"
   ]
  },
  {
   "cell_type": "code",
   "execution_count": null,
   "metadata": {},
   "outputs": [],
   "source": [
    "# Reversort(L):\n",
    "#   for i := 1 to length(L) - 1\n",
    "#     j := position with the minimum value in L between i and length(L), inclusive\n",
    "#     Reverse(L[i..j])\n",
    "\n",
    "def reverse(arr, i, j):\n",
    "    t = list(reversed(arr[i:j+1]))\n",
    "    for k in range(i,j+1):\n",
    "        arr[k] = t.pop(0)\n",
    "\n",
    "def minloc(arr):\n",
    "    curr = float('inf')\n",
    "    output = None\n",
    "    for i, c in enumerate(arr):\n",
    "        if c < curr:\n",
    "            output = i\n",
    "            curr = c\n",
    "    return output\n",
    "               \n",
    "def func(arr):\n",
    "    cnt = 0\n",
    "    i = 0 \n",
    "    while i <= len(arr)-2:\n",
    "        j = minloc(arr[i:])\n",
    "        cnt += j+1\n",
    "        reverse(arr, i, i+j)\n",
    "        #print(arr)\n",
    "        i+=1\n",
    "    return f'{cnt}' \n",
    "\n",
    "# print(func([4,2,1,3]))\n",
    "# print(func([1,2]))\n",
    "print(func([1,2,3,5,7,6,4]))\n",
    "# print(func([4, 5, 3, 1, 6, 7]))\n",
    "\n",
    "# cases = int(input()) #total case counts\n",
    "# for i in range(1, cases+1):\n",
    "#     N = int(input()) \n",
    "#     arr = [int(_) for _ in str(input()).split(' ')]\n",
    "#     res = func(arr)\n",
    "#     print(f\"Case #{i}: {res}\")"
   ]
  },
  {
   "cell_type": "code",
   "execution_count": null,
   "metadata": {},
   "outputs": [],
   "source": [
    "import heapq\n",
    "a = [2,1,3]\n",
    "heapq.heapify(a)\n",
    "heapq.nsmallest(1,a)"
   ]
  },
  {
   "cell_type": "code",
   "execution_count": null,
   "metadata": {},
   "outputs": [],
   "source": [
    "a = (1,2,3)\n",
    "b = set()\n",
    "b.add((5,6))\n",
    "b.add(a)\n",
    "b\n",
    "c = set((1,2,3))\n",
    "c"
   ]
  },
  {
   "cell_type": "code",
   "execution_count": null,
   "metadata": {},
   "outputs": [],
   "source": [
    "def binFind(arr, v): #to find the first element larger than v in arr\n",
    "    if v >= arr[-1]:\n",
    "        return -1 \n",
    "    elif v < arr[0]:\n",
    "        return 0\n",
    "    else:\n",
    "        s = 0 \n",
    "        e = len(arr)-1 \n",
    "        while s <= e:\n",
    "            mid = (s+e)//2\n",
    "            if arr[mid] <= v:\n",
    "                s = mid + 1\n",
    "            else: \n",
    "                e = mid - 1\n",
    "        return s\n",
    "binFind([1,2,2,4,4], 4)"
   ]
  },
  {
   "cell_type": "code",
   "execution_count": null,
   "metadata": {},
   "outputs": [],
   "source": [
    "a=set()\n",
    "a.add((1,2,3))\n",
    "a.add((1,3,2))\n",
    "a"
   ]
  },
  {
   "cell_type": "code",
   "execution_count": null,
   "metadata": {},
   "outputs": [],
   "source": [
    "def bin(arr, v):\n",
    "    if v > arr[-1]:\n",
    "        return 0\n",
    "    elif v < arr[0]:\n",
    "        return len(arr)\n",
    "    else:\n",
    "        s = 0\n",
    "        e = len(arr)-1\n",
    "        while s <=e:\n",
    "            mid = (s+e)//2 \n",
    "            if arr[mid] <= v:\n",
    "                s = mid + 1\n",
    "            else:\n",
    "                e = mid - 1\n",
    "\n",
    "        return len(arr)-s\n",
    "    \n",
    "bin([2, 3, 4, 5], 2)"
   ]
  },
  {
   "cell_type": "code",
   "execution_count": null,
   "metadata": {},
   "outputs": [],
   "source": [
    "sig = lambda x:'-'.join([str(_) for _ in sorted(x)])\n",
    "sig([2,1,2])"
   ]
  },
  {
   "cell_type": "code",
   "execution_count": null,
   "metadata": {},
   "outputs": [],
   "source": [
    "a = [1,2,3]\n",
    "b = [2,1,3] \n",
    "set(a) == set(b)"
   ]
  },
  {
   "cell_type": "code",
   "execution_count": null,
   "metadata": {
    "scrolled": true
   },
   "outputs": [],
   "source": [
    "\"WERAasf\".lower()"
   ]
  },
  {
   "cell_type": "code",
   "execution_count": null,
   "metadata": {},
   "outputs": [],
   "source": [
    "np.random.randint(1,101, 100)"
   ]
  },
  {
   "cell_type": "code",
   "execution_count": null,
   "metadata": {},
   "outputs": [],
   "source": [
    "random.random()"
   ]
  },
  {
   "cell_type": "code",
   "execution_count": null,
   "metadata": {},
   "outputs": [],
   "source": [
    "np.random.randint(1, 11, 10)"
   ]
  },
  {
   "cell_type": "code",
   "execution_count": null,
   "metadata": {},
   "outputs": [],
   "source": [
    "\"hello\"[6:-1]"
   ]
  },
  {
   "cell_type": "code",
   "execution_count": null,
   "metadata": {},
   "outputs": [],
   "source": [
    "def func(grid):\n",
    "    k = 0 \n",
    "    for i in range(len(grid)):\n",
    "        k+= grid[i][i]\n",
    "    r = 0\n",
    "    for g in grid:\n",
    "        r += 1 if len(g) != len(set(g)) else 0\n",
    "    c = 0 \n",
    "    for j in range(len(grid[0])):\n",
    "        curr = []\n",
    "        for i in range(len(grid)):\n",
    "            curr.append(grid[i][j])\n",
    "        c+= 1 if len(curr) != len(set(curr)) else 0\n",
    "            \n",
    "    return f'{k} {r} {c}' \n",
    "\n",
    "\n",
    "cases = int(input())\n",
    "for i in range(1, cases+1):\n",
    "    N = int(input())\n",
    "    arr = []\n",
    "    for line in range(N):\n",
    "        arr.append([int(_) for _ in str(input()).split(' ')])\n",
    "    res = func(arr)\n",
    "    print(f\"Case #{i}: {res}\")"
   ]
  },
  {
   "cell_type": "code",
   "execution_count": null,
   "metadata": {},
   "outputs": [],
   "source": [
    "curr = \"\"\n",
    "i = 1\n",
    "output = 1\n",
    "while len(curr) <= 1000000:\n",
    "    curr += str(i)\n",
    "    i+=1\n",
    "    \n",
    "# print(curr[12])\n",
    "print( int(curr[0])* int(curr[9])* int(curr[99])* int(curr[999])* int(curr[9999])* int(curr[99999])* int(curr[999999]))\n",
    "\n"
   ]
  },
  {
   "cell_type": "code",
   "execution_count": null,
   "metadata": {},
   "outputs": [],
   "source": [
    "limit = 1000\n",
    "maxx = 0\n",
    "output = -1\n",
    "for n in range(1, limit+1):\n",
    "    cnt = 0\n",
    "    print(n)\n",
    "    for i in range(1, n+1):\n",
    "        for j in range(i, n+1): \n",
    "            k = n -i -j\n",
    "            if i+j > k and k > 0 and i**2+j**2 == k**2:\n",
    "                cnt += 1\n",
    "    if cnt >= maxx:\n",
    "        maxx = cnt\n",
    "        output = n\n",
    "print(maxx)\n",
    "print(output)\n",
    "        \n"
   ]
  },
  {
   "cell_type": "code",
   "execution_count": null,
   "metadata": {},
   "outputs": [],
   "source": [
    "def isPandigit(s):\n",
    "    dedup = set(s)\n",
    "    return '0' not in dedup and len(dedup) == 9\n",
    "\n",
    "output = \"\"\n",
    "for i in range(1,10000): # len() concat(10000*1, 10000*2)) > 9\n",
    "    curr = \"\"\n",
    "    for j in range(1, 10):\n",
    "        curr += str(i*j)\n",
    "        if len(curr) == 9:\n",
    "            if isPandigit(curr):\n",
    "                #print(output)\n",
    "                output = max(output,curr)\n",
    "        elif len(curr) > 9:\n",
    "            break\n",
    "output"
   ]
  },
  {
   "cell_type": "code",
   "execution_count": null,
   "metadata": {},
   "outputs": [],
   "source": [
    "a = set([1,2])\n",
    "b = set([2,3])\n",
    "a-b\n",
    "b-a"
   ]
  },
  {
   "cell_type": "code",
   "execution_count": null,
   "metadata": {},
   "outputs": [],
   "source": [
    "fact = lambda x: 1 if x in (0, 1) else x * fact(x-1)\n",
    "output = []\n",
    "for i in range(3, 100000):\n",
    "    if i == sum(fact(int(_)) for _ in list(str(i))):\n",
    "        output.append(i)\n",
    "\n",
    "print(sum(output))"
   ]
  },
  {
   "cell_type": "code",
   "execution_count": null,
   "metadata": {
    "scrolled": true
   },
   "outputs": [],
   "source": [
    "def helper(a, b):\n",
    "    a = str(a) \n",
    "    b = str(b)\n",
    "    if int(a)%10!=0 and int(b)%10 != 0 and  set(a) & set(b):\n",
    "        A = list(set(a) - set(b))\n",
    "        B = list(set(b) - set(a))\n",
    "        if A and B:\n",
    "            return int(A[0])/int(B[0])\n",
    "        else:\n",
    "            return -1\n",
    "    else:\n",
    "        return -1 \n",
    "n = []\n",
    "d = []\n",
    "for a in range(10, 100):\n",
    "    for b in range(a+1, 100):\n",
    "        if a/b == helper(a,b):\n",
    "            n.append(a)\n",
    "            d.append(b)\n",
    "\n",
    "a = n.pop(0)\n",
    "while n:\n",
    "    a*=n.pop(0)\n",
    "b = d.pop(0)\n",
    "while d:\n",
    "    b*=d.pop(0)\n",
    "\n",
    "def gcd(a, b):\n",
    "    while b != 0:\n",
    "        t = a % b\n",
    "        a = b\n",
    "        b = t\n",
    "    return a\n",
    "\n",
    "print(a)\n",
    "print(b)\n",
    "\n",
    "b/gcd(a,b)\n"
   ]
  },
  {
   "cell_type": "code",
   "execution_count": null,
   "metadata": {},
   "outputs": [],
   "source": []
  },
  {
   "cell_type": "code",
   "execution_count": null,
   "metadata": {},
   "outputs": [],
   "source": []
  },
  {
   "cell_type": "code",
   "execution_count": null,
   "metadata": {},
   "outputs": [],
   "source": [
    "####### euler No.357 #######"
   ]
  },
  {
   "cell_type": "code",
   "execution_count": null,
   "metadata": {},
   "outputs": [],
   "source": [
    "def helper(n):\n",
    "    output = [1, n]\n",
    "    for i in range(2, int(n**0.5)+1):\n",
    "        if n%i == 0 :\n",
    "            output.append(i)\n",
    "            output.append(n//i)\n",
    "    return output\n"
   ]
  },
  {
   "cell_type": "code",
   "execution_count": null,
   "metadata": {},
   "outputs": [],
   "source": [
    "def isPrime(n):\n",
    "    for i in range(2, int(n**0.5)+1):\n",
    "        if n % i == 0:\n",
    "            return False\n",
    "    return True"
   ]
  },
  {
   "cell_type": "code",
   "execution_count": null,
   "metadata": {
    "scrolled": true
   },
   "outputs": [],
   "source": [
    "pool = set()\n",
    "for i in range(1,100000000+1):\n",
    "    if isPrime(i): \n",
    "        pool.add(i)\n",
    "    if i%100000==0:\n",
    "        print(i)\n"
   ]
  },
  {
   "cell_type": "code",
   "execution_count": null,
   "metadata": {
    "scrolled": true
   },
   "outputs": [],
   "source": [
    "output = []\n",
    "limit = 100000000\n",
    "for i in range(1, limit+1):\n",
    "    if i%1000000==0:\n",
    "        print(i)\n",
    "    arr = helper(i) \n",
    "    cnt = 0\n",
    "    for a in arr:\n",
    "        if a in pool:\n",
    "            cnt +=1\n",
    "        else:\n",
    "            break\n",
    "    if cnt == len(arr):\n",
    "        output.append(i)\n",
    "print(output)\n",
    "print(sum(output))"
   ]
  },
  {
   "cell_type": "code",
   "execution_count": null,
   "metadata": {},
   "outputs": [],
   "source": [
    "##############################"
   ]
  },
  {
   "cell_type": "code",
   "execution_count": null,
   "metadata": {},
   "outputs": [],
   "source": [
    "set(\"hello\") | set(\"o\") "
   ]
  },
  {
   "cell_type": "code",
   "execution_count": null,
   "metadata": {},
   "outputs": [],
   "source": [
    "9999*99999"
   ]
  },
  {
   "cell_type": "code",
   "execution_count": null,
   "metadata": {},
   "outputs": [],
   "source": [
    "output = []\n",
    "for i in range(1000000):\n",
    "    b = bin(i).replace('0b','')\n",
    "    if str(i) == str(i)[::-1] and b == b[::-1]:\n",
    "        output.append(i)\n",
    "print(sum(output))"
   ]
  },
  {
   "cell_type": "code",
   "execution_count": null,
   "metadata": {},
   "outputs": [],
   "source": [
    "ref = set()\n",
    "cnt = 0 \n",
    "for i in range(1000):\n",
    "    for j in range(10000):\n",
    "        cnt+=1\n",
    "        if cnt %10000 ==0:\n",
    "            print(cnt)\n",
    "        curr = i*j\n",
    "        a = set(str(i))\n",
    "        b = set(str(j))\n",
    "        c = set(str(curr))\n",
    "        if len(str(i) + str(j) + str(curr))== 9 and a&b==set() and a&c == set() and b&c == set():\n",
    "            s = a | b | c\n",
    "            if \"0\" not in s and len(s) == 9:\n",
    "                print(i, j, curr)\n",
    "                ref.add(curr)\n",
    "print(ref)\n",
    "print(sum(list(ref)))"
   ]
  },
  {
   "cell_type": "code",
   "execution_count": null,
   "metadata": {},
   "outputs": [],
   "source": [
    "def change(amt, coins):\n",
    "    dp = [0]*(amt+1)\n",
    "    dp[0] = 1\n",
    "    for c in coins:\n",
    "        for j in range(c, amt+1):\n",
    "            dp[j] += dp[j-c]\n",
    "    return dp[-1]\n",
    "\n",
    "change(200, [1,2,5,10,20,50,100,200])\n",
    "\n"
   ]
  },
  {
   "cell_type": "code",
   "execution_count": null,
   "metadata": {},
   "outputs": [],
   "source": [
    "def divide(a): \n",
    "    output =  \"0.\"\n",
    "    loc = 0 #to store the rem location \n",
    "    rem = 10\n",
    "    hmp = {}\n",
    "    while rem !=0:\n",
    "        output += str(rem // a)\n",
    "        rem %= a\n",
    "        if rem not in hmp:\n",
    "            hmp[rem] = loc\n",
    "        else:\n",
    "            return loc - hmp[rem] #if current rem was met, then the recurring starts from here. \n",
    "        rem *=10\n",
    "        loc += 1\n",
    "    return 0\n",
    "\n",
    "m = 0\n",
    "output = 1\n",
    "for i in range(1, 1001):\n",
    "    curr = divide(i)\n",
    "    if curr > m: \n",
    "        m = curr\n",
    "        output = i\n",
    "print(output)\n",
    "        \n",
    "        \n",
    "    \n",
    "    \n",
    "    \n",
    "    \n",
    "    "
   ]
  },
  {
   "cell_type": "code",
   "execution_count": null,
   "metadata": {},
   "outputs": [],
   "source": [
    "a = set([1,2,3]) \n",
    "b = set([2,3])\n",
    "c = a-b\n",
    "list(c)[0]"
   ]
  },
  {
   "cell_type": "code",
   "execution_count": null,
   "metadata": {
    "scrolled": true
   },
   "outputs": [],
   "source": [
    "np.random.randint(1,7, 50)"
   ]
  },
  {
   "cell_type": "code",
   "execution_count": null,
   "metadata": {},
   "outputs": [],
   "source": [
    "def isMandelbrotNumber(z, c):\n",
    "    iteration = 40\n",
    "    threshold = 100\n",
    "    while iteration > 0:\n",
    "        z = math.sin(z/c) \n",
    "        if abs(z) > threshold:\n",
    "            return False\n",
    "        iteration -=1\n",
    "    return True"
   ]
  },
  {
   "cell_type": "code",
   "execution_count": null,
   "metadata": {},
   "outputs": [],
   "source": [
    "arr = []\n",
    "r = -100 \n",
    "i = -100 \n",
    "while r < 100:\n",
    "    arr.append([])\n",
    "    while i < 30:\n",
    "        if isMandelbrotNumber(0, r + 1j*i):\n",
    "            arr[-1].append(\"*\")\n",
    "        else:\n",
    "            arr[-1].append(\" \")\n",
    "        i+=0.01   \n",
    "    r+=0.01\n",
    "print(arr)\n",
    "print(\"\\n\".join(\"\".join(a) for a in arr))\n",
    "\n"
   ]
  },
  {
   "cell_type": "code",
   "execution_count": null,
   "metadata": {},
   "outputs": [],
   "source": [
    "def isMandelbrotNumber(z, c):\n",
    "    iteration = 40\n",
    "    threshold = 100\n",
    "    while iteration > 0:\n",
    "        z = z**2+c \n",
    "        if abs(z) > threshold:\n",
    "            return False\n",
    "        iteration -=1\n",
    "    return True"
   ]
  },
  {
   "cell_type": "code",
   "execution_count": null,
   "metadata": {},
   "outputs": [],
   "source": [
    "arr = []\n",
    "i = -1.2 \n",
    "cnt_i = 0\n",
    "while i < 1.2:\n",
    "    cnt_i += 1 \n",
    "    arr.append([])\n",
    "    j = -1.6\n",
    "    cnt_j = 0\n",
    "    while j < 0.6:\n",
    "        arr[-1].append(\"*\" if isMandelbrotNumber(0, j + 1j * i) else \" \")\n",
    "        j+=0.02\n",
    "        cnt_j += 1\n",
    "    i+=0.06\n",
    "print('total number checked: ', cnt_j, cnt_i)\n",
    "print(\"\\n\".join(\"\".join(a) for a in arr))"
   ]
  },
  {
   "cell_type": "code",
   "execution_count": null,
   "metadata": {},
   "outputs": [],
   "source": []
  },
  {
   "cell_type": "code",
   "execution_count": null,
   "metadata": {},
   "outputs": [],
   "source": []
  },
  {
   "cell_type": "code",
   "execution_count": null,
   "metadata": {},
   "outputs": [],
   "source": []
  },
  {
   "cell_type": "code",
   "execution_count": null,
   "metadata": {},
   "outputs": [],
   "source": []
  },
  {
   "cell_type": "code",
   "execution_count": null,
   "metadata": {},
   "outputs": [],
   "source": [
    "def isMandelbrot(z,c, iteration=100): #check if the complex number is in mandelbrot set after 20 iteration\n",
    "    threshold = 100\n",
    "    if abs(z) > threshold: \n",
    "        return \"inf\"\n",
    "    else:\n",
    "        curr = z**2+c\n",
    "        while iteration > 0:\n",
    "            curr = curr ** 2 + c\n",
    "            if abs(curr.real) > threshold:\n",
    "                return \"inf\"\n",
    "            iteration -= 1\n",
    "        return curr"
   ]
  },
  {
   "cell_type": "code",
   "execution_count": null,
   "metadata": {},
   "outputs": [],
   "source": [
    "arr = []\n",
    "for y in [_ * 0.06 for _ in range(-20, 20)]:\n",
    "    arr.append([])\n",
    "    for x in [_ * 0.02 for _ in range(-80, 30)]:\n",
    "        m = isMandelbrot(0, x + 1j * y)\n",
    "        if m == \"inf\":\n",
    "            arr[-1].append(\" \")\n",
    "        else:\n",
    "            arr[-1].append(\"*\")\n",
    "res = []\n",
    "for a in arr:\n",
    "    res.append(\"\".join(a))\n",
    "\n",
    "print(\"\\n\".join(res))"
   ]
  },
  {
   "cell_type": "code",
   "execution_count": null,
   "metadata": {},
   "outputs": [],
   "source": [
    "def mandelbrot_0(z , c , iteration_cnt = 40):\n",
    "    if abs(z) > 1000:\n",
    "        return float(\"nan\")\n",
    "    elif iteration_cnt > 0: #Fc(z) = z**2 + c\n",
    "        return mandelbrot(z ** 2 + c, c, iteration_cnt - 1)\n",
    "    else:\n",
    "        return z ** 2 + c"
   ]
  },
  {
   "cell_type": "code",
   "execution_count": null,
   "metadata": {},
   "outputs": [],
   "source": [
    "arr = []\n",
    "for y in [a * 0.06 for a in range(-20, 20)]:\n",
    "    arr.append([])\n",
    "    for x in [a * 0.02 for a in range(-80, 30)]:\n",
    "        if math.isnan(mandelbrot(0, x + 1j * y).real):\n",
    "            arr[-1].append(\" \")\n",
    "        else:\n",
    "            arr[-1].append(\"*\")\n",
    "arr\n",
    "res = []\n",
    "for a in arr:\n",
    "    res.append(\"\".join(a))\n",
    "\n",
    "print(\"\\n\".join(res))"
   ]
  },
  {
   "cell_type": "code",
   "execution_count": null,
   "metadata": {},
   "outputs": [],
   "source": [
    "\n",
    "\n",
    "print(\"\\n\".join([\"\".join([\"*\" if not math.isnan(mandelbrot(0, x + 1j * y).real) else \" \"\n",
    "                 for x in [_ * 0.025 for _ in range(-80, 30)]]) \n",
    "                 for y in [_ * 0.06 for _ in range(-20, 20)]])\n",
    "     )"
   ]
  },
  {
   "cell_type": "code",
   "execution_count": null,
   "metadata": {},
   "outputs": [],
   "source": [
    "arr = [\"BB\", \"AA\", \"CC\", \"A\", \"B\", \"AAA\", \"BBB\"] \n",
    "arr.sort(key=lambda x: x)\n",
    "arr.sort(key = lambda x : len(x))\n",
    "arr"
   ]
  },
  {
   "cell_type": "code",
   "execution_count": null,
   "metadata": {},
   "outputs": [],
   "source": [
    "np.random.randint(-12, 12, 100)"
   ]
  },
  {
   "cell_type": "code",
   "execution_count": null,
   "metadata": {},
   "outputs": [],
   "source": [
    "a = set([1,2,3])\n",
    "for i in a:\n",
    "    print(i)"
   ]
  },
  {
   "cell_type": "code",
   "execution_count": null,
   "metadata": {},
   "outputs": [],
   "source": []
  },
  {
   "cell_type": "code",
   "execution_count": null,
   "metadata": {},
   "outputs": [],
   "source": [
    "# def brokenCalc(X: int, Y: int) -> int:\n",
    "#     def dfs(a, b, currSteps,output):\n",
    "#         print(a)\n",
    "#         if a >= b:\n",
    "#             output[0] = min(output[0], currSteps+a-b)\n",
    "#         else:\n",
    "#             if a-1 > 0:\n",
    "#                 dfs(a-1, b, currSteps+1,output)\n",
    "#             dfs(a*2, b, currSteps+1, output)\n",
    "#     output = [float('inf')]\n",
    "#     dfs(X, Y, 0, output)\n",
    "#     return output[0]\n",
    "# brokenCalc(4, 103)\n",
    "            \n",
    "        "
   ]
  },
  {
   "cell_type": "code",
   "execution_count": null,
   "metadata": {},
   "outputs": [],
   "source": [
    "np.random.randint(0,100,50)"
   ]
  },
  {
   "cell_type": "code",
   "execution_count": null,
   "metadata": {},
   "outputs": [],
   "source": [
    "arr =[]\n",
    "for i in range(1,11):\n",
    "    arr.append(list(np.random.randint(0,2,10)))\n",
    "arr"
   ]
  },
  {
   "cell_type": "code",
   "execution_count": null,
   "metadata": {},
   "outputs": [],
   "source": [
    "a = {'a':12, 'b':3}\n",
    "b = {'b':13,'a':12}\n",
    "a==b"
   ]
  },
  {
   "cell_type": "code",
   "execution_count": null,
   "metadata": {},
   "outputs": [],
   "source": [
    "150**0.5"
   ]
  },
  {
   "cell_type": "code",
   "execution_count": null,
   "metadata": {},
   "outputs": [],
   "source": []
  },
  {
   "cell_type": "code",
   "execution_count": null,
   "metadata": {},
   "outputs": [],
   "source": [
    "def newton(s, t):\n",
    "    output = s\n",
    "    for i in range(2, t+1):\n",
    "        output = 0.5*(output+ s/output)\n",
    "    return output\n",
    "newton(150, 1000)"
   ]
  },
  {
   "cell_type": "code",
   "execution_count": null,
   "metadata": {},
   "outputs": [],
   "source": [
    "def internal(a,b, rem):\n",
    "    if rem <= 2:\n",
    "        return 2*a+b\n",
    "    else:\n",
    "        return 2*a+b/(internal(a,b,rem-1))\n",
    "\n",
    "\n",
    "def s(a, b, t):\n",
    "    if t == 0 :\n",
    "        return a\n",
    "    elif t == 1 :\n",
    "        return a + b/(2*a)\n",
    "    else:\n",
    "        return a + b/(2*a + b/internal(a, b, t-1))\n",
    "\n",
    "\n",
    "s(12, 6, 200)\n"
   ]
  },
  {
   "cell_type": "code",
   "execution_count": null,
   "metadata": {},
   "outputs": [],
   "source": [
    "a = 1\n",
    "print(~a)"
   ]
  },
  {
   "cell_type": "code",
   "execution_count": null,
   "metadata": {},
   "outputs": [],
   "source": [
    "hmp= {\"b\":\"1\", \"ab\":\"2\"}\n",
    "s =\"babbabababa\"\n",
    "for k, v in hmp.items():\n",
    "    print(k, v)\n",
    "    s=s.replace(k, v)\n",
    "s"
   ]
  },
  {
   "cell_type": "code",
   "execution_count": null,
   "metadata": {},
   "outputs": [],
   "source": [
    "\"\"\"We work now to prepare the UNDP File\n",
    "NB: The UNPD file has NOT been edited to get rid of the DOB Column\n",
    "and using the formula in excel to have it as age range. I have done\n",
    "this here and it is precise using timedelta :D :D :D\n",
    "\"\"\"\n",
    "UNDPF = pd.read_excel('UNDP_September_2020.xlsx')\n",
    "\n",
    "# Cleaning the string from extra spaces etc.\n",
    "UNDPF.replace({'=': '', '\"':''}, inplace=True)\n",
    "UNDPF=UNDPF.applymap(lambda x: x.strip() if isinstance(x, str) else x)\n",
    "\n",
    "# I figured that this step is not needed because I use the reindex later\n",
    "# and reindexing gets rid of unwanted columns.\n",
    "\"\"\"UNDPF = UNDPF.drop(columns=['SNAPSHOTDATE', 'HONORIFICTITLE', 'MIDDLENAME',\n",
    "                            'FULLNAME', 'MARITALSTATUSCODE',\n",
    "                            'MARITALSTATUSNAME', 'CATEGORY', 'GRADE',\n",
    "                            'GRADESTEP', 'RETIREMENTDATE',\n",
    "                            'APPOINTMENTEFFECTIVE', 'APPOINTMENTEXPIRATION',\n",
    "                            'EODUNCS', 'EODUN', 'EODUNS', 'EMPL_STATUS',\n",
    "                            'GRADE2', 'STEP', 'DUTYSTATION_CD', 'CONTRACT_NUM',\n",
    "                            'CNT_TEMPLATE_ID', 'CONTRACT_BEGIN_DT',\n",
    "                            'CONTRACT_END_DT', 'ORGANIZATIONALUNITDESCRIPTION',\n",
    "                            'DUTYSTN_COUNTRY'])\n",
    "\"\"\"\n",
    "\n",
    "UNDPF[['INDEXNUMBER', 'POSITION_NBR', 'ORGANIZATIONALUNITCODE']] = \\\n",
    "    UNDPF[['INDEXNUMBER', 'POSITION_NBR', 'ORGANIZATIONALUNITCODE']].astype('str')\n",
    "     \n",
    "# Adjusting the Org Unit Codes to match the EF File.\n",
    "UNDPF['ORGANIZATIONALUNITCODE'] = \\\n",
    "    UNDPF['ORGANIZATIONALUNITCODE'].mask(\n",
    "        UNDPF['ORGANIZATIONALUNITCODE'].str.len() == 4,\n",
    "        '2000'+UNDPF['ORGANIZATIONALUNITCODE'])\n",
    "UNDPF['ORGANIZATIONALUNITCODE'] = \\\n",
    "    UNDPF['ORGANIZATIONALUNITCODE'].mask(\n",
    "        UNDPF['ORGANIZATIONALUNITCODE'].str.len() == 5,\n",
    "        '200'+UNDPF['ORGANIZATIONALUNITCODE'])\n",
    "UNDPF['ORGANIZATIONALUNITCODE'] = \\\n",
    "    UNDPF['ORGANIZATIONALUNITCODE'].mask(\n",
    "        UNDPF['ORGANIZATIONALUNITCODE'].str.len() == 4,\n",
    "        '20'+UNDPF['ORGANIZATIONALUNITCODE'])\n",
    "\n",
    "# Converting the DOB column to AGE RANGE.\n",
    "UNDPF['DOB'] = pd.to_datetime(UNDPF['DOB'])\n",
    "UNDPF[\"AGE\"] = UNDPF['DOB'].apply(lambda x:dt.datetime.today()-x)\n",
    "UNDPF[\"AGE\"] = UNDPF[\"AGE\"].astype('timedelta64[Y]')\n",
    "UNDPF[\"AGE\"] = UNDPF[\"AGE\"].astype(int)\n",
    "UNDPF['age_range'] = pd.cut(UNDPF.AGE,\n",
    "                            bins=[0, 26, 31, 36, 41, 46, 51, 56, 61, 1000],\n",
    "                            right=False,\n",
    "                            labels=['Under 26', '26-30', '31-35', '36-40',\n",
    "                                    '41-45', '46-50', '51-55', '56-60',\n",
    "                                    '61 or older'])\n",
    "UNDPF.drop(columns='AGE', inplace=True)\n",
    "\n",
    "\n",
    "UNDPF[['INDEXNUMBER','POSITION_NBR']]=UNDPF[['INDEXNUMBER','POSITION_NBR']].astype('str')\n",
    "# Remove duplicates from the UNDPF file this is important now because I will need to get rid of these before the next round of \n",
    "# removal of duplicates in the EFUNPDF file which will eliminate both entries in the UNDPF due to the fact that I will elimiate\n",
    "# all that are duplicate and without entry in Job Network. Which will remove all duplicate from UNDPF\n",
    "# This step has to take place before I remove the sorting column below:\n",
    "UNDPF.sort_values(by='APPOINTMENTEFFECTIVE',inplace=True)\n",
    "UNDPF.drop_duplicates('INDEXNUMBER',keep='last', inplace=True)\n",
    "# Rename columns:\n",
    "UNDPF=UNDPF.rename(columns={'INDEXNUMBER':'index',\n",
    "                   'FIRSTNAME':'first_name',\n",
    "                   'LASTNAME':'last_name',\n",
    "                   'ORGANIZATIONALUNITCODE':'employee_org_unit',\n",
    "                   'ENTITY':'org_level_03',\n",
    "                   'LEVEL1':'payscale',\n",
    "                   'FUNCTIONALTITLE':'hr_position_title',\n",
    "                   'APPOINTMENTTYPE':'contract_type',\n",
    "                   'GENDER':'gender',\n",
    "                   'EMAIL':'un_email',\n",
    "                   'DUTYSTATION':'duty_station',\n",
    "                   'DUTYSTN_COUNTRY_NAME':'country',\n",
    "                   'POSITION_NBR':'hr_position_code',\n",
    "                   'BUSINESS_UNIT':'org_level_01',\n",
    "                   'COMPANY':'org_level_04',\n",
    "                   'AGERANGE':'age_range'})\n",
    "\n",
    "# Reindexing to match the EF Columns. List below should match EF list above:\n",
    "UNDPF=UNDPF.reindex(columns=[\n",
    "          'master_cost_center',\n",
    "          'org_level_01',\n",
    "          'org_level_02',\n",
    "          'org_level_03',\n",
    "          'org_level_04',\n",
    "          'org_level_05',\n",
    "          'org_level_06',\n",
    "          'org_level_07',\n",
    "          'employee_org_unit',\n",
    "          'employee_org_unit_short_text',\n",
    "          'employee_org_unit_text',\n",
    "          'position_org_unit_description',\n",
    "          'duty_station',\n",
    "          'country',\n",
    "          'index',\n",
    "          'last_name',\n",
    "          'first_name',\n",
    "          'gender',\n",
    "          'age_range',\n",
    "          'contract_type', \n",
    "          'un_email',\n",
    "          'personal_email',\n",
    "          'payscale','job_network',\n",
    "          'job_network_text','job_family',\n",
    "          'hr_position_code',\n",
    "          'hr_position_title',\n",
    "          'office_code',\n",
    "          'office_text'])\n",
    "\n",
    "\n",
    "\n"
   ]
  },
  {
   "cell_type": "code",
   "execution_count": null,
   "metadata": {},
   "outputs": [],
   "source": [
    "\n",
    "\"\"\" Now we combine both DataFrames files:\n",
    "    This is where we begin using EFUNDPF\n",
    "\"\"\"\n",
    "EFUNDPF=EF.append(UNDPF)\n",
    "\n",
    "# Before working on the combined file we will make sure everything is capitalized and without extra characters\n",
    "### EFUNDPF['un_email'].replace({'=': '', '\"':''}, inplace=True)\n",
    "EFUNDPF=EFUNDPF.applymap(lambda x: x.strip() if isinstance(x, str) else x)\n",
    "EFUNDPF['un_email']=EFUNDPF['un_email'].apply(lambda x: x.upper() if isinstance(x, str) else x)\n",
    "\n",
    "# TO DO: I need to make sure that all entities columns are capitalized:\n",
    "EFUNDPF.iloc[:,0:11] = EFUNDPF.iloc[:,0:11].applymap(lambda x: x.upper() if isinstance(x, str) else x)\n",
    "\n",
    "\n",
    "\n",
    "\n",
    "\"\"\"\n",
    "This step is to get previously recovered emails you just need two columns in the file. or use usecols:\n",
    "\"\"\"\n",
    "# This function expects a dataframe with 2 columns first index then the Email.\n",
    "def getrecoveredemails(dataf):\n",
    "    global EFUNDPF\n",
    "    # 1 prepared my un_email column by labelling non UN emails as Missing just after getting rid of nan:\n",
    "    # I use the two lines below to isolate the non UN emails. This 2 lines combination has proven to be effective:\n",
    "    EFUNDPF['un_email'].fillna(value='Missing',inplace=True)\n",
    "    EFUNDPF['un_email'].mask(EFUNDPF['un_email'].str.contains('@YAHOO|@GMAIL|@HOTMAIL|@BLUEWINCH|@GMX|@OUTLOOK|@WANADOO'), other='Missing',inplace=True)\n",
    "    EFUNDPF['un_email'].mask(~EFUNDPF['un_email'].str.contains('UNDP.ORG|UN.ORG|UNFCC|UNICRI|UNHABITAT.ORG|UNECA|UNCTAD|UNODC|CEPAL|UNECE|UNOG.CH|.INT|.ORG|AITC.NET|AIIC.NET|UNCRD|OHCHR|UNDSS.ORG'), other='Missing',inplace=True)\n",
    "    EFUNDPF['index'] = EFUNDPF['index'].astype('str')\n",
    "    # 2' Create the common Columns to merge based on: \n",
    "    # ses=ses.rename(columns={'Empolyee ID':'index'})\n",
    "    # sel.reindex(columns=['index','Email'],inplace = True)\n",
    "    dataf.set_axis(['index','Email'],axis=1,inplace=True)\n",
    "    \n",
    "    # Making sure index is a string:\n",
    "    dataf[['index','Email']] = dataf[['index','Email']].astype('str')\n",
    "    \n",
    "    # 3' Making sure to capitalize emails before working on them: \n",
    "    dataf['Email'] = dataf['Email'].str.upper()\n",
    "\n",
    "    # 4 Merging the files: how:left ensures that bring the emails have an index number in the EF dataframe:\n",
    "    EFUNDPF=EFUNDPF.merge(dataf[['index','Email']],how='left',on='index')\n",
    "    \n",
    "    # 5 To avoid the ~float error we get in the mask() method to be used below:\n",
    "    EFUNDPF['Email'].fillna(value='Missing',inplace=True)\n",
    "    \n",
    "    # 6 This step is needed to avoid copying yahoo or gmail email from mail colomn onw last time\n",
    "    EFUNDPF['Email'].mask(EFUNDPF['Email'].str.contains('YAHOO|GMAIL|HOTMAIL|BLUEWINCH|GMX|OUTLOOK|WANADOO'), other='Missing',inplace=True)\n",
    "    \n",
    "    # 7 Replace the non UN Emails by values in the Email column:\n",
    "    EFUNDPF['un_email'].mask(EFUNDPF['un_email']=='Missing', EFUNDPF['Email'],inplace=True)\n",
    "    \n",
    "    # 8 Dropping the column merged:\n",
    "    EFUNDPF=EFUNDPF.drop(columns='Email')\n",
    "    \n",
    "    # 9 Removing non UN emails that might have been copied in the steps above. This is done once \n",
    "    # at the beginning and once at the end for best results:\n",
    "    EFUNDPF['un_email'].mask(EFUNDPF['un_email'].str.contains('@YAHOO|@GMAIL|@HOTMAIL|@BLUEWINCH|@GMX|@OUTLOOK|@WANADOO'), other='Missing',inplace=True)\n",
    "    EFUNDPF['un_email'].mask(~EFUNDPF['un_email'].str.contains('UNDP.ORG|UN.ORG|UNFCC|UNICRI|UNHABITAT.ORG|UNECA|UNCTAD|UNODC|CEPAL|UNECE|UNOG.CH|.INT|.ORG|AITC.NET|AIIC.NET|UNCRD|OHCHR|UNDSS.ORG'), other='Missing',inplace=True)\n",
    "    return EFUNDPF\n",
    "\n",
    "sel = pd.read_excel('../First Attempt/Reporting Structure/2019 SES Employee File Final.xlsx', usecols=['Employee ID','Email'])\n",
    "getrecoveredemails(sel)\n",
    "\n",
    "bt=pd.read_excel('../First Attempt/UMOJA EXTRACTS/Non_UN_emails corrected by BTA.xlsx')\n",
    "getrecoveredemails(bt)\n",
    "\n",
    "btagain = pd.read_excel('./UMOJA 2nd Extract/corrected BTA2.xlsx')\n",
    "getrecoveredemails(btagain)\n",
    "\n",
    "\n",
    "                    \n",
    "# To catch some instances where we had valid emails in the personal_email column and move them to un_email:\n",
    "EFME = EF[(EF['un_email']=='Missing') &\\\n",
    "          (EF['personal_email'].str.contains('@UN.ORG')) &\\\n",
    "          (~EF['personal_email'].str.contains('DEFAULT@UN.ORG'))]\n",
    "    \n",
    "indi=EFME.index\n",
    "# For reference: EFME.columns.get_loc('personal_email')=21\n",
    "EF.iloc[indi,20] = EF.iloc[indi,21]\n",
    "\n",
    "\n",
    "# To catch some instances where we have duplicated un_emails (the same one used) for different staff members:\n",
    "EFUNDPF.drop(EFUNDPF[(EFUNDPF['un_email']!='Missing')&(EFUNDPF['un_email'].duplicated(keep='first'))].index.to_list(),inplace=True)\n",
    "    \n",
    "\n",
    "\n",
    "\n",
    "# Remove the Duplicated employee and keeping the ones that are coming from UNDP file.\n",
    "# Despite the fact that I did the opposite before keeping the BTA entries because they are filled better in all columns\n",
    "# it turned out those emails were the ones they used to have when they were in Secretariat. This is the way to go.\n",
    "# Remember this works because we removed duplicates first in the UNDP file above.\n",
    "EFUNDPF.drop(EFUNDPF[(EFUNDPF['index'].duplicated(keep=False)) & (EFUNDPF['job_network'].notnull())].index.to_list(), inplace=True)\n",
    "\n",
    "\n",
    "\n",
    "\"\"\"\n",
    "This is the beginning of the work on the countries\n",
    "\"\"\"\n",
    "\n",
    "# Change data type for columns below:\n",
    "EFUNDPF[['hr_position_code','index','employee_org_unit']] =\\\n",
    "    EFUNDPF[['hr_position_code','index','employee_org_unit']].astype(str)\n",
    "\n",
    "EFUNDPF[['org_level_01','org_level_02', 'org_level_03', 'org_level_04', 'master_cost_center', 'country', 'duty_station','gender',\n",
    "         'age_range','contract_type', 'payscale','job_network','job_network_text','job_family','office_code','office_text']]=\\\n",
    "        EFUNDPF[['org_level_01','org_level_02','org_level_03','org_level_04','master_cost_center','country',\n",
    "                'duty_station','gender','age_range','contract_type','payscale','job_network','job_network_text',\n",
    "                 'job_family','office_code','office_text']].astype('category')\n",
    "\n",
    "\n",
    "# Homogenize the countries list using the names in the Groups with some edits:\n",
    "EFUNDPF['country'].replace({'Republic of Montenegro': 'Montenegro',\n",
    "            'Palestine':'State of Palestine',\n",
    "            'Occupied Territories': 'State of Palestine',\n",
    "            'United Kingdom':'United Kingdom of Great Britain and Northern Ireland',\n",
    "            'Moldova':'Republic of Moldova',\n",
    "            'Moldova Republic of':'Republic of Moldova',\n",
    "            \"Lao People's Democratic Rep\":\"Lao People's Democratic Republic\",\n",
    "            \"Lao People's Republic\":\"Lao People's Democratic Republic\",\n",
    "            \"Laos\":\"Lao People's Democratic Republic\",\n",
    "            'Republic of Serbia': 'Serbia',\n",
    "            'East Timor':'Timor-Leste',\n",
    "            'United States':'United States of America',\n",
    "            'Republic of Cabo Verde': 'Cabo Verde',\n",
    "            'Cape Verde':'Cabo Verde',\n",
    "            'North Macedonia':'North (Macedonia Republic of)',\n",
    "            'D.P.R of Korea':\"Korea (Democratic People's Republic of)\",\n",
    "            'Korea Republic of':'Republic of Korea',\n",
    "            'Republic of North Macedonia':'North (Macedonia Republic of)',\n",
    "            'Iran': 'Iran Islamic Republic of',\n",
    "            'Iran (Islamic Republic Of)':'Iran Islamic Republic of',\n",
    "            'Tanzania': 'United Republic of Tanzania',\n",
    "            'Tanzania United Republic of':'United Republic of Tanzania',\n",
    "            'Dem. Rep. Congo': 'Democratic Republic of the Congo',\n",
    "            'Republic of the Congo':'Congo',\n",
    "            'Bolivia':'Bolivia (Plurinational State of)',\n",
    "            'Congo The Democratic Republic':'Democratic Republic of the Congo',\n",
    "            \"Cote D'Ivoire\":\"Côte d'Ivoire\",\n",
    "            \"Cote d'Ivoire\":\"Côte d'Ivoire\",\n",
    "            'Vietnam':'Viet Nam',\n",
    "            'Islamic Republic of Mauritania': 'Mauritania (Islamic Republic of)',\n",
    "            'Mauritania': 'Mauritania (Islamic Republic of)',\n",
    "            'Venezuela':'Venezuela (Bolivarian Republic of)',\n",
    "            'Syria':'Syrian Arab Republic',\n",
    "            'Kosovo UNSCR1244 (1999)':'Kosovo'}, inplace=True)\n",
    "\n",
    "EFUNDPF['duty_station'].mask(\n",
    "    (EFUNDPF['country']=='Libya') & (EFUNDPF['duty_station']=='Tripoli'),\n",
    "    'Tripoli (LBY)',inplace=True)\n",
    "\n",
    "EFUNDPF['duty_station'].replace({'Buenos Aires':'Buenos Aires (ARG)',\n",
    "                 'Kanga Bandoro': 'Kaga Bandoro',\n",
    "                 'Kisimaio':'Kismayo',\n",
    "                 'Kutum (North Da':'Kutum (North Da)',\n",
    "                 'Odessa':'Odesa',\n",
    "                 'Djbouti':'Djibouti',\n",
    "                 'Georgetown':'Georgetown (GUY)',\n",
    "                 'Nazareth (Nazre':'Nazareth',\n",
    "                 'Almaty(Alma Ata':'Almaty',\n",
    "                 'Basrah': 'Al Basrah',\n",
    "                 'Sittway (Sittwe':'Sittway (Sittwe)',\n",
    "                 'Yangoon':'Yangon',\n",
    "                 'Tripoli':'Tripoli (LBN)',\n",
    "                 'Kyiv':'Kiev',\n",
    "                 'Dhuusamareeb': 'Dhusamareeb',\n",
    "                 'Mitrovica(Koso)':'Mitrovica (Kosovo)',\n",
    "                 'Sukhumi':'Sokhumi',\n",
    "                 'Teheran':'Tehran',\n",
    "                 'Gaalkacyo':'Galkayo',\n",
    "                 'Bor (Jongli/Sou':'Bor'}, inplace=True)\n",
    "\n",
    "                 \n",
    "# These are the Regional Groups\n",
    "we=['Australia',\n",
    " 'Austria',\n",
    " 'Belgium',\n",
    " 'Canada',\n",
    " 'Denmark',\n",
    " 'Finland',\n",
    " 'France',\n",
    " 'Germany',\n",
    " 'Greece',\n",
    " 'Iceland',\n",
    " 'Ireland',\n",
    " 'Israel',\n",
    " 'Italy',\n",
    " 'Liechtenstein',\n",
    " 'Luxembourg',\n",
    " 'Malta',\n",
    " 'Monaco',\n",
    " 'Netherlands',\n",
    " 'New Zealand',\n",
    " 'Norway',\n",
    " 'Portugal',\n",
    " 'San Marino',\n",
    " 'Spain',\n",
    " 'Sweden',\n",
    " 'Switzerland',\n",
    " 'Turkey',\n",
    " 'United Kingdom of Great Britain and Northern Ireland',\n",
    " 'United States of America',\n",
    " 'Andorra']\n",
    "lac=['Argentina',\n",
    " 'Bahamas',\n",
    " 'Barbados',\n",
    " 'Belize',\n",
    " 'Bolivia (Plurinational State of)',\n",
    " 'Brazil',\n",
    " 'Chile',\n",
    " 'Colombia',\n",
    " 'Costa Rica',\n",
    " 'Cuba',\n",
    " 'Dominica',\n",
    " 'Dominican Republic',\n",
    " 'Ecuador',\n",
    " 'El Salvador',\n",
    " 'Grenada',\n",
    " 'Guatemala',\n",
    " 'Guyana',\n",
    " 'Haiti',\n",
    " 'Honduras',\n",
    " 'Jamaica',\n",
    " 'Mexico',\n",
    " 'Nicaragua',\n",
    " 'Panama',\n",
    " 'Paraguay',\n",
    " 'Peru',\n",
    " 'Saint Kitts and Nevis',\n",
    " 'Saint Lucia',\n",
    " 'Saint Vincent and the',\n",
    " 'Grenadines',\n",
    " 'Suriname',\n",
    " 'Trinidad and Tobago',\n",
    " 'Uruguay',\n",
    " 'Venezuela (Bolivarian Republic of)',\n",
    " 'Antigua and Barbuda']\n",
    "ee=['Armenia',\n",
    " 'Azerbaijan',\n",
    " 'Belarus',\n",
    " 'Bosnia and Herzegovina',\n",
    " 'Bulgaria',\n",
    " 'Croatia',\n",
    " 'Czech Republic',\n",
    " 'Estonia',\n",
    " 'Georgia',\n",
    " 'Hungary',\n",
    " 'Latvia',\n",
    " 'Lithuania',\n",
    " 'Montenegro',\n",
    " 'North (Macedonia Republic of)',\n",
    " 'Poland',\n",
    " 'Republic of Moldova',\n",
    " 'Romania',\n",
    " 'Russian Federation',\n",
    " 'Serbia',\n",
    " 'Slovakia',\n",
    " 'Slovenia',\n",
    " 'Ukraine',\n",
    " 'Albania']\n",
    "ap=['Bahrain',\n",
    " 'Bangladesh',\n",
    " 'Bhutan',\n",
    " 'Brunei Darussalam',\n",
    " 'Cambodia',\n",
    " 'China',\n",
    " 'Cyprus',\n",
    " \"Korea Democratic People's Republic of\",\n",
    " 'Fiji',\n",
    " 'India',\n",
    " 'Indonesia',\n",
    " 'Iran Islamic Republic of',\n",
    " 'Iraq',\n",
    " 'Japan',\n",
    " 'Jordan',\n",
    " 'Kazakhstan',\n",
    " 'Kiribati',\n",
    " 'Kuwait',\n",
    " 'Kyrgyzstan',\n",
    " \"Lao People's Democratic Republic\",\n",
    " 'Lebanon',\n",
    " 'Malaysia',\n",
    " 'Maldives',\n",
    " 'Marshall Islands',\n",
    " 'Micronesia Federated States of',\n",
    " 'Mongolia',\n",
    " 'Myanmar',\n",
    " 'Nauru',\n",
    " 'Nepal',\n",
    " 'Oman',\n",
    " 'Pakistan',\n",
    " 'Palau',\n",
    " 'Papua New Guinea',\n",
    " 'Philippines',\n",
    " 'Qatar',\n",
    " 'Republic of Korea',\n",
    " 'Samoa',\n",
    " 'Saudi Arabia',\n",
    " 'Singapore',\n",
    " 'Solomon Islands',\n",
    " 'Sri Lanka',\n",
    " 'Syrian Arab Republic',\n",
    " 'Tajikistan',\n",
    " 'Thailand',\n",
    " 'Timor-Leste',\n",
    " 'Tonga',\n",
    " 'Turkey',\n",
    " 'Turkmenistan',\n",
    " 'Tuvalu',\n",
    " 'United Arab Emirates',\n",
    " 'Uzbekistan',\n",
    " 'Vanuatu',\n",
    " 'Viet Nam',\n",
    " 'Yemen',\n",
    " 'Afghanistan']\n",
    "africa=['Angola',\n",
    " 'Benin',\n",
    " 'Botswana',\n",
    " 'Burkina Faso',\n",
    " 'Burundi',\n",
    " 'Cabo Verde',\n",
    " 'Cameroon',\n",
    " 'Central African Republic',\n",
    " 'Chad',\n",
    " 'Comoros',\n",
    " 'Congo',\n",
    " \"Côte d'Ivoire\",\n",
    " 'Democratic Republic of the Congo',\n",
    " 'Djibouti',\n",
    " 'Egypt',\n",
    " 'Equatorial Guinea',\n",
    " 'Eritrea',\n",
    " 'Ethiopia',\n",
    " 'Gabon',\n",
    " 'Gambia',\n",
    " 'Ghana',\n",
    " 'Guinea',\n",
    " 'Guinea-Bissau',\n",
    " 'Kenya',\n",
    " 'Lesotho',\n",
    " 'Liberia',\n",
    " 'Libya',\n",
    " 'Madagascar',\n",
    " 'Malawi',\n",
    " 'Mali',\n",
    " 'Mauritania (Islamic Republic of)',\n",
    " 'Mauritius',\n",
    " 'Morocco',\n",
    " 'Mozambique',\n",
    " 'Namibia',\n",
    " 'Niger',\n",
    " 'Nigeria',\n",
    " 'Rwanda',\n",
    " 'Sao Tome and Principe',\n",
    " 'Senegal',\n",
    " 'Seychelles',\n",
    " 'Sierra Leone',\n",
    " 'Somalia',\n",
    " 'South Africa',\n",
    " 'South Sudan',\n",
    " 'Sudan',\n",
    " 'Swaziland',\n",
    " 'Togo',\n",
    " 'Tunisia',\n",
    " 'Uganda',\n",
    " 'United Republic of Tanzania',\n",
    " 'Zambia',\n",
    " 'Zimbabwe',\n",
    " 'Algeria']\n",
    "\n",
    "# Assign the countries with corrected names to the corresponding Regoinal Group:\n",
    "EFUNDPF['regional_groups']='Not Assigned'\n",
    "EFUNDPF['regional_groups'].mask(EFUNDPF['country'].isin(africa),'African Group', inplace=True)\n",
    "EFUNDPF['regional_groups'].mask(EFUNDPF['country'].isin(ap),'Asia-Pacific Group', inplace=True)\n",
    "EFUNDPF['regional_groups'].mask(EFUNDPF['country'].isin(ee),'Eastern European Group', inplace=True)\n",
    "EFUNDPF['regional_groups'].mask(EFUNDPF['country'].isin(lac),'Latin American and Caribbean Group', inplace=True)\n",
    "EFUNDPF['regional_groups'].mask(EFUNDPF['country'].isin(we),'Western European and Others Group', inplace=True) \n",
    "\n",
    "\n",
    "# Assign the payscales to the corresponding categories:\n",
    "# gsr is general service and related categories.\n",
    "gsr=['G-1',\n",
    " 'G-1B',\n",
    " 'G-2',\n",
    " 'G-3',\n",
    " 'G-4',\n",
    " 'G-5',\n",
    " 'G-6',\n",
    " 'G-7',\n",
    " 'LT-1',\n",
    " 'PIA-I',\n",
    " 'PIA-II',\n",
    " 'PIA-III',\n",
    " 'SS-1',\n",
    " 'SS-2',\n",
    " 'SS-3',\n",
    " 'SS-4',\n",
    " 'SS-5',\n",
    " 'SS-6',\n",
    " 'SS-7',\n",
    " 'TC-2',\n",
    " 'TC-4',\n",
    " 'TC-5',\n",
    " 'TC-6',\n",
    " 'TC-7',\n",
    " 'TC-8']\n",
    "\n",
    "EFUNDPF['payscale_category']='Other'\n",
    "EFUNDPF.payscale_category.mask(EFUNDPF.payscale.isin(['P-1', 'P-2','P-3','P-4','P-5','D-1','D-2']),\"Professional & higher categories\", inplace=True)\n",
    "EFUNDPF.payscale_category.mask(EFUNDPF.payscale.isin(gsr),\"General Service & related categories\", inplace=True)\n",
    "EFUNDPF.payscale_category.mask(EFUNDPF.payscale.isin(['FS-3', 'FS-4','FS-5','FS-6','FS-7']),\"Field Service category\", inplace=True)\n",
    "EFUNDPF.payscale_category.mask(EFUNDPF.payscale.isin(['NO-A', 'NO-B','NO-C','NO-D']),\"National Officer category\", inplace=True)\n",
    "EFUNDPF.payscale_category.mask(EFUNDPF.payscale.isin(['A-G','ASG','USG', 'DSG']),\"USG & ASG\", inplace=True)\n",
    "# Cleaning things up:\n",
    "EFUNDPF.contract_type.replace({'Fixed Term': 'Fixed-Term', 'Indefinite':'Permanent'},inplace=True)\n",
    "\n",
    "\n",
    "# SHIFTING ENTITIES:\n",
    "# Changing from categories to str.\n",
    "EFUNDPF[['org_level_02','org_level_03','org_level_04','org_level_05','org_level_06','org_level_07']]=EFUNDPF[['org_level_02','org_level_03','org_level_04','org_level_05','org_level_06','org_level_07']].astype('str')\n",
    "    \n",
    "# Shifting columns left:\n",
    "for i in EFUNDPF.index:\n",
    "    if (EFUNDPF.at[i,'org_level_03']=='PKM')|\\\n",
    "    (EFUNDPF.at[i,'org_level_03']=='SPM')|\\\n",
    "    (EFUNDPF.at[i,'org_level_03']=='OFO'):\n",
    "        for e in range(3,7):\n",
    "            EFUNDPF.at[i,('org_level_0'+str(e))]=EFUNDPF.at[i,('org_level_0'+str(e+1))]\n",
    "# shifting Columns right and creating a blank org_level_03:            \n",
    "for v in EFUNDPF.index:    \n",
    "    if (EFUNDPF.at[v,'org_level_03']=='DMSPC-ADM')|\\\n",
    "    (EFUNDPF.at[v,'org_level_03']=='DOS-ADM')|\\\n",
    "    (EFUNDPF.at[v,'org_level_02']=='ICSC')|\\\n",
    "    (EFUNDPF.at[v,'org_level_02']=='CCD')|\\\n",
    "    (EFUNDPF.at[v,'org_level_03']=='CEB-SECR')|\\\n",
    "    (EFUNDPF.at[v,'org_level_03']=='CNMC')|\\\n",
    "    (EFUNDPF.at[v,'org_level_03']=='ATSMT'):\n",
    "        EFUNDPF.at[v,'org_level_07']=EFUNDPF.at[v,'org_level_06']\n",
    "        EFUNDPF.at[v,'org_level_06']=EFUNDPF.at[v,'org_level_05']\n",
    "        EFUNDPF.at[v,'org_level_05']=EFUNDPF.at[v,'org_level_04']\n",
    "        EFUNDPF.at[v,'org_level_04']=EFUNDPF.at[v,'org_level_03']\n",
    "        EFUNDPF.at[v,'org_level_03']=''            \n",
    "            \n",
    "# Filling org_level_03 based on values in org_level_02:\n",
    "EFUNDPF.org_level_03.mask(EFUNDPF.org_level_02=='CEB-SECR','CEB-SECR',inplace=True)\n",
    "EFUNDPF.org_level_03.mask(EFUNDPF.org_level_02=='CCD','UNCCD',inplace=True)\n",
    "EFUNDPF.org_level_03.mask(EFUNDPF.org_level_04=='ATSMT','DPPA',inplace=True)\n",
    "EFUNDPF.org_level_03.mask(EFUNDPF.org_level_04=='CNMC','UNOWAS',inplace=True)     \n",
    "EFUNDPF.org_level_03.mask(EFUNDPF.org_level_02=='ICSC','ICSC',inplace=True)  \n",
    "\n",
    "# Replace ITC with ITC/OED\n",
    "EFUNDPF.org_level_03.replace({'OED': 'ITC/OED', 'TD':'UNCTAD'}, inplace=True)\n",
    "\n",
    "       \n",
    "\n",
    "\"\"\"This code to shift entities did not work on Spyder but worked on Jupyter Notebook:\n",
    "    \n",
    "# Now we are going to work on removing the following entities: PKM, SPM, OFO, (and TD but ITC will remain) and shifting the subentities left.\n",
    "# However, before doing that we have to make sure that the entities are not listed as categories. If we don't make this change,\n",
    "# the assignment below throws an error. What I will do, I will make the change of astype('str').\n",
    "\n",
    "EFUNDPF[['org_level_03','org_level_04','org_level_05','org_level_06','org_level_07']]=EFUNDPF[['org_level_03','org_level_04','org_level_05','org_level_06','org_level_07']].astype('str')\n",
    "\n",
    "# We begin by identifying the index number of the entities (PKM, SPM, and OFO) ITC will be renamed but remains.\n",
    "\n",
    "indexofpkm=EFUNDPF[EFUNDPF['org_level_03']=='PKM'].index\n",
    "indexofspm=EFUNDPF[EFUNDPF.org_level_03=='SPM'].index\n",
    "indexofofo=EFUNDPF[EFUNDPF.org_level_03=='OFO'].index\n",
    "\n",
    "\n",
    "for i in range(3,7):\n",
    "    EFUNDPF.iloc[indexofpkm,i] = EFUNDPF.iloc[indexofpkm,(i+1)]\n",
    "    EFUNDPF.iloc[indexofspm,i] = EFUNDPF.iloc[indexofspm,(i+1)]\n",
    "    EFUNDPF.iloc[indexofofo,i] = EFUNDPF.iloc[indexofofo,(i+1)]\n",
    "\n",
    "\"\"\"\n",
    "\"\"\"\n",
    "#Testing the moveleft method:Succeeded:\n",
    "#moveleft(EFUNDPF,'org_level_03', 'DMSPC')\n",
    "\"\"\"\n",
    "\n",
    "\"\"\"\n",
    "Export Final Result:\n",
    "\"\"\"\n",
    "tsp=pd.to_datetime('now').strftime('%m-%d %H%M')\n",
    "kateb=pd.ExcelWriter(f'./Resulting File/EFUNDPF-{tsp}.xlsx')\n",
    "EFUNDPF.to_excel(kateb,sheet_name='Employee_File',index=False)\n",
    "kateb.save()"
   ]
  },
  {
   "cell_type": "code",
   "execution_count": null,
   "metadata": {},
   "outputs": [],
   "source": [
    "\"/\".join([\"a\",\"b\"])"
   ]
  },
  {
   "cell_type": "code",
   "execution_count": null,
   "metadata": {
    "scrolled": false
   },
   "outputs": [],
   "source": [
    "np.random.randint(-1000, 1000, 1000)"
   ]
  },
  {
   "cell_type": "code",
   "execution_count": null,
   "metadata": {},
   "outputs": [],
   "source": [
    "tick = \"SPY\"\n",
    "try:\n",
    "    error = 0\n",
    "    period_start = 0\n",
    "    perid_end = 9999999999\n",
    "    df = pd.read_csv(f'https://query1.finance.yahoo.com/v7/finance/download/{tick}?period1={period_start}&period2={perid_end}&interval=1d&events=history&includeAdjustedClose=true')\n",
    "except:\n",
    "    error = 1\n",
    "    print('check url and ticks')\n",
    "if error == 0:\n",
    "    print(df.head())\n",
    "    df = 1 #clear the cache"
   ]
  },
  {
   "cell_type": "code",
   "execution_count": null,
   "metadata": {},
   "outputs": [],
   "source": [
    "# df.to_csv('MSFT.csv')"
   ]
  },
  {
   "cell_type": "code",
   "execution_count": null,
   "metadata": {
    "scrolled": true
   },
   "outputs": [],
   "source": [
    "a = 10\n",
    "while a > 0 :\n",
    "    a =  a>> 1 \n",
    "    print(a>>1)\n"
   ]
  },
  {
   "cell_type": "code",
   "execution_count": null,
   "metadata": {},
   "outputs": [],
   "source": [
    "hmp = {1:1}\n",
    "del hmp[1]\n",
    "len(hmp)"
   ]
  },
  {
   "cell_type": "code",
   "execution_count": null,
   "metadata": {},
   "outputs": [],
   "source": [
    "np.random.randint(1, 100, 100)"
   ]
  },
  {
   "cell_type": "code",
   "execution_count": null,
   "metadata": {
    "scrolled": true
   },
   "outputs": [],
   "source": [
    "from pyecharts.charts import Bar\n",
    "from pyecharts import options as opts\n",
    "\n",
    "# V1 版本开始支持链式调用\n",
    "bar = (\n",
    "    Bar()\n",
    "    .add_xaxis([\"衬衫\", \"毛衣\", \"领带\", \"裤子\", \"风衣\", \"高跟鞋\", \"袜子\"])\n",
    "    .add_yaxis(\"商家A\", [10, 55, 27, 101, 125, 27, 105])\n",
    "    .add_yaxis(\"商家B\", [57, 134, 137, 129, 145, 60, 49])\n",
    "    .set_global_opts(title_opts=opts.TitleOpts(title=\"某商场销售情况\"))\n",
    ")\n",
    "bar.render_notebook()\n",
    "\n",
    "# 不习惯链式调用的开发者依旧可以单独调用方法\n",
    "# bar = Bar()\n",
    "# bar.add_xaxis([\"衬衫\", \"毛衣\", \"领带\", \"裤子\", \"风衣\", \"高跟鞋\", \"袜子\"])\n",
    "# bar.add_yaxis(\"商家A\", [114, 55, 27, 101, 125, 27, 105])\n",
    "# bar.add_yaxis(\"商家B\", [57, 134, 137, 129, 145, 60, 49])\n",
    "# bar.set_global_opts(title_opts=opts.TitleOpts(title=\"某商场销售情况\"))\n",
    "# bar.render()"
   ]
  },
  {
   "cell_type": "code",
   "execution_count": null,
   "metadata": {},
   "outputs": [],
   "source": [
    "1.46**0.05\n"
   ]
  },
  {
   "cell_type": "code",
   "execution_count": null,
   "metadata": {
    "scrolled": false
   },
   "outputs": [],
   "source": [
    "arr = []\n",
    "for i in range(10):\n",
    "    arr.append(list(np.random.randint(1, 500, 100)))\n",
    "arr"
   ]
  },
  {
   "cell_type": "code",
   "execution_count": null,
   "metadata": {},
   "outputs": [],
   "source": [
    "hmp = {} \n",
    "s = (1,)\n",
    "hmp[s] = 1\n",
    "hmp"
   ]
  },
  {
   "cell_type": "code",
   "execution_count": null,
   "metadata": {},
   "outputs": [],
   "source": [
    "a = {1,2,3}\n",
    "b = {2,3,4}\n",
    "a&b"
   ]
  },
  {
   "cell_type": "code",
   "execution_count": null,
   "metadata": {},
   "outputs": [],
   "source": [
    "for i in [0,1,3,2,6,7,5,4]:\n",
    "    print(bin(i))"
   ]
  },
  {
   "cell_type": "code",
   "execution_count": null,
   "metadata": {},
   "outputs": [],
   "source": [
    "ord('c') - ord('a')"
   ]
  },
  {
   "cell_type": "code",
   "execution_count": null,
   "metadata": {},
   "outputs": [],
   "source": [
    "df = pd.read_csv('Mockup_Monthly_stats_July2020.csv')\n",
    "len(df)"
   ]
  },
  {
   "cell_type": "code",
   "execution_count": null,
   "metadata": {},
   "outputs": [],
   "source": [
    "df[df['IndexNumber']==728583].index.values"
   ]
  },
  {
   "cell_type": "code",
   "execution_count": null,
   "metadata": {},
   "outputs": [],
   "source": [
    "df.iloc[df[df['IndexNumber']==728583].index.values]"
   ]
  },
  {
   "cell_type": "code",
   "execution_count": null,
   "metadata": {},
   "outputs": [],
   "source": []
  },
  {
   "cell_type": "code",
   "execution_count": null,
   "metadata": {},
   "outputs": [],
   "source": [
    "print('This is the new Playground notebook 20210121')"
   ]
  }
 ],
 "metadata": {
  "colab": {
   "name": "playground.ipynb",
   "provenance": []
  },
  "kernelspec": {
   "display_name": "Python 3",
   "language": "python",
   "name": "python3"
  },
  "language_info": {
   "codemirror_mode": {
    "name": "ipython",
    "version": 3
   },
   "file_extension": ".py",
   "mimetype": "text/x-python",
   "name": "python",
   "nbconvert_exporter": "python",
   "pygments_lexer": "ipython3",
   "version": "3.7.3"
  }
 },
 "nbformat": 4,
 "nbformat_minor": 1
}
