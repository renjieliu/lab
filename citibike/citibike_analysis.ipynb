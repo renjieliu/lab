{
 "cells": [
  {
   "cell_type": "code",
   "execution_count": 3,
   "metadata": {},
   "outputs": [],
   "source": [
    "# !pip3 install folium"
   ]
  },
  {
   "cell_type": "code",
   "execution_count": 1,
   "metadata": {},
   "outputs": [],
   "source": [
    "import matplotlib.pyplot as plt\n",
    "import pandas as pd\n",
    "import numpy as np\n",
    "import seaborn as sns\n",
    "import folium\n",
    "from folium import plugins"
   ]
  },
  {
   "cell_type": "code",
   "execution_count": 210,
   "metadata": {},
   "outputs": [],
   "source": [
    "df0 = pd.read_csv('202007-citibike-tripdata.csv')"
   ]
  },
  {
   "cell_type": "code",
   "execution_count": 211,
   "metadata": {},
   "outputs": [],
   "source": [
    "df1 = df0[df0['starttime'].str.contains('2020-07-01')]"
   ]
  },
  {
   "cell_type": "code",
   "execution_count": 215,
   "metadata": {},
   "outputs": [],
   "source": [
    "df = df1"
   ]
  },
  {
   "cell_type": "code",
   "execution_count": 216,
   "metadata": {},
   "outputs": [
    {
     "data": {
      "text/plain": [
       "63406"
      ]
     },
     "execution_count": 216,
     "metadata": {},
     "output_type": "execute_result"
    }
   ],
   "source": [
    "len(df)"
   ]
  },
  {
   "cell_type": "code",
   "execution_count": 217,
   "metadata": {},
   "outputs": [
    {
     "name": "stderr",
     "output_type": "stream",
     "text": [
      "/usr/local/lib/python3.7/dist-packages/ipykernel_launcher.py:1: SettingWithCopyWarning: \n",
      "A value is trying to be set on a copy of a slice from a DataFrame.\n",
      "Try using .loc[row_indexer,col_indexer] = value instead\n",
      "\n",
      "See the caveats in the documentation: https://pandas.pydata.org/pandas-docs/stable/user_guide/indexing.html#returning-a-view-versus-a-copy\n",
      "  \"\"\"Entry point for launching an IPython kernel.\n"
     ]
    }
   ],
   "source": [
    "df['starttime'] = df['starttime'].apply(lambda x: x[:-1].replace(' ','T'))"
   ]
  },
  {
   "cell_type": "code",
   "execution_count": 218,
   "metadata": {},
   "outputs": [
    {
     "name": "stderr",
     "output_type": "stream",
     "text": [
      "/usr/local/lib/python3.7/dist-packages/ipykernel_launcher.py:1: SettingWithCopyWarning: \n",
      "A value is trying to be set on a copy of a slice from a DataFrame.\n",
      "Try using .loc[row_indexer,col_indexer] = value instead\n",
      "\n",
      "See the caveats in the documentation: https://pandas.pydata.org/pandas-docs/stable/user_guide/indexing.html#returning-a-view-versus-a-copy\n",
      "  \"\"\"Entry point for launching an IPython kernel.\n"
     ]
    }
   ],
   "source": [
    "df['stoptime'] = df['stoptime'].apply(lambda x: x[:-1].replace(' ','T'))"
   ]
  },
  {
   "cell_type": "code",
   "execution_count": 219,
   "metadata": {},
   "outputs": [
    {
     "data": {
      "text/html": [
       "<div>\n",
       "<style scoped>\n",
       "    .dataframe tbody tr th:only-of-type {\n",
       "        vertical-align: middle;\n",
       "    }\n",
       "\n",
       "    .dataframe tbody tr th {\n",
       "        vertical-align: top;\n",
       "    }\n",
       "\n",
       "    .dataframe thead th {\n",
       "        text-align: right;\n",
       "    }\n",
       "</style>\n",
       "<table border=\"1\" class=\"dataframe\">\n",
       "  <thead>\n",
       "    <tr style=\"text-align: right;\">\n",
       "      <th></th>\n",
       "      <th>tripduration</th>\n",
       "      <th>starttime</th>\n",
       "      <th>stoptime</th>\n",
       "      <th>start station id</th>\n",
       "      <th>start station name</th>\n",
       "      <th>start station latitude</th>\n",
       "      <th>start station longitude</th>\n",
       "      <th>end station id</th>\n",
       "      <th>end station name</th>\n",
       "      <th>end station latitude</th>\n",
       "      <th>end station longitude</th>\n",
       "      <th>bikeid</th>\n",
       "      <th>usertype</th>\n",
       "      <th>birth year</th>\n",
       "      <th>gender</th>\n",
       "    </tr>\n",
       "  </thead>\n",
       "  <tbody>\n",
       "    <tr>\n",
       "      <th>0</th>\n",
       "      <td>341</td>\n",
       "      <td>2020-07-01T00:00:01.302</td>\n",
       "      <td>2020-07-01T00:05:42.565</td>\n",
       "      <td>3463</td>\n",
       "      <td>E 16 St &amp; Irving Pl</td>\n",
       "      <td>40.735367</td>\n",
       "      <td>-73.987974</td>\n",
       "      <td>2003</td>\n",
       "      <td>1 Ave &amp; E 18 St</td>\n",
       "      <td>40.733812</td>\n",
       "      <td>-73.980544</td>\n",
       "      <td>33861</td>\n",
       "      <td>Subscriber</td>\n",
       "      <td>1986</td>\n",
       "      <td>1</td>\n",
       "    </tr>\n",
       "    <tr>\n",
       "      <th>1</th>\n",
       "      <td>321</td>\n",
       "      <td>2020-07-01T00:00:01.362</td>\n",
       "      <td>2020-07-01T00:05:22.949</td>\n",
       "      <td>3463</td>\n",
       "      <td>E 16 St &amp; Irving Pl</td>\n",
       "      <td>40.735367</td>\n",
       "      <td>-73.987974</td>\n",
       "      <td>2003</td>\n",
       "      <td>1 Ave &amp; E 18 St</td>\n",
       "      <td>40.733812</td>\n",
       "      <td>-73.980544</td>\n",
       "      <td>31233</td>\n",
       "      <td>Subscriber</td>\n",
       "      <td>1990</td>\n",
       "      <td>2</td>\n",
       "    </tr>\n",
       "    <tr>\n",
       "      <th>2</th>\n",
       "      <td>2710</td>\n",
       "      <td>2020-07-01T00:00:06.629</td>\n",
       "      <td>2020-07-01T00:45:17.341</td>\n",
       "      <td>426</td>\n",
       "      <td>West St &amp; Chambers St</td>\n",
       "      <td>40.717548</td>\n",
       "      <td>-74.013221</td>\n",
       "      <td>212</td>\n",
       "      <td>W 16 St &amp; The High Line</td>\n",
       "      <td>40.743349</td>\n",
       "      <td>-74.006818</td>\n",
       "      <td>40329</td>\n",
       "      <td>Customer</td>\n",
       "      <td>1969</td>\n",
       "      <td>0</td>\n",
       "    </tr>\n",
       "    <tr>\n",
       "      <th>3</th>\n",
       "      <td>2685</td>\n",
       "      <td>2020-07-01T00:00:13.022</td>\n",
       "      <td>2020-07-01T00:44:58.864</td>\n",
       "      <td>426</td>\n",
       "      <td>West St &amp; Chambers St</td>\n",
       "      <td>40.717548</td>\n",
       "      <td>-74.013221</td>\n",
       "      <td>212</td>\n",
       "      <td>W 16 St &amp; The High Line</td>\n",
       "      <td>40.743349</td>\n",
       "      <td>-74.006818</td>\n",
       "      <td>17567</td>\n",
       "      <td>Subscriber</td>\n",
       "      <td>1998</td>\n",
       "      <td>1</td>\n",
       "    </tr>\n",
       "    <tr>\n",
       "      <th>4</th>\n",
       "      <td>191</td>\n",
       "      <td>2020-07-01T00:00:13.466</td>\n",
       "      <td>2020-07-01T00:03:24.623</td>\n",
       "      <td>3615</td>\n",
       "      <td>44 Dr &amp; 21 St</td>\n",
       "      <td>40.748000</td>\n",
       "      <td>-73.946093</td>\n",
       "      <td>3127</td>\n",
       "      <td>9 St &amp; 44 Rd</td>\n",
       "      <td>40.749660</td>\n",
       "      <td>-73.952100</td>\n",
       "      <td>43421</td>\n",
       "      <td>Subscriber</td>\n",
       "      <td>1992</td>\n",
       "      <td>1</td>\n",
       "    </tr>\n",
       "  </tbody>\n",
       "</table>\n",
       "</div>"
      ],
      "text/plain": [
       "   tripduration                starttime                 stoptime  \\\n",
       "0           341  2020-07-01T00:00:01.302  2020-07-01T00:05:42.565   \n",
       "1           321  2020-07-01T00:00:01.362  2020-07-01T00:05:22.949   \n",
       "2          2710  2020-07-01T00:00:06.629  2020-07-01T00:45:17.341   \n",
       "3          2685  2020-07-01T00:00:13.022  2020-07-01T00:44:58.864   \n",
       "4           191  2020-07-01T00:00:13.466  2020-07-01T00:03:24.623   \n",
       "\n",
       "   start station id     start station name  start station latitude  \\\n",
       "0              3463    E 16 St & Irving Pl               40.735367   \n",
       "1              3463    E 16 St & Irving Pl               40.735367   \n",
       "2               426  West St & Chambers St               40.717548   \n",
       "3               426  West St & Chambers St               40.717548   \n",
       "4              3615          44 Dr & 21 St               40.748000   \n",
       "\n",
       "   start station longitude  end station id         end station name  \\\n",
       "0               -73.987974            2003          1 Ave & E 18 St   \n",
       "1               -73.987974            2003          1 Ave & E 18 St   \n",
       "2               -74.013221             212  W 16 St & The High Line   \n",
       "3               -74.013221             212  W 16 St & The High Line   \n",
       "4               -73.946093            3127             9 St & 44 Rd   \n",
       "\n",
       "   end station latitude  end station longitude  bikeid    usertype  \\\n",
       "0             40.733812             -73.980544   33861  Subscriber   \n",
       "1             40.733812             -73.980544   31233  Subscriber   \n",
       "2             40.743349             -74.006818   40329    Customer   \n",
       "3             40.743349             -74.006818   17567  Subscriber   \n",
       "4             40.749660             -73.952100   43421  Subscriber   \n",
       "\n",
       "   birth year  gender  \n",
       "0        1986       1  \n",
       "1        1990       2  \n",
       "2        1969       0  \n",
       "3        1998       1  \n",
       "4        1992       1  "
      ]
     },
     "execution_count": 219,
     "metadata": {},
     "output_type": "execute_result"
    }
   ],
   "source": [
    "df.head()"
   ]
  },
  {
   "cell_type": "code",
   "execution_count": 220,
   "metadata": {},
   "outputs": [
    {
     "data": {
      "text/plain": [
       "Index(['tripduration', 'starttime', 'stoptime', 'start station id',\n",
       "       'start station name', 'start station latitude',\n",
       "       'start station longitude', 'end station id', 'end station name',\n",
       "       'end station latitude', 'end station longitude', 'bikeid', 'usertype',\n",
       "       'birth year', 'gender'],\n",
       "      dtype='object')"
      ]
     },
     "execution_count": 220,
     "metadata": {},
     "output_type": "execute_result"
    }
   ],
   "source": [
    "df.columns"
   ]
  },
  {
   "cell_type": "code",
   "execution_count": 221,
   "metadata": {},
   "outputs": [
    {
     "data": {
      "text/plain": [
       "0        40.735367\n",
       "1        40.735367\n",
       "2        40.717548\n",
       "3        40.717548\n",
       "4        40.748000\n",
       "           ...    \n",
       "63401    40.805159\n",
       "63402    40.717548\n",
       "63403    40.692000\n",
       "63404    40.695734\n",
       "63405    40.782454\n",
       "Name: start station latitude, Length: 63406, dtype: float64"
      ]
     },
     "execution_count": 221,
     "metadata": {},
     "output_type": "execute_result"
    }
   ],
   "source": [
    "df['start station latitude']"
   ]
  },
  {
   "cell_type": "code",
   "execution_count": 222,
   "metadata": {},
   "outputs": [
    {
     "data": {
      "text/plain": [
       "<matplotlib.axes._subplots.AxesSubplot at 0xa9a6eaf0>"
      ]
     },
     "execution_count": 222,
     "metadata": {},
     "output_type": "execute_result"
    },
    {
     "data": {
      "image/png": "[encoded data removed]",
      "text/plain": [
       "<Figure size 432x288 with 1 Axes>"
      ]
     },
     "metadata": {
      "needs_background": "light"
     },
     "output_type": "display_data"
    }
   ],
   "source": [
    "sns.scatterplot(x = df['start station latitude'], y = df['start station longitude'])"
   ]
  },
  {
   "cell_type": "code",
   "execution_count": 223,
   "metadata": {},
   "outputs": [
    {
     "data": {
      "text/plain": [
       "<matplotlib.axes._subplots.AxesSubplot at 0xa3763330>"
      ]
     },
     "execution_count": 223,
     "metadata": {},
     "output_type": "execute_result"
    },
    {
     "data": {
      "image/png": "[encoded data removed]",
      "text/plain": [
       "<Figure size 432x288 with 1 Axes>"
      ]
     },
     "metadata": {
      "needs_background": "light"
     },
     "output_type": "display_data"
    }
   ],
   "source": [
    "sns.scatterplot(x = df['end station latitude'], y = df['end station longitude'])"
   ]
  },
  {
   "cell_type": "code",
   "execution_count": 224,
   "metadata": {},
   "outputs": [
    {
     "data": {
      "text/html": [
       "<div>\n",
       "<style scoped>\n",
       "    .dataframe tbody tr th:only-of-type {\n",
       "        vertical-align: middle;\n",
       "    }\n",
       "\n",
       "    .dataframe tbody tr th {\n",
       "        vertical-align: top;\n",
       "    }\n",
       "\n",
       "    .dataframe thead th {\n",
       "        text-align: right;\n",
       "    }\n",
       "</style>\n",
       "<table border=\"1\" class=\"dataframe\">\n",
       "  <thead>\n",
       "    <tr style=\"text-align: right;\">\n",
       "      <th></th>\n",
       "      <th>tripduration</th>\n",
       "      <th>starttime</th>\n",
       "      <th>stoptime</th>\n",
       "      <th>start station id</th>\n",
       "      <th>start station latitude</th>\n",
       "      <th>start station longitude</th>\n",
       "      <th>end station id</th>\n",
       "      <th>end station name</th>\n",
       "      <th>end station latitude</th>\n",
       "      <th>end station longitude</th>\n",
       "      <th>bikeid</th>\n",
       "      <th>usertype</th>\n",
       "      <th>birth year</th>\n",
       "      <th>gender</th>\n",
       "    </tr>\n",
       "    <tr>\n",
       "      <th>start station name</th>\n",
       "      <th></th>\n",
       "      <th></th>\n",
       "      <th></th>\n",
       "      <th></th>\n",
       "      <th></th>\n",
       "      <th></th>\n",
       "      <th></th>\n",
       "      <th></th>\n",
       "      <th></th>\n",
       "      <th></th>\n",
       "      <th></th>\n",
       "      <th></th>\n",
       "      <th></th>\n",
       "      <th></th>\n",
       "    </tr>\n",
       "  </thead>\n",
       "  <tbody>\n",
       "    <tr>\n",
       "      <th>1 Ave &amp; E 110 St</th>\n",
       "      <td>82</td>\n",
       "      <td>82</td>\n",
       "      <td>82</td>\n",
       "      <td>82</td>\n",
       "      <td>82</td>\n",
       "      <td>82</td>\n",
       "      <td>82</td>\n",
       "      <td>82</td>\n",
       "      <td>82</td>\n",
       "      <td>82</td>\n",
       "      <td>82</td>\n",
       "      <td>82</td>\n",
       "      <td>82</td>\n",
       "      <td>82</td>\n",
       "    </tr>\n",
       "    <tr>\n",
       "      <th>1 Ave &amp; E 16 St</th>\n",
       "      <td>164</td>\n",
       "      <td>164</td>\n",
       "      <td>164</td>\n",
       "      <td>164</td>\n",
       "      <td>164</td>\n",
       "      <td>164</td>\n",
       "      <td>164</td>\n",
       "      <td>164</td>\n",
       "      <td>164</td>\n",
       "      <td>164</td>\n",
       "      <td>164</td>\n",
       "      <td>164</td>\n",
       "      <td>164</td>\n",
       "      <td>164</td>\n",
       "    </tr>\n",
       "    <tr>\n",
       "      <th>1 Ave &amp; E 18 St</th>\n",
       "      <td>122</td>\n",
       "      <td>122</td>\n",
       "      <td>122</td>\n",
       "      <td>122</td>\n",
       "      <td>122</td>\n",
       "      <td>122</td>\n",
       "      <td>122</td>\n",
       "      <td>122</td>\n",
       "      <td>122</td>\n",
       "      <td>122</td>\n",
       "      <td>122</td>\n",
       "      <td>122</td>\n",
       "      <td>122</td>\n",
       "      <td>122</td>\n",
       "    </tr>\n",
       "    <tr>\n",
       "      <th>1 Ave &amp; E 30 St</th>\n",
       "      <td>144</td>\n",
       "      <td>144</td>\n",
       "      <td>144</td>\n",
       "      <td>144</td>\n",
       "      <td>144</td>\n",
       "      <td>144</td>\n",
       "      <td>144</td>\n",
       "      <td>144</td>\n",
       "      <td>144</td>\n",
       "      <td>144</td>\n",
       "      <td>144</td>\n",
       "      <td>144</td>\n",
       "      <td>144</td>\n",
       "      <td>144</td>\n",
       "    </tr>\n",
       "    <tr>\n",
       "      <th>1 Ave &amp; E 44 St</th>\n",
       "      <td>74</td>\n",
       "      <td>74</td>\n",
       "      <td>74</td>\n",
       "      <td>74</td>\n",
       "      <td>74</td>\n",
       "      <td>74</td>\n",
       "      <td>74</td>\n",
       "      <td>74</td>\n",
       "      <td>74</td>\n",
       "      <td>74</td>\n",
       "      <td>74</td>\n",
       "      <td>74</td>\n",
       "      <td>74</td>\n",
       "      <td>74</td>\n",
       "    </tr>\n",
       "    <tr>\n",
       "      <th>...</th>\n",
       "      <td>...</td>\n",
       "      <td>...</td>\n",
       "      <td>...</td>\n",
       "      <td>...</td>\n",
       "      <td>...</td>\n",
       "      <td>...</td>\n",
       "      <td>...</td>\n",
       "      <td>...</td>\n",
       "      <td>...</td>\n",
       "      <td>...</td>\n",
       "      <td>...</td>\n",
       "      <td>...</td>\n",
       "      <td>...</td>\n",
       "      <td>...</td>\n",
       "    </tr>\n",
       "    <tr>\n",
       "      <th>Woodward Ave &amp; Harman St</th>\n",
       "      <td>14</td>\n",
       "      <td>14</td>\n",
       "      <td>14</td>\n",
       "      <td>14</td>\n",
       "      <td>14</td>\n",
       "      <td>14</td>\n",
       "      <td>14</td>\n",
       "      <td>14</td>\n",
       "      <td>14</td>\n",
       "      <td>14</td>\n",
       "      <td>14</td>\n",
       "      <td>14</td>\n",
       "      <td>14</td>\n",
       "      <td>14</td>\n",
       "    </tr>\n",
       "    <tr>\n",
       "      <th>Wyckoff Av &amp; Jefferson St</th>\n",
       "      <td>11</td>\n",
       "      <td>11</td>\n",
       "      <td>11</td>\n",
       "      <td>11</td>\n",
       "      <td>11</td>\n",
       "      <td>11</td>\n",
       "      <td>11</td>\n",
       "      <td>11</td>\n",
       "      <td>11</td>\n",
       "      <td>11</td>\n",
       "      <td>11</td>\n",
       "      <td>11</td>\n",
       "      <td>11</td>\n",
       "      <td>11</td>\n",
       "    </tr>\n",
       "    <tr>\n",
       "      <th>Wyckoff Av &amp; Stanhope St</th>\n",
       "      <td>30</td>\n",
       "      <td>30</td>\n",
       "      <td>30</td>\n",
       "      <td>30</td>\n",
       "      <td>30</td>\n",
       "      <td>30</td>\n",
       "      <td>30</td>\n",
       "      <td>30</td>\n",
       "      <td>30</td>\n",
       "      <td>30</td>\n",
       "      <td>30</td>\n",
       "      <td>30</td>\n",
       "      <td>30</td>\n",
       "      <td>30</td>\n",
       "    </tr>\n",
       "    <tr>\n",
       "      <th>Wyckoff St &amp; Nevins St</th>\n",
       "      <td>30</td>\n",
       "      <td>30</td>\n",
       "      <td>30</td>\n",
       "      <td>30</td>\n",
       "      <td>30</td>\n",
       "      <td>30</td>\n",
       "      <td>30</td>\n",
       "      <td>30</td>\n",
       "      <td>30</td>\n",
       "      <td>30</td>\n",
       "      <td>30</td>\n",
       "      <td>30</td>\n",
       "      <td>30</td>\n",
       "      <td>30</td>\n",
       "    </tr>\n",
       "    <tr>\n",
       "      <th>Wythe Ave &amp; Metropolitan Ave</th>\n",
       "      <td>93</td>\n",
       "      <td>93</td>\n",
       "      <td>93</td>\n",
       "      <td>93</td>\n",
       "      <td>93</td>\n",
       "      <td>93</td>\n",
       "      <td>93</td>\n",
       "      <td>93</td>\n",
       "      <td>93</td>\n",
       "      <td>93</td>\n",
       "      <td>93</td>\n",
       "      <td>93</td>\n",
       "      <td>93</td>\n",
       "      <td>93</td>\n",
       "    </tr>\n",
       "  </tbody>\n",
       "</table>\n",
       "<p>955 rows × 14 columns</p>\n",
       "</div>"
      ],
      "text/plain": [
       "                              tripduration  starttime  stoptime  \\\n",
       "start station name                                                \n",
       "1 Ave & E 110 St                        82         82        82   \n",
       "1 Ave & E 16 St                        164        164       164   \n",
       "1 Ave & E 18 St                        122        122       122   \n",
       "1 Ave & E 30 St                        144        144       144   \n",
       "1 Ave & E 44 St                         74         74        74   \n",
       "...                                    ...        ...       ...   \n",
       "Woodward Ave & Harman St                14         14        14   \n",
       "Wyckoff Av & Jefferson St               11         11        11   \n",
       "Wyckoff Av & Stanhope St                30         30        30   \n",
       "Wyckoff St & Nevins St                  30         30        30   \n",
       "Wythe Ave & Metropolitan Ave            93         93        93   \n",
       "\n",
       "                              start station id  start station latitude  \\\n",
       "start station name                                                       \n",
       "1 Ave & E 110 St                            82                      82   \n",
       "1 Ave & E 16 St                            164                     164   \n",
       "1 Ave & E 18 St                            122                     122   \n",
       "1 Ave & E 30 St                            144                     144   \n",
       "1 Ave & E 44 St                             74                      74   \n",
       "...                                        ...                     ...   \n",
       "Woodward Ave & Harman St                    14                      14   \n",
       "Wyckoff Av & Jefferson St                   11                      11   \n",
       "Wyckoff Av & Stanhope St                    30                      30   \n",
       "Wyckoff St & Nevins St                      30                      30   \n",
       "Wythe Ave & Metropolitan Ave                93                      93   \n",
       "\n",
       "                              start station longitude  end station id  \\\n",
       "start station name                                                      \n",
       "1 Ave & E 110 St                                   82              82   \n",
       "1 Ave & E 16 St                                   164             164   \n",
       "1 Ave & E 18 St                                   122             122   \n",
       "1 Ave & E 30 St                                   144             144   \n",
       "1 Ave & E 44 St                                    74              74   \n",
       "...                                               ...             ...   \n",
       "Woodward Ave & Harman St                           14              14   \n",
       "Wyckoff Av & Jefferson St                          11              11   \n",
       "Wyckoff Av & Stanhope St                           30              30   \n",
       "Wyckoff St & Nevins St                             30              30   \n",
       "Wythe Ave & Metropolitan Ave                       93              93   \n",
       "\n",
       "                              end station name  end station latitude  \\\n",
       "start station name                                                     \n",
       "1 Ave & E 110 St                            82                    82   \n",
       "1 Ave & E 16 St                            164                   164   \n",
       "1 Ave & E 18 St                            122                   122   \n",
       "1 Ave & E 30 St                            144                   144   \n",
       "1 Ave & E 44 St                             74                    74   \n",
       "...                                        ...                   ...   \n",
       "Woodward Ave & Harman St                    14                    14   \n",
       "Wyckoff Av & Jefferson St                   11                    11   \n",
       "Wyckoff Av & Stanhope St                    30                    30   \n",
       "Wyckoff St & Nevins St                      30                    30   \n",
       "Wythe Ave & Metropolitan Ave                93                    93   \n",
       "\n",
       "                              end station longitude  bikeid  usertype  \\\n",
       "start station name                                                      \n",
       "1 Ave & E 110 St                                 82      82        82   \n",
       "1 Ave & E 16 St                                 164     164       164   \n",
       "1 Ave & E 18 St                                 122     122       122   \n",
       "1 Ave & E 30 St                                 144     144       144   \n",
       "1 Ave & E 44 St                                  74      74        74   \n",
       "...                                             ...     ...       ...   \n",
       "Woodward Ave & Harman St                         14      14        14   \n",
       "Wyckoff Av & Jefferson St                        11      11        11   \n",
       "Wyckoff Av & Stanhope St                         30      30        30   \n",
       "Wyckoff St & Nevins St                           30      30        30   \n",
       "Wythe Ave & Metropolitan Ave                     93      93        93   \n",
       "\n",
       "                              birth year  gender  \n",
       "start station name                                \n",
       "1 Ave & E 110 St                      82      82  \n",
       "1 Ave & E 16 St                      164     164  \n",
       "1 Ave & E 18 St                      122     122  \n",
       "1 Ave & E 30 St                      144     144  \n",
       "1 Ave & E 44 St                       74      74  \n",
       "...                                  ...     ...  \n",
       "Woodward Ave & Harman St              14      14  \n",
       "Wyckoff Av & Jefferson St             11      11  \n",
       "Wyckoff Av & Stanhope St              30      30  \n",
       "Wyckoff St & Nevins St                30      30  \n",
       "Wythe Ave & Metropolitan Ave          93      93  \n",
       "\n",
       "[955 rows x 14 columns]"
      ]
     },
     "execution_count": 224,
     "metadata": {},
     "output_type": "execute_result"
    }
   ],
   "source": [
    "df.groupby('start station name').count()"
   ]
  },
  {
   "cell_type": "code",
   "execution_count": 225,
   "metadata": {},
   "outputs": [
    {
     "data": {
      "text/plain": [
       "end station name\n",
       "1 Ave & E 68 St                 384\n",
       "12 Ave & W 40 St                340\n",
       "Pier 40 - Hudson River Park     332\n",
       "West St & Chambers St           306\n",
       "E 17 St & Broadway              305\n",
       "                               ... \n",
       "Bushwick Ave & Furman Ave         1\n",
       "Frost St & Debevoise Ave          1\n",
       "E 138 St & Canal St W             1\n",
       "OLD Southern Blvd & E 142 St      1\n",
       "Soissons Landing                  1\n",
       "Name: tripduration, Length: 956, dtype: int64"
      ]
     },
     "execution_count": 225,
     "metadata": {},
     "output_type": "execute_result"
    }
   ],
   "source": [
    "df.groupby('end station name')['tripduration'].count().sort_values(ascending = False)"
   ]
  },
  {
   "cell_type": "code",
   "execution_count": 226,
   "metadata": {},
   "outputs": [
    {
     "data": {
      "text/plain": [
       "start station name\n",
       "1 Ave & E 68 St                  384\n",
       "Pier 40 - Hudson River Park      333\n",
       "12 Ave & W 40 St                 333\n",
       "West St & Chambers St            314\n",
       "E 17 St & Broadway               295\n",
       "                                ... \n",
       "Linden St & Knickerbocker Ave      2\n",
       "Columbia St & Lorraine St          2\n",
       "OLD Southern Blvd & E 142 St       1\n",
       "Walnut Ave & E 136 St              1\n",
       "E 138 St & Canal St W              1\n",
       "Name: tripduration, Length: 955, dtype: int64"
      ]
     },
     "execution_count": 226,
     "metadata": {},
     "output_type": "execute_result"
    }
   ],
   "source": [
    "df.groupby('start station name')['tripduration'].count().sort_values(ascending = False)"
   ]
  },
  {
   "cell_type": "code",
   "execution_count": 227,
   "metadata": {},
   "outputs": [
    {
     "data": {
      "text/plain": [
       "<matplotlib.axes._subplots.AxesSubplot at 0xa377bdb0>"
      ]
     },
     "execution_count": 227,
     "metadata": {},
     "output_type": "execute_result"
    },
    {
     "data": {
      "image/png": "[encoded data removed]",
      "text/plain": [
       "<Figure size 432x288 with 1 Axes>"
      ]
     },
     "metadata": {
      "needs_background": "light"
     },
     "output_type": "display_data"
    }
   ],
   "source": [
    "df.groupby('start station name')['tripduration'].count().sort_values(ascending = False).plot()"
   ]
  },
  {
   "cell_type": "code",
   "execution_count": 228,
   "metadata": {},
   "outputs": [
    {
     "data": {
      "text/plain": [
       "<matplotlib.axes._subplots.AxesSubplot at 0xa3863ef0>"
      ]
     },
     "execution_count": 228,
     "metadata": {},
     "output_type": "execute_result"
    },
    {
     "data": {
      "image/png": "[encoded data removed]",
      "text/plain": [
       "<Figure size 432x288 with 1 Axes>"
      ]
     },
     "metadata": {
      "needs_background": "light"
     },
     "output_type": "display_data"
    }
   ],
   "source": [
    "df.groupby('end station name')['tripduration'].count().sort_values(ascending = False).plot()"
   ]
  },
  {
   "cell_type": "code",
   "execution_count": 229,
   "metadata": {},
   "outputs": [
    {
     "data": {
      "text/plain": [
       "start station name               end station name               \n",
       "West Drive & Prospect Park West  West Drive & Prospect Park West    61\n",
       "Brooklyn Bridge Park - Pier 2    Brooklyn Bridge Park - Pier 2      47\n",
       "12 Ave & W 125 St                12 Ave & W 125 St                  34\n",
       "Central Park S & 6 Ave           Central Park S & 6 Ave             28\n",
       "5 Ave & E 73 St                  5 Ave & E 73 St                    28\n",
       "                                                                    ..\n",
       "Lafayette St & E 8 St            Pike St & E Broadway                1\n",
       "                                 Riverside Dr & W 91 St              1\n",
       "                                 St Marks Pl & 1 Ave                 1\n",
       "                                 St Marks Pl & 2 Ave                 1\n",
       "E 91 St & Park Ave               Christopher St & Greenwich St       1\n",
       "Name: tripduration, Length: 42621, dtype: int64"
      ]
     },
     "execution_count": 229,
     "metadata": {},
     "output_type": "execute_result"
    }
   ],
   "source": [
    "df.groupby(['start station name', 'end station name'])['tripduration'].count().sort_values(ascending= False)"
   ]
  },
  {
   "cell_type": "code",
   "execution_count": 230,
   "metadata": {},
   "outputs": [],
   "source": [
    "temp = df[['starttime', 'stoptime', 'start station latitude','start station longitude','end station latitude','end station longitude' ]]"
   ]
  },
  {
   "cell_type": "code",
   "execution_count": 232,
   "metadata": {},
   "outputs": [],
   "source": [
    "# geo_s = []\n",
    "# geo_e = []\n",
    "# for i in range(len(temp)):\n",
    "#     if i%100 == 0: print(i)\n",
    "#     geo_s.append([temp.loc[i]['start station latitude'], temp.loc[i]['start station longitude']])\n",
    "#     geo_e.append([temp.loc[i]['end station latitude'], temp.loc[i]['end station longitude']])"
   ]
  },
  {
   "cell_type": "markdown",
   "metadata": {},
   "source": [
    "### Data Visualization"
   ]
  },
  {
   "cell_type": "code",
   "execution_count": 39,
   "metadata": {},
   "outputs": [],
   "source": [
    "# temp['starttime'] = temp['starttime'].dt.strftime('%Y-%m-%d %H:%M:%S')"
   ]
  },
  {
   "cell_type": "code",
   "execution_count": 40,
   "metadata": {
    "scrolled": true
   },
   "outputs": [],
   "source": [
    "# temp['stoptime'] = temp['stoptime'].dt.strftime('%Y-%m-%d %H:%M:%S')"
   ]
  },
  {
   "cell_type": "code",
   "execution_count": 233,
   "metadata": {},
   "outputs": [
    {
     "data": {
      "text/html": [
       "<div>\n",
       "<style scoped>\n",
       "    .dataframe tbody tr th:only-of-type {\n",
       "        vertical-align: middle;\n",
       "    }\n",
       "\n",
       "    .dataframe tbody tr th {\n",
       "        vertical-align: top;\n",
       "    }\n",
       "\n",
       "    .dataframe thead th {\n",
       "        text-align: right;\n",
       "    }\n",
       "</style>\n",
       "<table border=\"1\" class=\"dataframe\">\n",
       "  <thead>\n",
       "    <tr style=\"text-align: right;\">\n",
       "      <th></th>\n",
       "      <th>starttime</th>\n",
       "      <th>stoptime</th>\n",
       "      <th>start station latitude</th>\n",
       "      <th>start station longitude</th>\n",
       "      <th>end station latitude</th>\n",
       "      <th>end station longitude</th>\n",
       "    </tr>\n",
       "  </thead>\n",
       "  <tbody>\n",
       "    <tr>\n",
       "      <th>0</th>\n",
       "      <td>2020-07-01T00:00:01.302</td>\n",
       "      <td>2020-07-01T00:05:42.565</td>\n",
       "      <td>40.735367</td>\n",
       "      <td>-73.987974</td>\n",
       "      <td>40.733812</td>\n",
       "      <td>-73.980544</td>\n",
       "    </tr>\n",
       "    <tr>\n",
       "      <th>1</th>\n",
       "      <td>2020-07-01T00:00:01.362</td>\n",
       "      <td>2020-07-01T00:05:22.949</td>\n",
       "      <td>40.735367</td>\n",
       "      <td>-73.987974</td>\n",
       "      <td>40.733812</td>\n",
       "      <td>-73.980544</td>\n",
       "    </tr>\n",
       "    <tr>\n",
       "      <th>2</th>\n",
       "      <td>2020-07-01T00:00:06.629</td>\n",
       "      <td>2020-07-01T00:45:17.341</td>\n",
       "      <td>40.717548</td>\n",
       "      <td>-74.013221</td>\n",
       "      <td>40.743349</td>\n",
       "      <td>-74.006818</td>\n",
       "    </tr>\n",
       "    <tr>\n",
       "      <th>3</th>\n",
       "      <td>2020-07-01T00:00:13.022</td>\n",
       "      <td>2020-07-01T00:44:58.864</td>\n",
       "      <td>40.717548</td>\n",
       "      <td>-74.013221</td>\n",
       "      <td>40.743349</td>\n",
       "      <td>-74.006818</td>\n",
       "    </tr>\n",
       "    <tr>\n",
       "      <th>4</th>\n",
       "      <td>2020-07-01T00:00:13.466</td>\n",
       "      <td>2020-07-01T00:03:24.623</td>\n",
       "      <td>40.748000</td>\n",
       "      <td>-73.946093</td>\n",
       "      <td>40.749660</td>\n",
       "      <td>-73.952100</td>\n",
       "    </tr>\n",
       "    <tr>\n",
       "      <th>...</th>\n",
       "      <td>...</td>\n",
       "      <td>...</td>\n",
       "      <td>...</td>\n",
       "      <td>...</td>\n",
       "      <td>...</td>\n",
       "      <td>...</td>\n",
       "    </tr>\n",
       "    <tr>\n",
       "      <th>63401</th>\n",
       "      <td>2020-07-01T23:59:14.810</td>\n",
       "      <td>2020-07-02T00:42:39.641</td>\n",
       "      <td>40.805159</td>\n",
       "      <td>-73.954692</td>\n",
       "      <td>40.739448</td>\n",
       "      <td>-74.005070</td>\n",
       "    </tr>\n",
       "    <tr>\n",
       "      <th>63402</th>\n",
       "      <td>2020-07-01T23:59:31.484</td>\n",
       "      <td>2020-07-02T00:24:43.816</td>\n",
       "      <td>40.717548</td>\n",
       "      <td>-74.013221</td>\n",
       "      <td>40.771771</td>\n",
       "      <td>-73.990625</td>\n",
       "    </tr>\n",
       "    <tr>\n",
       "      <th>63403</th>\n",
       "      <td>2020-07-01T23:59:41.007</td>\n",
       "      <td>2020-07-02T00:36:37.743</td>\n",
       "      <td>40.692000</td>\n",
       "      <td>-73.926170</td>\n",
       "      <td>40.711731</td>\n",
       "      <td>-73.991930</td>\n",
       "    </tr>\n",
       "    <tr>\n",
       "      <th>63404</th>\n",
       "      <td>2020-07-01T23:59:49.088</td>\n",
       "      <td>2020-07-02T00:27:00.728</td>\n",
       "      <td>40.695734</td>\n",
       "      <td>-73.971297</td>\n",
       "      <td>40.702772</td>\n",
       "      <td>-73.993836</td>\n",
       "    </tr>\n",
       "    <tr>\n",
       "      <th>63405</th>\n",
       "      <td>2020-07-01T23:59:52.299</td>\n",
       "      <td>2020-07-02T00:03:22.002</td>\n",
       "      <td>40.782454</td>\n",
       "      <td>-73.948920</td>\n",
       "      <td>40.787721</td>\n",
       "      <td>-73.947283</td>\n",
       "    </tr>\n",
       "  </tbody>\n",
       "</table>\n",
       "<p>63406 rows × 6 columns</p>\n",
       "</div>"
      ],
      "text/plain": [
       "                     starttime                 stoptime  \\\n",
       "0      2020-07-01T00:00:01.302  2020-07-01T00:05:42.565   \n",
       "1      2020-07-01T00:00:01.362  2020-07-01T00:05:22.949   \n",
       "2      2020-07-01T00:00:06.629  2020-07-01T00:45:17.341   \n",
       "3      2020-07-01T00:00:13.022  2020-07-01T00:44:58.864   \n",
       "4      2020-07-01T00:00:13.466  2020-07-01T00:03:24.623   \n",
       "...                        ...                      ...   \n",
       "63401  2020-07-01T23:59:14.810  2020-07-02T00:42:39.641   \n",
       "63402  2020-07-01T23:59:31.484  2020-07-02T00:24:43.816   \n",
       "63403  2020-07-01T23:59:41.007  2020-07-02T00:36:37.743   \n",
       "63404  2020-07-01T23:59:49.088  2020-07-02T00:27:00.728   \n",
       "63405  2020-07-01T23:59:52.299  2020-07-02T00:03:22.002   \n",
       "\n",
       "       start station latitude  start station longitude  end station latitude  \\\n",
       "0                   40.735367               -73.987974             40.733812   \n",
       "1                   40.735367               -73.987974             40.733812   \n",
       "2                   40.717548               -74.013221             40.743349   \n",
       "3                   40.717548               -74.013221             40.743349   \n",
       "4                   40.748000               -73.946093             40.749660   \n",
       "...                       ...                      ...                   ...   \n",
       "63401               40.805159               -73.954692             40.739448   \n",
       "63402               40.717548               -74.013221             40.771771   \n",
       "63403               40.692000               -73.926170             40.711731   \n",
       "63404               40.695734               -73.971297             40.702772   \n",
       "63405               40.782454               -73.948920             40.787721   \n",
       "\n",
       "       end station longitude  \n",
       "0                 -73.980544  \n",
       "1                 -73.980544  \n",
       "2                 -74.006818  \n",
       "3                 -74.006818  \n",
       "4                 -73.952100  \n",
       "...                      ...  \n",
       "63401             -74.005070  \n",
       "63402             -73.990625  \n",
       "63403             -73.991930  \n",
       "63404             -73.993836  \n",
       "63405             -73.947283  \n",
       "\n",
       "[63406 rows x 6 columns]"
      ]
     },
     "execution_count": 233,
     "metadata": {},
     "output_type": "execute_result"
    }
   ],
   "source": [
    "temp"
   ]
  },
  {
   "cell_type": "code",
   "execution_count": 234,
   "metadata": {},
   "outputs": [],
   "source": [
    "def create_geojson_features(df):\n",
    "    features = []\n",
    "    \n",
    "    for _, row in df.iterrows():\n",
    "        start_point = [row['start station longitude'],row['start station latitude']]\n",
    "        end_point = [row['end station longitude'],row['end station latitude']]\n",
    "        feature = {\n",
    "            'type': 'Feature',\n",
    "            'geometry': {\n",
    "                'type':'LineString', #'Point', \n",
    "                'coordinates': [start_point, end_point]\n",
    "            },\n",
    "            'docstring': 'ok',\n",
    "            'properties': {\n",
    "                'times': [row['starttime'], row['starttime']],\n",
    "                'style': {'color' : '#b2d678'}\n",
    "#                 {,\n",
    "#                           'weight': 5\n",
    "#                          }\n",
    "                \n",
    "#                 'icon': 'circle',\n",
    "#                 'iconstyle':{\n",
    "#                     'fillColor': 'red',\n",
    "#                     'fillOpacity': 0,\n",
    "#                     'stroke': 'true',\n",
    "#                     'radius': 5\n",
    "#                 }\n",
    "            }\n",
    "        }\n",
    "        features.append(feature)\n",
    "    return features"
   ]
  },
  {
   "cell_type": "code",
   "execution_count": 235,
   "metadata": {},
   "outputs": [
    {
     "data": {
      "text/plain": [
       "{'type': 'Feature',\n",
       " 'geometry': {'type': 'LineString',\n",
       "  'coordinates': [[-73.98797392845155, 40.735367055605394],\n",
       "   [-73.9805442094803, 40.73381219196632]]},\n",
       " 'docstring': 'ok',\n",
       " 'properties': {'times': ['2020-07-01T00:00:01.302',\n",
       "   '2020-07-01T00:00:01.302'],\n",
       "  'style': {'color': '#b2d678'}}}"
      ]
     },
     "execution_count": 235,
     "metadata": {},
     "output_type": "execute_result"
    }
   ],
   "source": [
    "start_geojson = create_geojson_features(temp) \n",
    "start_geojson[0]"
   ]
  },
  {
   "cell_type": "code",
   "execution_count": 239,
   "metadata": {},
   "outputs": [],
   "source": [
    "m = folium.Map(\n",
    "    location=[40.7504566,-73.9202403],\n",
    "    zoom_start=12,\n",
    "    zoom_control=False,\n",
    "    tiles = \"cartodbdark_matter\"\n",
    ")\n",
    "\n",
    "\n",
    "plugins.TimestampedGeoJson(start_geojson\n",
    "                           ,period = 'PT1S'\n",
    "                           ,duration = 'PT5S'\n",
    "                           ,add_last_point=False\n",
    "                           ,transition_time = 10).add_to(m)\n",
    "\n",
    "m"
   ]
  },
  {
   "cell_type": "code",
   "execution_count": 47,
   "metadata": {},
   "outputs": [],
   "source": [
    "# m = folium.Map(\n",
    "#     location=[40.7504566,-73.9202403],\n",
    "#     zoom_start=12,\n",
    "#     zoom_control=False,\n",
    "#     tiles = \"CartoDB Positron\"\n",
    "# )"
   ]
  },
  {
   "cell_type": "code",
   "execution_count": null,
   "metadata": {},
   "outputs": [],
   "source": [
    "m = folium.Map(\n",
    "    location=[40.7504566,-73.9202403],\n",
    "    zoom_start=12,\n",
    "    zoom_control=False,\n",
    "    tiles = \"CartoDB Positron\"\n",
    ")\n",
    "\n",
    "lines= []\n",
    "for i in range(len(temp)):\n",
    "    if i%300 == 0: print(i)\n",
    "    p1 = [temp.loc[i]['start station latitude'], temp.loc[i]['start station longitude']]\n",
    "    p2 = [temp.loc[i]['end station latitude'], temp.loc[i]['end station longitude']]\n",
    "    hmp = {}\n",
    "    hmp['coordinates'] = [p1, p2]\n",
    "    hmp['dates'] = [temp.loc[i]['starttime'],temp.loc[i]['stoptime']]\n",
    "    hmp['color'] = 'red'\n",
    "    lines.append(hmp)\n",
    "\n",
    "features = [\n",
    "    {\n",
    "        'type': 'Feature',\n",
    "        'geometry': {\n",
    "            'type': 'Point', #'LineString',\n",
    "            'coordinates': line['coordinates'][0],\n",
    "        },\n",
    "        'properties': {\n",
    "            'times': line['dates'],\n",
    "            'style': {\n",
    "                'color': line['color'],\n",
    "                'weight': 5 #line['weight'] if 'weight' in line else 5\n",
    "            }\n",
    "        }\n",
    "    }\n",
    "    for line in lines\n",
    "]\n",
    "\n",
    "# print(features)\n",
    "\n",
    "plugins.TimestampedGeoJson(\n",
    " features\n",
    ", period='PT1M'\n",
    ", add_last_point=True).add_to(m)\n",
    "\n",
    "# # m.save(os.path.join('results', 'Plugins_6.html'))\n",
    "\n",
    "\n",
    "\n",
    "\n",
    "m"
   ]
  },
  {
   "cell_type": "code",
   "execution_count": null,
   "metadata": {},
   "outputs": [],
   "source": []
  },
  {
   "cell_type": "code",
   "execution_count": null,
   "metadata": {},
   "outputs": [],
   "source": [
    "###################################################"
   ]
  },
  {
   "cell_type": "code",
   "execution_count": 180,
   "metadata": {},
   "outputs": [],
   "source": [
    "for p in geo_s:\n",
    "    folium.Circle(\n",
    "        radius=5,\n",
    "        location=[p[0], p[1]],\n",
    "        color='#73aac9',\n",
    "        fill=False,\n",
    "    ).add_to(m)"
   ]
  },
  {
   "cell_type": "code",
   "execution_count": 181,
   "metadata": {},
   "outputs": [],
   "source": [
    "for p in geo_e:\n",
    "    folium.Circle(\n",
    "        radius=5,\n",
    "        location=[p[0], p[1]],\n",
    "        color='#cf907a',\n",
    "        fill=False,\n",
    "    ).add_to(m)"
   ]
  },
  {
   "cell_type": "code",
   "execution_count": null,
   "metadata": {},
   "outputs": [],
   "source": [
    "m"
   ]
  },
  {
   "cell_type": "code",
   "execution_count": 182,
   "metadata": {},
   "outputs": [
    {
     "name": "stdout",
     "output_type": "stream",
     "text": [
      "0\n",
      "300\n",
      "600\n"
     ]
    }
   ],
   "source": [
    "for i in range(len(temp)):\n",
    "    if i%300 == 0: print(i)\n",
    "    p1 = [temp.loc[i]['start station latitude'], temp.loc[i]['start station longitude']]\n",
    "    p2 = [temp.loc[i]['end station latitude'], temp.loc[i]['end station longitude']]\n",
    "    \n",
    "    folium.PolyLine([p1,p2], color=\"#7ab0cf\", weight=2.5, opacity=0.2).add_to(m)"
   ]
  },
  {
   "cell_type": "code",
   "execution_count": 151,
   "metadata": {},
   "outputs": [],
   "source": [
    "# for p in geo_s:\n",
    "#     folium.Marker(\n",
    "#         location=[p[0],p[1]]\n",
    "#     ).add_to(m)\n"
   ]
  },
  {
   "cell_type": "code",
   "execution_count": null,
   "metadata": {},
   "outputs": [],
   "source": [
    "# m"
   ]
  }
 ],
 "metadata": {
  "kernelspec": {
   "display_name": "Python 3",
   "language": "python",
   "name": "python3"
  },
  "language_info": {
   "codemirror_mode": {
    "name": "ipython",
    "version": 3
   },
   "file_extension": ".py",
   "mimetype": "text/x-python",
   "name": "python",
   "nbconvert_exporter": "python",
   "pygments_lexer": "ipython3",
   "version": "3.7.3"
  }
 },
 "nbformat": 4,
 "nbformat_minor": 4
}
