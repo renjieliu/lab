{
 "cells": [
  {
   "cell_type": "code",
   "execution_count": null,
   "metadata": {},
   "outputs": [],
   "source": [
    "#!sudo pip3 install pypyodbc\n",
    "#!sudo apt-get install -y python3-pymssql"
   ]
  },
  {
   "cell_type": "code",
   "execution_count": null,
   "metadata": {
    "scrolled": true
   },
   "outputs": [],
   "source": [
    "import pandas as pd\n",
    "import matplotlib.pyplot as plt\n",
    "import numpy as np\n",
    "import datetime\n",
    "import pymssql\n",
    "import sys"
   ]
  },
  {
   "cell_type": "code",
   "execution_count": null,
   "metadata": {},
   "outputs": [],
   "source": [
    "# pymssql documentation sample:\n",
    "# from os import getenv\n",
    "# import pymssql\n",
    "\n",
    "# server = getenv(\"PYMSSQL_TEST_SERVER\")\n",
    "# user = getenv(\"PYMSSQL_TEST_USERNAME\")\n",
    "# password = getenv(\"PYMSSQL_TEST_PASSWORD\")\n",
    "\n",
    "# conn = pymssql.connect(server, user, password, \"tempdb\")\n",
    "# cursor = conn.cursor()\n",
    "# cursor.execute(\"\"\"\n",
    "# IF OBJECT_ID('persons', 'U') IS NOT NULL\n",
    "#     DROP TABLE persons\n",
    "# CREATE TABLE persons (\n",
    "#     id INT NOT NULL,\n",
    "#     name VARCHAR(100),\n",
    "#     salesrep VARCHAR(100),\n",
    "#     PRIMARY KEY(id)\n",
    "# )\n",
    "# \"\"\")\n",
    "# cursor.executemany(\n",
    "#     \"INSERT INTO persons VALUES (%d, %s, %s)\",\n",
    "#     [(1, 'John Smith', 'John Doe'),\n",
    "#      (2, 'Jane Doe', 'Joe Dog'),\n",
    "#      (3, 'Mike T.', 'Sarah H.')])\n",
    "# # you must call commit() to persist your data if you don't set autocommit to True\n",
    "# conn.commit()\n",
    "\n",
    "# cursor.execute('SELECT * FROM persons WHERE salesrep=%s', 'John Doe')\n",
    "# row = cursor.fetchone()\n",
    "# while row:\n",
    "#     print(\"ID=%d, Name=%s\" % (row[0], row[1]))\n",
    "#     row = cursor.fetchone()\n",
    "\n",
    "# conn.close()"
   ]
  },
  {
   "cell_type": "code",
   "execution_count": null,
   "metadata": {},
   "outputs": [],
   "source": [
    "# sys.executable\n",
    "# !which python\n",
    "# sys.path"
   ]
  },
  {
   "cell_type": "code",
   "execution_count": null,
   "metadata": {},
   "outputs": [],
   "source": [
    "df = pd.read_csv('webtime-tracker-2021-01-17.csv')"
   ]
  },
  {
   "cell_type": "code",
   "execution_count": null,
   "metadata": {},
   "outputs": [],
   "source": [
    "df.head()"
   ]
  },
  {
   "cell_type": "code",
   "execution_count": null,
   "metadata": {
    "scrolled": true
   },
   "outputs": [],
   "source": [
    "df = df.melt(id_vars = ['Domain'],value_name='seconds', var_name='date' )"
   ]
  },
  {
   "cell_type": "code",
   "execution_count": null,
   "metadata": {},
   "outputs": [],
   "source": [
    "# df"
   ]
  },
  {
   "cell_type": "code",
   "execution_count": null,
   "metadata": {},
   "outputs": [],
   "source": [
    "arr = df.to_numpy()"
   ]
  },
  {
   "cell_type": "code",
   "execution_count": null,
   "metadata": {},
   "outputs": [],
   "source": [
    "# currTime = datetime.datetime.now().strftime(\"%Y-%m-%d %H:%M:%S\")\n",
    "# location = 'UN laptop'\n",
    "# pre = \"insert into webTracker values('\"\n",
    "# post = \", '\" + location + \"', '\" + currTime +  \"')\" \n",
    "# command = []\n",
    "# for domain, date, length in arr: # there's a chance the there will be more than 1 columns for same date. named like date.1, date.2. We will only take the date part.\n",
    "#     command.append(pre+ domain + \"','\"  + date.split('.')[0] + \"',\" + str(length) + post)"
   ]
  },
  {
   "cell_type": "code",
   "execution_count": null,
   "metadata": {},
   "outputs": [],
   "source": [
    "currTime = datetime.datetime.now().strftime(\"%Y-%m-%d %H:%M:%S\")\n",
    "location = 'UN laptop'"
   ]
  },
  {
   "cell_type": "code",
   "execution_count": null,
   "metadata": {},
   "outputs": [],
   "source": [
    "arr"
   ]
  },
  {
   "cell_type": "code",
   "execution_count": null,
   "metadata": {},
   "outputs": [],
   "source": [
    "command = []\n",
    "pre = \"INSERT INTO webTracker VALUES (%s, %s, %s, %s, %s)\" #domain, visit_date, visit_length, visit_from, record_insert_date\n",
    "for domain, date, length in arr: # there's a chance the there will be more than 1 columns for same date. named like date.1, date.2. We will only take the date part.\n",
    "    command.append( (domain, date.split('.')[0], length, location, currTime) )\n",
    "    "
   ]
  },
  {
   "cell_type": "code",
   "execution_count": null,
   "metadata": {},
   "outputs": [],
   "source": [
    "len(command)"
   ]
  },
  {
   "cell_type": "code",
   "execution_count": null,
   "metadata": {},
   "outputs": [],
   "source": [
    "server = \"server\"\n",
    "user = \"user\"\n",
    "password = \"password\"\n",
    "db = \"dbname\""
   ]
  },
  {
   "cell_type": "code",
   "execution_count": null,
   "metadata": {},
   "outputs": [],
   "source": [
    "# currTime = datetime.datetime.now().strftime(\"%Y-%m-%d %H:%M:%S\")\n",
    "# location = 'UN laptop'\n",
    "# pre = \"INSERT INTO webTracker VALUES (%d, %s, %s, %s, %s)\"\n",
    "\n",
    "# command = []\n",
    "# for domain, date, length in arr: # there's a change the there will be more than 1 columns for same date. named like date.1, date.2. We will only take the date part.\n",
    "#     command.append(pre+ domain + \"','\"  + date.split('.')[0] + \"',\" + str(length) + post)"
   ]
  },
  {
   "cell_type": "code",
   "execution_count": null,
   "metadata": {},
   "outputs": [],
   "source": [
    "conn = pymssql.connect(server, user, password, db)"
   ]
  },
  {
   "cell_type": "code",
   "execution_count": null,
   "metadata": {},
   "outputs": [],
   "source": [
    "cursor = conn.cursor()"
   ]
  },
  {
   "cell_type": "code",
   "execution_count": null,
   "metadata": {},
   "outputs": [],
   "source": []
  },
  {
   "cell_type": "code",
   "execution_count": null,
   "metadata": {},
   "outputs": [],
   "source": [
    "cursor.executemany(\n",
    "    pre,\n",
    "    command)"
   ]
  },
  {
   "cell_type": "code",
   "execution_count": null,
   "metadata": {},
   "outputs": [],
   "source": [
    "# for c in command:\n",
    "#     cursor.execute(c)"
   ]
  },
  {
   "cell_type": "code",
   "execution_count": null,
   "metadata": {},
   "outputs": [],
   "source": [
    "conn.commit()"
   ]
  },
  {
   "cell_type": "code",
   "execution_count": null,
   "metadata": {},
   "outputs": [],
   "source": [
    "cursor.execute(\"SELECT cnt = count(*) FROM webTracker WHERE record_insert_date= %s\", currTime)\n",
    "\n",
    "for row in cursor:\n",
    "    print('Inserted %s records' %row[0])\n"
   ]
  },
  {
   "cell_type": "code",
   "execution_count": null,
   "metadata": {},
   "outputs": [],
   "source": [
    "conn.close()"
   ]
  },
  {
   "cell_type": "code",
   "execution_count": null,
   "metadata": {},
   "outputs": [],
   "source": []
  }
 ],
 "metadata": {
  "kernelspec": {
   "display_name": "Python 3",
   "language": "python",
   "name": "python3"
  },
  "language_info": {
   "codemirror_mode": {
    "name": "ipython",
    "version": 3
   },
   "file_extension": ".py",
   "mimetype": "text/x-python",
   "name": "python",
   "nbconvert_exporter": "python",
   "pygments_lexer": "ipython3",
   "version": "3.7.3"
  }
 },
 "nbformat": 4,
 "nbformat_minor": 4
}
