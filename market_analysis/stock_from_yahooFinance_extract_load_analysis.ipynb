{
 "cells": [
  {
   "cell_type": "code",
   "execution_count": 8,
   "metadata": {},
   "outputs": [],
   "source": [
    "import random\n",
    "import numpy as np\n",
    "import pandas as pd\n",
    "import matplotlib.pyplot as plt\n",
    "import json\n",
    "import re\n",
    "import os\n",
    "import base64\n",
    "import datetime\n",
    "import warnings\n",
    "warnings.filterwarnings('ignore')\n",
    "import pymssql"
   ]
  },
  {
   "cell_type": "code",
   "execution_count": 160,
   "metadata": {},
   "outputs": [],
   "source": [
    "def get_tick_data(tick):\n",
    "    df = pd.DataFrame()\n",
    "    try:\n",
    "        error = 0\n",
    "        period_start = 0\n",
    "        perid_end = 9999999999\n",
    "        df = pd.read_csv(f'https://query1.finance.yahoo.com/v7/finance/download/{tick}?period1={period_start}&period2={perid_end}&interval=1d&events=history&includeAdjustedClose=true')\n",
    "    except:\n",
    "        error = 1\n",
    "        print('check url and ticks')\n",
    "    if error == 0:\n",
    "        df.to_csv(f'{tick}.csv')\n",
    "        return df"
   ]
  },
  {
   "cell_type": "code",
   "execution_count": 165,
   "metadata": {},
   "outputs": [],
   "source": [
    "def load_tick(tick, server, user, password, db, tableName):\n",
    "    df = get_tick_data(tick)\n",
    "    #clean up the df, make it same structure as the target table\n",
    "    df.insert(0, 'tick', tick) # index, colName, value\n",
    "    currTime = datetime.datetime.now().strftime(\"%Y-%m-%d %H:%M:%S\")\n",
    "    df['Insert_Date'] = currTime\n",
    "    #get the column name\n",
    "    cols = list(df.columns)\n",
    "    for i in range(len(cols)):\n",
    "        cols[i] = str(cols[i]).replace(' ','_')\n",
    "    \n",
    "    df = df.to_numpy()\n",
    "    \n",
    "    command = []\n",
    "    for r in df:\n",
    "        r = list(r) + [currTime]\n",
    "        curr = f\"insert into {tableName} values('\"\n",
    "        for i in range(len(cols)):\n",
    "            curr+= str(r[i]) + \"','\"\n",
    "        curr = curr[:-2]\n",
    "        curr+=\")\"\n",
    "        command.append(curr)\n",
    "    \n",
    "    # execute the insert \n",
    "    conn = pymssql.connect(server, user, password, db)\n",
    "    cursor = conn.cursor()\n",
    "    cnt = 0\n",
    "    for c in command:\n",
    "        cnt += 1 \n",
    "        cursor.execute(c)\n",
    "        if cnt % 1000 == 0:\n",
    "            print(cnt)\n",
    "    conn.commit()\n",
    "    conn.close()\n",
    "    print(f'{cnt} records inserted')"
   ]
  },
  {
   "cell_type": "code",
   "execution_count": 175,
   "metadata": {},
   "outputs": [],
   "source": [
    "server = \"Xxxxxxx\"\n",
    "user = \"xxxxxx\"\n",
    "password = \"xxxxxxx\"\n",
    "db = \"Test\"\n",
    "tableName = \"market\"\n",
    "ticks = ['bidu']"
   ]
  },
  {
   "cell_type": "code",
   "execution_count": 176,
   "metadata": {
    "scrolled": true
   },
   "outputs": [
    {
     "name": "stdout",
     "output_type": "stream",
     "text": [
      "Loading: bidu\n",
      "1000\n",
      "2000\n",
      "3000\n",
      "3900 records inserted\n"
     ]
    }
   ],
   "source": [
    "for tick in ticks:\n",
    "    print(f'Loading: {tick}')\n",
    "    load_tick(tick.upper(), server, user, password, db, tableName)"
   ]
  },
  {
   "cell_type": "code",
   "execution_count": null,
   "metadata": {},
   "outputs": [],
   "source": []
  },
  {
   "cell_type": "code",
   "execution_count": null,
   "metadata": {},
   "outputs": [],
   "source": []
  },
  {
   "cell_type": "code",
   "execution_count": null,
   "metadata": {},
   "outputs": [],
   "source": []
  },
  {
   "cell_type": "code",
   "execution_count": null,
   "metadata": {},
   "outputs": [],
   "source": []
  },
  {
   "cell_type": "code",
   "execution_count": null,
   "metadata": {},
   "outputs": [],
   "source": []
  },
  {
   "cell_type": "code",
   "execution_count": null,
   "metadata": {},
   "outputs": [],
   "source": []
  }
 ],
 "metadata": {
  "kernelspec": {
   "display_name": "Python 3",
   "language": "python",
   "name": "python3"
  },
  "language_info": {
   "codemirror_mode": {
    "name": "ipython",
    "version": 3
   },
   "file_extension": ".py",
   "mimetype": "text/x-python",
   "name": "python",
   "nbconvert_exporter": "python",
   "pygments_lexer": "ipython3",
   "version": "3.7.3"
  }
 },
 "nbformat": 4,
 "nbformat_minor": 4
}
